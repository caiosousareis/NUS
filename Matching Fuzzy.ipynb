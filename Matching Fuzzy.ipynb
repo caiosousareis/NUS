{
 "cells": [
  {
   "cell_type": "code",
   "execution_count": 1,
   "id": "29618bd2",
   "metadata": {},
   "outputs": [],
   "source": [
    "import pandas as pd\n",
    "from fuzzywuzzy import fuzz\n",
    "from fuzzywuzzy import process\n"
   ]
  },
  {
   "cell_type": "code",
   "execution_count": 2,
   "id": "49a7b2ea",
   "metadata": {},
   "outputs": [],
   "source": [
    "\n",
    "# Carregue os DataFrames origem_ID e text do CSV\n",
    "\n",
    "\n",
    "caminho_arquivo_1= 'cod_material_servico.txt'\n",
    "origem_ID = pd.read_csv(caminho_arquivo_1,sep=\";\" )\n",
    "\n",
    "caminho_arquivo_2= 'text.txt'\n",
    "text = pd.read_csv(caminho_arquivo_2,sep=\",\" )\n"
   ]
  },
  {
   "cell_type": "code",
   "execution_count": null,
   "id": "a47a0cc6",
   "metadata": {},
   "outputs": [],
   "source": [
    "\n",
    "# Função para encontrar a correspondência fuzzy e retornar a correspondência com o maior score\n",
    "def find_best_match(row):\n",
    "    matches = process.extractOne(row['classif'], text['dsc_item'], scorer=fuzz.ratio)  # Substitua 'coluna_com_nome_real' pelo nome real da coluna em 'text'\n",
    "    return pd.Series([row['classif'], matches[0]])\n",
    "\n",
    "# Aplicar a função de correspondência fuzzy e criar o novo DataFrame\n",
    "matches_df = origem_ID.apply(find_best_match, axis=1)\n",
    "matches_df.columns = ['classif', 'melhor_classif']\n",
    "\n",
    "# Salvar o DataFrame resultante em um novo CSV\n",
    "matches_df.to_csv('resultado.csv', index=False)\n",
    "\n",
    "# Exibir as primeiras linhas do DataFrame resultante\n",
    "print(matches_df.head())\n",
    "\n"
   ]
  },
  {
   "cell_type": "code",
   "execution_count": null,
   "id": "3a9ff290",
   "metadata": {},
   "outputs": [],
   "source": []
  },
  {
   "cell_type": "code",
   "execution_count": null,
   "id": "931bdc0b",
   "metadata": {},
   "outputs": [],
   "source": []
  },
  {
   "cell_type": "code",
   "execution_count": null,
   "id": "f75c34a1",
   "metadata": {},
   "outputs": [],
   "source": []
  }
 ],
 "metadata": {
  "kernelspec": {
   "display_name": "Python 3 (ipykernel)",
   "language": "python",
   "name": "python3"
  },
  "language_info": {
   "codemirror_mode": {
    "name": "ipython",
    "version": 3
   },
   "file_extension": ".py",
   "mimetype": "text/x-python",
   "name": "python",
   "nbconvert_exporter": "python",
   "pygments_lexer": "ipython3",
   "version": "3.10.9"
  }
 },
 "nbformat": 4,
 "nbformat_minor": 5
}
