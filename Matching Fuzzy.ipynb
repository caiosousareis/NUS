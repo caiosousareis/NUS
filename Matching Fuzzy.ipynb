{
 "cells": [
  {
   "cell_type": "code",
   "execution_count": 1,
   "id": "7c315d95",
   "metadata": {},
   "outputs": [],
   "source": [
    "import pandas as pd\n",
    "from fuzzywuzzy import fuzz\n",
    "from fuzzywuzzy import process\n"
   ]
  },
  {
   "cell_type": "code",
   "execution_count": 2,
   "id": "0003bae9",
   "metadata": {},
   "outputs": [],
   "source": [
    "\n",
    "# Carregue os DataFrames origem_ID e text do CSV\n",
    "\n",
    "\n",
    "caminho_arquivo_1= 'cod_material_servico.txt'\n",
    "origem_ID = pd.read_csv(caminho_arquivo_1,sep=\";\" )\n",
    "\n",
    "caminho_arquivo_2= 'text.txt'\n",
    "text = pd.read_csv(caminho_arquivo_2,sep=\",\" )\n"
   ]
  },
  {
   "cell_type": "code",
   "execution_count": null,
   "id": "b8f44110",
   "metadata": {},
   "outputs": [],
   "source": [
    "# Função para encontrar a correspondência fuzzy e retornar a correspondência com o maior score\n",
    "def find_best_match(row):\n",
    "    matches = process.extractOne(row['classif'], text['dsc_item'], scorer=fuzz.ratio)\n",
    "    return pd.Series([row['classif'], matches[0]])\n",
    "\n",
    "# Aplicar a função de correspondência fuzzy e criar o novo DataFrame\n",
    "matches_df = origem_ID.apply(find_best_match, axis=1)\n",
    "matches_df.columns = ['classif', 'melhor_classif']\n",
    "\n",
    "# Salvar o DataFrame resultante em um novo CSV\n",
    "matches_df.to_csv('resultado.csv', index=False)\n",
    "\n",
    "# Exibir as primeiras linhas do DataFrame resultante\n",
    "print(matches_df.head())\n",
    "\n",
    "\n"
   ]
  },
  {
   "cell_type": "code",
   "execution_count": null,
   "id": "779eb7cc",
   "metadata": {},
   "outputs": [],
   "source": [
    "#Limpando text.txt\n",
    "\n",
    "text['dsc_item'] = text['dsc_item'].astype(str)\n",
    "df[\"dsc_item\"] = df[\"dsc_item\"].apply(lambda x: x.lower()) #converte todas as letras para minúsculo \n",
    "df[\"dsc_item\"] = df[\"dsc_item\"].apply(lambda x: re.sub('|,|\\.|/|$|\\(|\\)|-|\\+|:|•', '', x)) #remove números e caracteres especiais \n",
    "df[\"dsc_item\"] = df[\"dsc_item\"].apply(lambda x: unidecode(x)) #remove acentos \n",
    "stemmer = nltk.stem.RSLPStemmer() #converte as palavras para seu radical \n",
    "df[\"dsc_item\"] = df[\"dsc_item\"].apply(lambda x: stemmer.stem(x))\n",
    "\n",
    "# Função para encontrar a correspondência fuzzy e retornar a correspondência com o maior score\n",
    "def find_best_match(row):\n",
    "    matches = process.extractOne(row['classif'], text['dsc_item'], scorer=fuzz.ratio)\n",
    "    return pd.Series([row['classif'], matches[0], matches[1]])\n",
    "\n",
    "# Aplicar a função de correspondência fuzzy e criar um novo DataFrame com os resultados\n",
    "resultados = origem_ID.apply(find_best_match, axis=1)\n",
    "resultados.columns = ['classif_origem', 'melhor_dst_item', 'score']\n",
    "\n",
    "# Filtre apenas as linhas com um score acima de um determinado limite (opcional)\n",
    "score_limite = 80  # Você pode ajustar esse limite conforme necessário\n",
    "resultados_filtrados = resultados[resultados['score'] >= score_limite]\n",
    "\n",
    "# Salvar o DataFrame resultante em um novo CSV\n",
    "resultados_filtrados.to_csv('resultado.csv', index=False)\n",
    "\n",
    "# Exibir as primeiras linhas do DataFrame resultante\n",
    "print(resultados_filtrados.head())\n"
   ]
  },
  {
   "cell_type": "code",
   "execution_count": null,
   "id": "20f12d57",
   "metadata": {},
   "outputs": [],
   "source": []
  },
  {
   "cell_type": "code",
   "execution_count": null,
   "id": "b452cde5",
   "metadata": {},
   "outputs": [],
   "source": []
  }
 ],
 "metadata": {
  "kernelspec": {
   "display_name": "Python 3 (ipykernel)",
   "language": "python",
   "name": "python3"
  },
  "language_info": {
   "codemirror_mode": {
    "name": "ipython",
    "version": 3
   },
   "file_extension": ".py",
   "mimetype": "text/x-python",
   "name": "python",
   "nbconvert_exporter": "python",
   "pygments_lexer": "ipython3",
   "version": "3.10.9"
  }
 },
 "nbformat": 4,
 "nbformat_minor": 5
}
