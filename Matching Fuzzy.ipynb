{
 "cells": [
  {
   "cell_type": "code",
   "execution_count": 1,
   "id": "7c315d95",
   "metadata": {},
   "outputs": [
    {
     "name": "stdout",
     "output_type": "stream",
     "text": [
      "Importado1\n"
     ]
    },
    {
     "name": "stderr",
     "output_type": "stream",
     "text": [
      "[nltk_data] Downloading package rslp to\n",
      "[nltk_data]     C:\\Users\\caios\\AppData\\Roaming\\nltk_data...\n",
      "[nltk_data]   Package rslp is already up-to-date!\n",
      "[nltk_data] Downloading package stopwords to\n",
      "[nltk_data]     C:\\Users\\caios\\AppData\\Roaming\\nltk_data...\n",
      "[nltk_data]   Package stopwords is already up-to-date!\n"
     ]
    },
    {
     "data": {
      "text/plain": [
       "True"
      ]
     },
     "execution_count": 1,
     "metadata": {},
     "output_type": "execute_result"
    }
   ],
   "source": [
    "import pandas as pd\n",
    "from fuzzywuzzy import fuzz\n",
    "from fuzzywuzzy import process\n",
    "import numpy as np\n",
    "from sklearn.cluster import MiniBatchKMeans\n",
    "from sklearn.feature_extraction.text import TfidfVectorizer\n",
    "from sklearn.decomposition import PCA\n",
    "import matplotlib.pyplot as plt\n",
    "import nltk\n",
    "from sklearn.metrics import silhouette_samples, silhouette_score, v_measure_score\n",
    "from sklearn.datasets import load_files\n",
    "import re\n",
    "from unidecode import unidecode\n",
    "from mpl_toolkits import mplot3d\n",
    "from yellowbrick.cluster import KElbowVisualizer\n",
    "print(\"Importado1\")\n",
    "\n",
    "\n",
    "nltk.download('rslp')\n",
    "nltk.download('stopwords')\n"
   ]
  },
  {
   "cell_type": "code",
   "execution_count": 2,
   "id": "0003bae9",
   "metadata": {},
   "outputs": [],
   "source": [
    "\n",
    "# Carregue os DataFrames origem_ID e text do CSV\n",
    "\n",
    "\n",
    "caminho_arquivo_1= 'cod_material_servico.txt'\n",
    "origem_ID = pd.read_csv(caminho_arquivo_1,sep=\";\" )\n",
    "\n",
    "caminho_arquivo_2= 'text.txt'\n",
    "text = pd.read_csv(caminho_arquivo_2,sep=\",\" )\n"
   ]
  },
  {
   "cell_type": "code",
   "execution_count": 9,
   "id": "b8f44110",
   "metadata": {},
   "outputs": [
    {
     "ename": "KeyboardInterrupt",
     "evalue": "",
     "output_type": "error",
     "traceback": [
      "\u001b[1;31m---------------------------------------------------------------------------\u001b[0m",
      "\u001b[1;31mKeyboardInterrupt\u001b[0m                         Traceback (most recent call last)",
      "Cell \u001b[1;32mIn[9], line 7\u001b[0m\n\u001b[0;32m      4\u001b[0m     \u001b[38;5;28;01mreturn\u001b[39;00m pd\u001b[38;5;241m.\u001b[39mSeries([row[\u001b[38;5;124m'\u001b[39m\u001b[38;5;124mclassif\u001b[39m\u001b[38;5;124m'\u001b[39m], matches[\u001b[38;5;241m0\u001b[39m]])\n\u001b[0;32m      6\u001b[0m \u001b[38;5;66;03m# Aplicar a função de correspondência fuzzy e criar o novo DataFrame\u001b[39;00m\n\u001b[1;32m----> 7\u001b[0m matches_df \u001b[38;5;241m=\u001b[39m \u001b[43morigem_ID\u001b[49m\u001b[38;5;241;43m.\u001b[39;49m\u001b[43mapply\u001b[49m\u001b[43m(\u001b[49m\u001b[43mfind_best_match\u001b[49m\u001b[43m,\u001b[49m\u001b[43m \u001b[49m\u001b[43maxis\u001b[49m\u001b[38;5;241;43m=\u001b[39;49m\u001b[38;5;241;43m1\u001b[39;49m\u001b[43m)\u001b[49m\n\u001b[0;32m      8\u001b[0m matches_df\u001b[38;5;241m.\u001b[39mcolumns \u001b[38;5;241m=\u001b[39m [\u001b[38;5;124m'\u001b[39m\u001b[38;5;124mclassif\u001b[39m\u001b[38;5;124m'\u001b[39m, \u001b[38;5;124m'\u001b[39m\u001b[38;5;124mmelhor_classif\u001b[39m\u001b[38;5;124m'\u001b[39m]\n\u001b[0;32m     10\u001b[0m \u001b[38;5;66;03m# Salvar o DataFrame resultante em um novo CSV\u001b[39;00m\n",
      "File \u001b[1;32m~\\anaconda3\\lib\\site-packages\\pandas\\core\\frame.py:9568\u001b[0m, in \u001b[0;36mDataFrame.apply\u001b[1;34m(self, func, axis, raw, result_type, args, **kwargs)\u001b[0m\n\u001b[0;32m   9557\u001b[0m \u001b[38;5;28;01mfrom\u001b[39;00m \u001b[38;5;21;01mpandas\u001b[39;00m\u001b[38;5;21;01m.\u001b[39;00m\u001b[38;5;21;01mcore\u001b[39;00m\u001b[38;5;21;01m.\u001b[39;00m\u001b[38;5;21;01mapply\u001b[39;00m \u001b[38;5;28;01mimport\u001b[39;00m frame_apply\n\u001b[0;32m   9559\u001b[0m op \u001b[38;5;241m=\u001b[39m frame_apply(\n\u001b[0;32m   9560\u001b[0m     \u001b[38;5;28mself\u001b[39m,\n\u001b[0;32m   9561\u001b[0m     func\u001b[38;5;241m=\u001b[39mfunc,\n\u001b[1;32m   (...)\u001b[0m\n\u001b[0;32m   9566\u001b[0m     kwargs\u001b[38;5;241m=\u001b[39mkwargs,\n\u001b[0;32m   9567\u001b[0m )\n\u001b[1;32m-> 9568\u001b[0m \u001b[38;5;28;01mreturn\u001b[39;00m \u001b[43mop\u001b[49m\u001b[38;5;241;43m.\u001b[39;49m\u001b[43mapply\u001b[49m\u001b[43m(\u001b[49m\u001b[43m)\u001b[49m\u001b[38;5;241m.\u001b[39m__finalize__(\u001b[38;5;28mself\u001b[39m, method\u001b[38;5;241m=\u001b[39m\u001b[38;5;124m\"\u001b[39m\u001b[38;5;124mapply\u001b[39m\u001b[38;5;124m\"\u001b[39m)\n",
      "File \u001b[1;32m~\\anaconda3\\lib\\site-packages\\pandas\\core\\apply.py:764\u001b[0m, in \u001b[0;36mFrameApply.apply\u001b[1;34m(self)\u001b[0m\n\u001b[0;32m    761\u001b[0m \u001b[38;5;28;01melif\u001b[39;00m \u001b[38;5;28mself\u001b[39m\u001b[38;5;241m.\u001b[39mraw:\n\u001b[0;32m    762\u001b[0m     \u001b[38;5;28;01mreturn\u001b[39;00m \u001b[38;5;28mself\u001b[39m\u001b[38;5;241m.\u001b[39mapply_raw()\n\u001b[1;32m--> 764\u001b[0m \u001b[38;5;28;01mreturn\u001b[39;00m \u001b[38;5;28;43mself\u001b[39;49m\u001b[38;5;241;43m.\u001b[39;49m\u001b[43mapply_standard\u001b[49m\u001b[43m(\u001b[49m\u001b[43m)\u001b[49m\n",
      "File \u001b[1;32m~\\anaconda3\\lib\\site-packages\\pandas\\core\\apply.py:891\u001b[0m, in \u001b[0;36mFrameApply.apply_standard\u001b[1;34m(self)\u001b[0m\n\u001b[0;32m    890\u001b[0m \u001b[38;5;28;01mdef\u001b[39;00m \u001b[38;5;21mapply_standard\u001b[39m(\u001b[38;5;28mself\u001b[39m):\n\u001b[1;32m--> 891\u001b[0m     results, res_index \u001b[38;5;241m=\u001b[39m \u001b[38;5;28;43mself\u001b[39;49m\u001b[38;5;241;43m.\u001b[39;49m\u001b[43mapply_series_generator\u001b[49m\u001b[43m(\u001b[49m\u001b[43m)\u001b[49m\n\u001b[0;32m    893\u001b[0m     \u001b[38;5;66;03m# wrap results\u001b[39;00m\n\u001b[0;32m    894\u001b[0m     \u001b[38;5;28;01mreturn\u001b[39;00m \u001b[38;5;28mself\u001b[39m\u001b[38;5;241m.\u001b[39mwrap_results(results, res_index)\n",
      "File \u001b[1;32m~\\anaconda3\\lib\\site-packages\\pandas\\core\\apply.py:907\u001b[0m, in \u001b[0;36mFrameApply.apply_series_generator\u001b[1;34m(self)\u001b[0m\n\u001b[0;32m    904\u001b[0m \u001b[38;5;28;01mwith\u001b[39;00m option_context(\u001b[38;5;124m\"\u001b[39m\u001b[38;5;124mmode.chained_assignment\u001b[39m\u001b[38;5;124m\"\u001b[39m, \u001b[38;5;28;01mNone\u001b[39;00m):\n\u001b[0;32m    905\u001b[0m     \u001b[38;5;28;01mfor\u001b[39;00m i, v \u001b[38;5;129;01min\u001b[39;00m \u001b[38;5;28menumerate\u001b[39m(series_gen):\n\u001b[0;32m    906\u001b[0m         \u001b[38;5;66;03m# ignore SettingWithCopy here in case the user mutates\u001b[39;00m\n\u001b[1;32m--> 907\u001b[0m         results[i] \u001b[38;5;241m=\u001b[39m \u001b[38;5;28;43mself\u001b[39;49m\u001b[38;5;241;43m.\u001b[39;49m\u001b[43mf\u001b[49m\u001b[43m(\u001b[49m\u001b[43mv\u001b[49m\u001b[43m)\u001b[49m\n\u001b[0;32m    908\u001b[0m         \u001b[38;5;28;01mif\u001b[39;00m \u001b[38;5;28misinstance\u001b[39m(results[i], ABCSeries):\n\u001b[0;32m    909\u001b[0m             \u001b[38;5;66;03m# If we have a view on v, we need to make a copy because\u001b[39;00m\n\u001b[0;32m    910\u001b[0m             \u001b[38;5;66;03m#  series_generator will swap out the underlying data\u001b[39;00m\n\u001b[0;32m    911\u001b[0m             results[i] \u001b[38;5;241m=\u001b[39m results[i]\u001b[38;5;241m.\u001b[39mcopy(deep\u001b[38;5;241m=\u001b[39m\u001b[38;5;28;01mFalse\u001b[39;00m)\n",
      "Cell \u001b[1;32mIn[9], line 3\u001b[0m, in \u001b[0;36mfind_best_match\u001b[1;34m(row)\u001b[0m\n\u001b[0;32m      2\u001b[0m \u001b[38;5;28;01mdef\u001b[39;00m \u001b[38;5;21mfind_best_match\u001b[39m(row):\n\u001b[1;32m----> 3\u001b[0m     matches \u001b[38;5;241m=\u001b[39m \u001b[43mprocess\u001b[49m\u001b[38;5;241;43m.\u001b[39;49m\u001b[43mextractOne\u001b[49m\u001b[43m(\u001b[49m\u001b[43mrow\u001b[49m\u001b[43m[\u001b[49m\u001b[38;5;124;43m'\u001b[39;49m\u001b[38;5;124;43mclassif\u001b[39;49m\u001b[38;5;124;43m'\u001b[39;49m\u001b[43m]\u001b[49m\u001b[43m,\u001b[49m\u001b[43m \u001b[49m\u001b[43mtext\u001b[49m\u001b[43m[\u001b[49m\u001b[38;5;124;43m'\u001b[39;49m\u001b[38;5;124;43mdsc_item\u001b[39;49m\u001b[38;5;124;43m'\u001b[39;49m\u001b[43m]\u001b[49m\u001b[43m,\u001b[49m\u001b[43m \u001b[49m\u001b[43mscorer\u001b[49m\u001b[38;5;241;43m=\u001b[39;49m\u001b[43mfuzz\u001b[49m\u001b[38;5;241;43m.\u001b[39;49m\u001b[43mratio\u001b[49m\u001b[43m)\u001b[49m\n\u001b[0;32m      4\u001b[0m     \u001b[38;5;28;01mreturn\u001b[39;00m pd\u001b[38;5;241m.\u001b[39mSeries([row[\u001b[38;5;124m'\u001b[39m\u001b[38;5;124mclassif\u001b[39m\u001b[38;5;124m'\u001b[39m], matches[\u001b[38;5;241m0\u001b[39m]])\n",
      "File \u001b[1;32m~\\anaconda3\\lib\\site-packages\\fuzzywuzzy\\process.py:220\u001b[0m, in \u001b[0;36mextractOne\u001b[1;34m(query, choices, processor, scorer, score_cutoff)\u001b[0m\n\u001b[0;32m    218\u001b[0m best_list \u001b[38;5;241m=\u001b[39m extractWithoutOrder(query, choices, processor, scorer, score_cutoff)\n\u001b[0;32m    219\u001b[0m \u001b[38;5;28;01mtry\u001b[39;00m:\n\u001b[1;32m--> 220\u001b[0m     \u001b[38;5;28;01mreturn\u001b[39;00m \u001b[38;5;28;43mmax\u001b[39;49m\u001b[43m(\u001b[49m\u001b[43mbest_list\u001b[49m\u001b[43m,\u001b[49m\u001b[43m \u001b[49m\u001b[43mkey\u001b[49m\u001b[38;5;241;43m=\u001b[39;49m\u001b[38;5;28;43;01mlambda\u001b[39;49;00m\u001b[43m \u001b[49m\u001b[43mi\u001b[49m\u001b[43m:\u001b[49m\u001b[43m \u001b[49m\u001b[43mi\u001b[49m\u001b[43m[\u001b[49m\u001b[38;5;241;43m1\u001b[39;49m\u001b[43m]\u001b[49m\u001b[43m)\u001b[49m\n\u001b[0;32m    221\u001b[0m \u001b[38;5;28;01mexcept\u001b[39;00m \u001b[38;5;167;01mValueError\u001b[39;00m:\n\u001b[0;32m    222\u001b[0m     \u001b[38;5;28;01mreturn\u001b[39;00m \u001b[38;5;28;01mNone\u001b[39;00m\n",
      "File \u001b[1;32m~\\anaconda3\\lib\\site-packages\\fuzzywuzzy\\process.py:109\u001b[0m, in \u001b[0;36mextractWithoutOrder\u001b[1;34m(query, choices, processor, scorer, score_cutoff)\u001b[0m\n\u001b[0;32m    106\u001b[0m \u001b[38;5;28;01mtry\u001b[39;00m:\n\u001b[0;32m    107\u001b[0m     \u001b[38;5;66;03m# See if choices is a dictionary-like object.\u001b[39;00m\n\u001b[0;32m    108\u001b[0m     \u001b[38;5;28;01mfor\u001b[39;00m key, choice \u001b[38;5;129;01min\u001b[39;00m choices\u001b[38;5;241m.\u001b[39mitems():\n\u001b[1;32m--> 109\u001b[0m         processed \u001b[38;5;241m=\u001b[39m pre_processor(\u001b[43mprocessor\u001b[49m\u001b[43m(\u001b[49m\u001b[43mchoice\u001b[49m\u001b[43m)\u001b[49m)\n\u001b[0;32m    110\u001b[0m         score \u001b[38;5;241m=\u001b[39m scorer(processed_query, processed)\n\u001b[0;32m    111\u001b[0m         \u001b[38;5;28;01mif\u001b[39;00m score \u001b[38;5;241m>\u001b[39m\u001b[38;5;241m=\u001b[39m score_cutoff:\n",
      "File \u001b[1;32m~\\anaconda3\\lib\\site-packages\\fuzzywuzzy\\utils.py:97\u001b[0m, in \u001b[0;36mfull_process\u001b[1;34m(s, force_ascii)\u001b[0m\n\u001b[0;32m     95\u001b[0m string_out \u001b[38;5;241m=\u001b[39m StringProcessor\u001b[38;5;241m.\u001b[39mreplace_non_letters_non_numbers_with_whitespace(s)\n\u001b[0;32m     96\u001b[0m \u001b[38;5;66;03m# Force into lowercase.\u001b[39;00m\n\u001b[1;32m---> 97\u001b[0m string_out \u001b[38;5;241m=\u001b[39m \u001b[43mStringProcessor\u001b[49m\u001b[38;5;241;43m.\u001b[39;49m\u001b[43mto_lower_case\u001b[49m\u001b[43m(\u001b[49m\u001b[43mstring_out\u001b[49m\u001b[43m)\u001b[49m\n\u001b[0;32m     98\u001b[0m \u001b[38;5;66;03m# Remove leading and trailing whitespaces.\u001b[39;00m\n\u001b[0;32m     99\u001b[0m string_out \u001b[38;5;241m=\u001b[39m StringProcessor\u001b[38;5;241m.\u001b[39mstrip(string_out)\n",
      "\u001b[1;31mKeyboardInterrupt\u001b[0m: "
     ]
    }
   ],
   "source": [
    "# Função para encontrar a correspondência fuzzy e retornar a correspondência com o maior score\n",
    "def find_best_match(row):\n",
    "    matches = process.extractOne(row['classif'], text['dsc_item'], scorer=fuzz.ratio)\n",
    "    return pd.Series([row['classif'], matches[0]])\n",
    "\n",
    "# Aplicar a função de correspondência fuzzy e criar o novo DataFrame\n",
    "matches_df = origem_ID.apply(find_best_match, axis=1)\n",
    "matches_df.columns = ['classif', 'melhor_classif']\n",
    "\n",
    "# Salvar o DataFrame resultante em um novo CSV\n",
    "matches_df.to_csv('resultado.csv', index=False)\n",
    "\n",
    "# Exibir as primeiras linhas do DataFrame resultante\n",
    "print(matches_df.head())\n",
    "\n",
    "\n"
   ]
  },
  {
   "cell_type": "code",
   "execution_count": 4,
   "id": "779eb7cc",
   "metadata": {},
   "outputs": [
    {
     "name": "stdout",
     "output_type": "stream",
     "text": [
      "           classif_origem          melhor_dst_item  score\n",
      "6519   reparo bomba d'agu  reparo da bomba d'agua*     90\n",
      "6811   reparo bomba d'agu  reparo da bomba d'agua*     90\n",
      "6929   reparo bomba d'agu  reparo da bomba d'agua*     90\n",
      "7061   reparo bomba d'agu  reparo da bomba d'agua*     90\n",
      "7194   reparo bomba d'agu  reparo da bomba d'agua*     90\n"
     ]
    }
   ],
   "source": [
    "#Limpando os textos e comparando\n",
    "\n",
    "text['dsc_item'] = text['dsc_item'].astype(str)\n",
    "origem_ID['classif'] = origem_ID['classif'].astype(str)\n",
    "text[\"dsc_item\"] = text[\"dsc_item\"].apply(lambda x: x.lower()) #converte todas as letras para minúsculo\n",
    "origem_ID['classif'] = origem_ID['classif'].apply(lambda x: x.lower()) #converte todas as letras para minúsculo \n",
    "text[\"dsc_item\"] = text[\"dsc_item\"].apply(lambda x: re.sub('|,|\\.|/|$|\\(|\\)|-|\\+|:|•', '', x)) #remove números e caracteres especiais \n",
    "origem_ID['classif'] = origem_ID['classif'].apply(lambda x: re.sub('|,|\\.|/|$|\\(|\\)|-|\\+|:|•', '', x)) #remove números e caracteres especiais \n",
    "text[\"dsc_item\"] = text[\"dsc_item\"].apply(lambda x: unidecode(x)) #remove acentos\n",
    "origem_ID['classif'] = origem_ID['classif'].apply(lambda x: unidecode(x)) #remove acentos\n",
    "stemmer = nltk.stem.RSLPStemmer() #converte as palavras para seu radical \n",
    "text[\"dsc_item\"] = text[\"dsc_item\"].apply(lambda x: stemmer.stem(x))\n",
    "stemmer1 = nltk.stem.RSLPStemmer() #converte as palavras para seu radical \n",
    "origem_ID['classif'] = origem_ID['classif'].apply(lambda x: stemmer1.stem(x))\n",
    "\n",
    "# Função para encontrar a correspondência fuzzy e retornar a correspondência com o maior score\n",
    "def find_best_match(row):\n",
    "    matches = process.extractOne(row['classif'], text['dsc_item'], scorer=fuzz.ratio)\n",
    "    return pd.Series([row['classif'], matches[0], matches[1]])\n",
    "\n",
    "# Aplicar a função de correspondência fuzzy e criar um novo DataFrame com os resultados\n",
    "resultados = origem_ID.apply(find_best_match, axis=1)\n",
    "resultados.columns = ['classif_origem', 'melhor_dst_item', 'score']\n",
    "\n",
    "# Filtre apenas as linhas com um score acima de um determinado limite (opcional)\n",
    "score_limite = 80  # Você pode ajustar esse limite conforme necessário\n",
    "resultados_filtrados = resultados[resultados['score'] >= score_limite]\n",
    "\n",
    "# Salvar o DataFrame resultante em um novo CSV\n",
    "resultados_filtrados.to_csv('resultado.csv', index=False)\n",
    "\n",
    "# Exibir as primeiras linhas do DataFrame resultante\n",
    "print(resultados_filtrados.head())\n"
   ]
  },
  {
   "cell_type": "code",
   "execution_count": null,
   "id": "20f12d57",
   "metadata": {},
   "outputs": [],
   "source": []
  },
  {
   "cell_type": "code",
   "execution_count": null,
   "id": "b452cde5",
   "metadata": {},
   "outputs": [],
   "source": []
  }
 ],
 "metadata": {
  "kernelspec": {
   "display_name": "Python 3 (ipykernel)",
   "language": "python",
   "name": "python3"
  },
  "language_info": {
   "codemirror_mode": {
    "name": "ipython",
    "version": 3
   },
   "file_extension": ".py",
   "mimetype": "text/x-python",
   "name": "python",
   "nbconvert_exporter": "python",
   "pygments_lexer": "ipython3",
   "version": "3.10.9"
  }
 },
 "nbformat": 4,
 "nbformat_minor": 5
}
