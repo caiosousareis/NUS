{
 "cells": [
  {
   "cell_type": "code",
   "execution_count": 1,
   "id": "0fa02944",
   "metadata": {},
   "outputs": [
    {
     "name": "stdout",
     "output_type": "stream",
     "text": [
      "Importado1\n"
     ]
    },
    {
     "name": "stderr",
     "output_type": "stream",
     "text": [
      "[nltk_data] Downloading package rslp to\n",
      "[nltk_data]     C:\\Users\\caios\\AppData\\Roaming\\nltk_data...\n",
      "[nltk_data]   Package rslp is already up-to-date!\n",
      "[nltk_data] Downloading package stopwords to\n",
      "[nltk_data]     C:\\Users\\caios\\AppData\\Roaming\\nltk_data...\n",
      "[nltk_data]   Package stopwords is already up-to-date!\n"
     ]
    },
    {
     "data": {
      "text/plain": [
       "True"
      ]
     },
     "execution_count": 1,
     "metadata": {},
     "output_type": "execute_result"
    }
   ],
   "source": [
    "import pandas as pd\n",
    "import numpy as np\n",
    "from sklearn.cluster import MiniBatchKMeans\n",
    "from sklearn.feature_extraction.text import TfidfVectorizer\n",
    "from sklearn.decomposition import PCA\n",
    "import matplotlib.pyplot as plt\n",
    "import nltk\n",
    "from sklearn.metrics import silhouette_samples, silhouette_score, v_measure_score\n",
    "from sklearn.datasets import load_files\n",
    "import re\n",
    "from unidecode import unidecode\n",
    "from mpl_toolkits import mplot3d\n",
    "from yellowbrick.cluster import KElbowVisualizer\n",
    "print(\"Importado1\")\n",
    "\n",
    "nltk.download('rslp')\n",
    "nltk.download('stopwords')\n"
   ]
  },
  {
   "cell_type": "code",
   "execution_count": 2,
   "id": "d473ea14",
   "metadata": {},
   "outputs": [
    {
     "data": {
      "text/html": [
       "<div>\n",
       "<style scoped>\n",
       "    .dataframe tbody tr th:only-of-type {\n",
       "        vertical-align: middle;\n",
       "    }\n",
       "\n",
       "    .dataframe tbody tr th {\n",
       "        vertical-align: top;\n",
       "    }\n",
       "\n",
       "    .dataframe thead th {\n",
       "        text-align: right;\n",
       "    }\n",
       "</style>\n",
       "<table border=\"1\" class=\"dataframe\">\n",
       "  <thead>\n",
       "    <tr style=\"text-align: right;\">\n",
       "      <th></th>\n",
       "      <th>cod_item</th>\n",
       "      <th>desc</th>\n",
       "      <th>status</th>\n",
       "      <th>cod_grupo</th>\n",
       "      <th>grupo</th>\n",
       "      <th>cod_classe</th>\n",
       "      <th>classe</th>\n",
       "      <th>cod_classif</th>\n",
       "      <th>classif</th>\n",
       "      <th>material_servico</th>\n",
       "      <th>complex</th>\n",
       "      <th>ID_item</th>\n",
       "    </tr>\n",
       "  </thead>\n",
       "  <tbody>\n",
       "    <tr>\n",
       "      <th>0</th>\n",
       "      <td>449284</td>\n",
       "      <td>PECAS / ACESSORIOS ARMAMENTO, MATERIAL ACO  TI...</td>\n",
       "      <td>ATIVO</td>\n",
       "      <td>10.0</td>\n",
       "      <td>ARMAMENTO</td>\n",
       "      <td>1005.0</td>\n",
       "      <td>ARMAS DE FOGO DE CALIBRE ATE 120MM</td>\n",
       "      <td>1712.0</td>\n",
       "      <td>PECAS / ACESSORIOS ARMAMENTO</td>\n",
       "      <td>MATERIAL</td>\n",
       "      <td>1.0</td>\n",
       "      <td>0</td>\n",
       "    </tr>\n",
       "    <tr>\n",
       "      <th>1</th>\n",
       "      <td>447288</td>\n",
       "      <td>PECAS / ACESSORIOS ARMAMENTO, MATERIAL ACO  TI...</td>\n",
       "      <td>ATIVO</td>\n",
       "      <td>10.0</td>\n",
       "      <td>ARMAMENTO</td>\n",
       "      <td>1005.0</td>\n",
       "      <td>ARMAS DE FOGO DE CALIBRE ATE 120MM</td>\n",
       "      <td>1712.0</td>\n",
       "      <td>PECAS / ACESSORIOS ARMAMENTO</td>\n",
       "      <td>MATERIAL</td>\n",
       "      <td>1.0</td>\n",
       "      <td>1</td>\n",
       "    </tr>\n",
       "  </tbody>\n",
       "</table>\n",
       "</div>"
      ],
      "text/plain": [
       "   cod_item                                               desc status  \\\n",
       "0    449284  PECAS / ACESSORIOS ARMAMENTO, MATERIAL ACO  TI...  ATIVO   \n",
       "1    447288  PECAS / ACESSORIOS ARMAMENTO, MATERIAL ACO  TI...  ATIVO   \n",
       "\n",
       "   cod_grupo       grupo  cod_classe                               classe  \\\n",
       "0       10.0   ARMAMENTO      1005.0   ARMAS DE FOGO DE CALIBRE ATE 120MM   \n",
       "1       10.0   ARMAMENTO      1005.0   ARMAS DE FOGO DE CALIBRE ATE 120MM   \n",
       "\n",
       "   cod_classif                        classif material_servico  complex  \\\n",
       "0       1712.0   PECAS / ACESSORIOS ARMAMENTO         MATERIAL      1.0   \n",
       "1       1712.0   PECAS / ACESSORIOS ARMAMENTO         MATERIAL      1.0   \n",
       "\n",
       "  ID_item  \n",
       "0       0  \n",
       "1       1  "
      ]
     },
     "execution_count": 2,
     "metadata": {},
     "output_type": "execute_result"
    }
   ],
   "source": [
    "caminho_arquivo_1= 'cod_material_servico.txt'\n",
    "df= pd.read_csv(caminho_arquivo_1,sep=\";\" )\n",
    "df['ID_item'] = df.index.astype(str)\n",
    "df.head(2)"
   ]
  },
  {
   "cell_type": "code",
   "execution_count": 3,
   "id": "817d57ef",
   "metadata": {},
   "outputs": [
    {
     "data": {
      "text/html": [
       "<div>\n",
       "<style scoped>\n",
       "    .dataframe tbody tr th:only-of-type {\n",
       "        vertical-align: middle;\n",
       "    }\n",
       "\n",
       "    .dataframe tbody tr th {\n",
       "        vertical-align: top;\n",
       "    }\n",
       "\n",
       "    .dataframe thead th {\n",
       "        text-align: right;\n",
       "    }\n",
       "</style>\n",
       "<table border=\"1\" class=\"dataframe\">\n",
       "  <thead>\n",
       "    <tr style=\"text-align: right;\">\n",
       "      <th></th>\n",
       "      <th>cod_item</th>\n",
       "      <th>desc</th>\n",
       "      <th>status</th>\n",
       "      <th>cod_grupo</th>\n",
       "      <th>grupo</th>\n",
       "      <th>cod_classe</th>\n",
       "      <th>classe</th>\n",
       "      <th>cod_classif</th>\n",
       "      <th>classif</th>\n",
       "      <th>material_servico</th>\n",
       "      <th>complex</th>\n",
       "      <th>ID_item</th>\n",
       "    </tr>\n",
       "  </thead>\n",
       "  <tbody>\n",
       "    <tr>\n",
       "      <th>0</th>\n",
       "      <td>449284</td>\n",
       "      <td>PECAS / ACESSORIOS ARMAMENTO, MATERIAL ACO  TI...</td>\n",
       "      <td>ATIVO</td>\n",
       "      <td>10.0</td>\n",
       "      <td>ARMAMENTO</td>\n",
       "      <td>1005.0</td>\n",
       "      <td>ARMAS DE FOGO DE CALIBRE ATE 120MM</td>\n",
       "      <td>1712.0</td>\n",
       "      <td>pecas  acessorios arm</td>\n",
       "      <td>MATERIAL</td>\n",
       "      <td>1.0</td>\n",
       "      <td>0</td>\n",
       "    </tr>\n",
       "    <tr>\n",
       "      <th>1</th>\n",
       "      <td>447288</td>\n",
       "      <td>PECAS / ACESSORIOS ARMAMENTO, MATERIAL ACO  TI...</td>\n",
       "      <td>ATIVO</td>\n",
       "      <td>10.0</td>\n",
       "      <td>ARMAMENTO</td>\n",
       "      <td>1005.0</td>\n",
       "      <td>ARMAS DE FOGO DE CALIBRE ATE 120MM</td>\n",
       "      <td>1712.0</td>\n",
       "      <td>pecas  acessorios arm</td>\n",
       "      <td>MATERIAL</td>\n",
       "      <td>1.0</td>\n",
       "      <td>1</td>\n",
       "    </tr>\n",
       "    <tr>\n",
       "      <th>2</th>\n",
       "      <td>236330</td>\n",
       "      <td>BUCHA PLACA PUNHO, MATERIAL ACO COM ROSCA INTE...</td>\n",
       "      <td>ATIVO</td>\n",
       "      <td>10.0</td>\n",
       "      <td>ARMAMENTO</td>\n",
       "      <td>1005.0</td>\n",
       "      <td>ARMAS DE FOGO DE CALIBRE ATE 120MM</td>\n",
       "      <td>15001.0</td>\n",
       "      <td>bucha placa punh</td>\n",
       "      <td>MATERIAL</td>\n",
       "      <td>1.0</td>\n",
       "      <td>2</td>\n",
       "    </tr>\n",
       "    <tr>\n",
       "      <th>3</th>\n",
       "      <td>451952</td>\n",
       "      <td>PECAS / ACESSORIOS ARMAMENTO, MATERIAL METAL  ...</td>\n",
       "      <td>ATIVO</td>\n",
       "      <td>10.0</td>\n",
       "      <td>ARMAMENTO</td>\n",
       "      <td>1005.0</td>\n",
       "      <td>ARMAS DE FOGO DE CALIBRE ATE 120MM</td>\n",
       "      <td>1712.0</td>\n",
       "      <td>pecas  acessorios arm</td>\n",
       "      <td>MATERIAL</td>\n",
       "      <td>1.0</td>\n",
       "      <td>3</td>\n",
       "    </tr>\n",
       "    <tr>\n",
       "      <th>4</th>\n",
       "      <td>448489</td>\n",
       "      <td>PECAS / ACESSORIOS ARMAMENTO, MATERIAL ACO  TI...</td>\n",
       "      <td>ATIVO</td>\n",
       "      <td>10.0</td>\n",
       "      <td>ARMAMENTO</td>\n",
       "      <td>1005.0</td>\n",
       "      <td>ARMAS DE FOGO DE CALIBRE ATE 120MM</td>\n",
       "      <td>1712.0</td>\n",
       "      <td>pecas  acessorios arm</td>\n",
       "      <td>MATERIAL</td>\n",
       "      <td>1.0</td>\n",
       "      <td>4</td>\n",
       "    </tr>\n",
       "  </tbody>\n",
       "</table>\n",
       "</div>"
      ],
      "text/plain": [
       "   cod_item                                               desc status  \\\n",
       "0    449284  PECAS / ACESSORIOS ARMAMENTO, MATERIAL ACO  TI...  ATIVO   \n",
       "1    447288  PECAS / ACESSORIOS ARMAMENTO, MATERIAL ACO  TI...  ATIVO   \n",
       "2    236330  BUCHA PLACA PUNHO, MATERIAL ACO COM ROSCA INTE...  ATIVO   \n",
       "3    451952  PECAS / ACESSORIOS ARMAMENTO, MATERIAL METAL  ...  ATIVO   \n",
       "4    448489  PECAS / ACESSORIOS ARMAMENTO, MATERIAL ACO  TI...  ATIVO   \n",
       "\n",
       "   cod_grupo       grupo  cod_classe                               classe  \\\n",
       "0       10.0   ARMAMENTO      1005.0   ARMAS DE FOGO DE CALIBRE ATE 120MM   \n",
       "1       10.0   ARMAMENTO      1005.0   ARMAS DE FOGO DE CALIBRE ATE 120MM   \n",
       "2       10.0   ARMAMENTO      1005.0   ARMAS DE FOGO DE CALIBRE ATE 120MM   \n",
       "3       10.0   ARMAMENTO      1005.0   ARMAS DE FOGO DE CALIBRE ATE 120MM   \n",
       "4       10.0   ARMAMENTO      1005.0   ARMAS DE FOGO DE CALIBRE ATE 120MM   \n",
       "\n",
       "   cod_classif                 classif material_servico  complex ID_item  \n",
       "0       1712.0   pecas  acessorios arm         MATERIAL      1.0       0  \n",
       "1       1712.0   pecas  acessorios arm         MATERIAL      1.0       1  \n",
       "2      15001.0        bucha placa punh         MATERIAL      1.0       2  \n",
       "3       1712.0   pecas  acessorios arm         MATERIAL      1.0       3  \n",
       "4       1712.0   pecas  acessorios arm         MATERIAL      1.0       4  "
      ]
     },
     "execution_count": 3,
     "metadata": {},
     "output_type": "execute_result"
    }
   ],
   "source": [
    "df['classif'] = df['classif'].astype(str)\n",
    "df[\"classif\"] = df[\"classif\"].apply(lambda x: x.lower()) #converte todas as letras para minúsculo \n",
    "df[\"classif\"] = df[\"classif\"].apply(lambda x: re.sub('|,|\\.|/|$|\\(|\\)|-|\\+|:|•', '', x)) #remove números e caracteres especiais \n",
    "df[\"classif\"] = df[\"classif\"].apply(lambda x: unidecode(x)) #remove acentos \n",
    "\n",
    "stemmer = nltk.stem.RSLPStemmer() #converte as palavras para seu radical \n",
    "df[\"classif\"] = df[\"classif\"].apply(lambda x: stemmer.stem(x))\n",
    "df.head()"
   ]
  },
  {
   "cell_type": "code",
   "execution_count": 4,
   "id": "8f02d86c",
   "metadata": {},
   "outputs": [],
   "source": [
    "# Importancia Relativa das Palavras, testar sem esse passo depois\n",
    "#stopwords = nltk.corpus.stopwords.words('portuguese')\n",
    "#stopwords.extend([\"nao\"])\n",
    "#----------------------------------------------------\n",
    "#vec = TfidfVectorizer(stop_words=stopwords)\n",
    "#vec.fit(df.dsc_item.values)\n",
    "#features = vec.transform(df.dsc_item.values)\n",
    "\n",
    "# tirando a questao de stopwords\n",
    "vec = TfidfVectorizer()\n",
    "vec.fit(df.classif.values)\n",
    "features = vec.transform(df.classif.values)"
   ]
  },
  {
   "cell_type": "code",
   "execution_count": 5,
   "id": "545825a4",
   "metadata": {},
   "outputs": [
    {
     "name": "stderr",
     "output_type": "stream",
     "text": [
      "C:\\Users\\caios\\anaconda3\\lib\\site-packages\\sklearn\\cluster\\_kmeans.py:870: FutureWarning: The default value of `n_init` will change from 3 to 'auto' in 1.4. Set the value of `n_init` explicitly to suppress the warning\n",
      "  warnings.warn(\n"
     ]
    },
    {
     "name": "stdout",
     "output_type": "stream",
     "text": [
      "For n_clusters = 2 The average silhouette_score is : 0.0613865801040389\n"
     ]
    },
    {
     "name": "stderr",
     "output_type": "stream",
     "text": [
      "C:\\Users\\caios\\anaconda3\\lib\\site-packages\\sklearn\\cluster\\_kmeans.py:870: FutureWarning: The default value of `n_init` will change from 3 to 'auto' in 1.4. Set the value of `n_init` explicitly to suppress the warning\n",
      "  warnings.warn(\n"
     ]
    },
    {
     "name": "stdout",
     "output_type": "stream",
     "text": [
      "For n_clusters = 3 The average silhouette_score is : 0.021918145839355845\n"
     ]
    },
    {
     "name": "stderr",
     "output_type": "stream",
     "text": [
      "C:\\Users\\caios\\anaconda3\\lib\\site-packages\\sklearn\\cluster\\_kmeans.py:870: FutureWarning: The default value of `n_init` will change from 3 to 'auto' in 1.4. Set the value of `n_init` explicitly to suppress the warning\n",
      "  warnings.warn(\n"
     ]
    },
    {
     "name": "stdout",
     "output_type": "stream",
     "text": [
      "For n_clusters = 4 The average silhouette_score is : 0.035295496939691334\n"
     ]
    },
    {
     "name": "stderr",
     "output_type": "stream",
     "text": [
      "C:\\Users\\caios\\anaconda3\\lib\\site-packages\\sklearn\\cluster\\_kmeans.py:870: FutureWarning: The default value of `n_init` will change from 3 to 'auto' in 1.4. Set the value of `n_init` explicitly to suppress the warning\n",
      "  warnings.warn(\n"
     ]
    },
    {
     "name": "stdout",
     "output_type": "stream",
     "text": [
      "For n_clusters = 5 The average silhouette_score is : 0.045645280552774135\n"
     ]
    },
    {
     "name": "stderr",
     "output_type": "stream",
     "text": [
      "C:\\Users\\caios\\anaconda3\\lib\\site-packages\\sklearn\\cluster\\_kmeans.py:870: FutureWarning: The default value of `n_init` will change from 3 to 'auto' in 1.4. Set the value of `n_init` explicitly to suppress the warning\n",
      "  warnings.warn(\n"
     ]
    },
    {
     "name": "stdout",
     "output_type": "stream",
     "text": [
      "For n_clusters = 6 The average silhouette_score is : 0.05817397908949558\n"
     ]
    },
    {
     "name": "stderr",
     "output_type": "stream",
     "text": [
      "C:\\Users\\caios\\anaconda3\\lib\\site-packages\\sklearn\\cluster\\_kmeans.py:870: FutureWarning: The default value of `n_init` will change from 3 to 'auto' in 1.4. Set the value of `n_init` explicitly to suppress the warning\n",
      "  warnings.warn(\n"
     ]
    },
    {
     "name": "stdout",
     "output_type": "stream",
     "text": [
      "For n_clusters = 7 The average silhouette_score is : 0.02951068808000085\n"
     ]
    },
    {
     "name": "stderr",
     "output_type": "stream",
     "text": [
      "C:\\Users\\caios\\anaconda3\\lib\\site-packages\\sklearn\\cluster\\_kmeans.py:870: FutureWarning: The default value of `n_init` will change from 3 to 'auto' in 1.4. Set the value of `n_init` explicitly to suppress the warning\n",
      "  warnings.warn(\n"
     ]
    },
    {
     "name": "stdout",
     "output_type": "stream",
     "text": [
      "For n_clusters = 8 The average silhouette_score is : 0.13601713488051081\n"
     ]
    },
    {
     "name": "stderr",
     "output_type": "stream",
     "text": [
      "C:\\Users\\caios\\anaconda3\\lib\\site-packages\\sklearn\\cluster\\_kmeans.py:870: FutureWarning: The default value of `n_init` will change from 3 to 'auto' in 1.4. Set the value of `n_init` explicitly to suppress the warning\n",
      "  warnings.warn(\n"
     ]
    },
    {
     "name": "stdout",
     "output_type": "stream",
     "text": [
      "For n_clusters = 9 The average silhouette_score is : 0.0928037957050926\n"
     ]
    }
   ],
   "source": [
    "wcss = []\n",
    "for cluster in range(2,10):\n",
    "    cls = MiniBatchKMeans(n_clusters=cluster, random_state=42)\n",
    "    cls.fit(features)\n",
    "    silhouette_avg = v_measure_score(df.classif.values, cls.labels_)\n",
    "    print(\"For n_clusters =\", cluster,\"The average silhouette_score is :\", silhouette_avg)\n",
    "    wcss.append(cls.inertia_)\n",
    "    \n",
    "df['ID_cluster'] = cls.labels_"
   ]
  },
  {
   "cell_type": "code",
   "execution_count": 9,
   "id": "2ec45d64",
   "metadata": {},
   "outputs": [
    {
     "data": {
      "text/plain": [
       "[<matplotlib.lines.Line2D at 0x230ba7dc3d0>]"
      ]
     },
     "execution_count": 9,
     "metadata": {},
     "output_type": "execute_result"
    },
    {
     "data": {
      "image/png": "[encoded data removed]",
      "text/plain": [
       "<Figure size 800x550 with 1 Axes>"
      ]
     },
     "metadata": {},
     "output_type": "display_data"
    }
   ],
   "source": [
    "clusters = [i for i in range(2,10)]\n",
    "plt.plot(clusters, wcss)\n",
    "#df.head(20)\n",
    "#nome_arquivo_saida = 'Output_cod_material_servico.csv'\n",
    "# Use o método to_csv para salvar o DataFrame com o nome especificado\n",
    "#df.to_csv(nome_arquivo_saida, index=False) "
   ]
  },
  {
   "cell_type": "code",
   "execution_count": 11,
   "id": "4fa41665",
   "metadata": {},
   "outputs": [
    {
     "ename": "MemoryError",
     "evalue": "Unable to allocate 27.6 GiB for an array with shape (292908, 12631) and data type float64",
     "output_type": "error",
     "traceback": [
      "\u001b[1;31m---------------------------------------------------------------------------\u001b[0m",
      "\u001b[1;31mMemoryError\u001b[0m                               Traceback (most recent call last)",
      "Cell \u001b[1;32mIn[11], line 11\u001b[0m\n\u001b[0;32m      8\u001b[0m ax \u001b[38;5;241m=\u001b[39m fig\u001b[38;5;241m.\u001b[39madd_subplot(\u001b[38;5;241m1\u001b[39m, \u001b[38;5;241m2\u001b[39m, \u001b[38;5;241m1\u001b[39m)\n\u001b[0;32m     10\u001b[0m pca \u001b[38;5;241m=\u001b[39m PCA(n_components\u001b[38;5;241m=\u001b[39m\u001b[38;5;241m2\u001b[39m, random_state\u001b[38;5;241m=\u001b[39m\u001b[38;5;241m0\u001b[39m)\n\u001b[1;32m---> 11\u001b[0m reduced_features \u001b[38;5;241m=\u001b[39m pca\u001b[38;5;241m.\u001b[39mfit_transform(\u001b[43mfeatures\u001b[49m\u001b[38;5;241;43m.\u001b[39;49m\u001b[43mtoarray\u001b[49m\u001b[43m(\u001b[49m\u001b[43m)\u001b[49m)\n\u001b[0;32m     12\u001b[0m reduced_cluster_centers \u001b[38;5;241m=\u001b[39m pca\u001b[38;5;241m.\u001b[39mtransform(\u001b[38;5;28mcls\u001b[39m\u001b[38;5;241m.\u001b[39mcluster_centers_)\n\u001b[0;32m     14\u001b[0m ax\u001b[38;5;241m.\u001b[39mscatter(reduced_features[:, \u001b[38;5;241m0\u001b[39m], reduced_features[:, \u001b[38;5;241m1\u001b[39m], c\u001b[38;5;241m=\u001b[39m\u001b[38;5;28mcls\u001b[39m\u001b[38;5;241m.\u001b[39mpredict(features))\n",
      "File \u001b[1;32m~\\anaconda3\\lib\\site-packages\\scipy\\sparse\\_compressed.py:1051\u001b[0m, in \u001b[0;36m_cs_matrix.toarray\u001b[1;34m(self, order, out)\u001b[0m\n\u001b[0;32m   1049\u001b[0m \u001b[38;5;28;01mif\u001b[39;00m out \u001b[38;5;129;01mis\u001b[39;00m \u001b[38;5;28;01mNone\u001b[39;00m \u001b[38;5;129;01mand\u001b[39;00m order \u001b[38;5;129;01mis\u001b[39;00m \u001b[38;5;28;01mNone\u001b[39;00m:\n\u001b[0;32m   1050\u001b[0m     order \u001b[38;5;241m=\u001b[39m \u001b[38;5;28mself\u001b[39m\u001b[38;5;241m.\u001b[39m_swap(\u001b[38;5;124m'\u001b[39m\u001b[38;5;124mcf\u001b[39m\u001b[38;5;124m'\u001b[39m)[\u001b[38;5;241m0\u001b[39m]\n\u001b[1;32m-> 1051\u001b[0m out \u001b[38;5;241m=\u001b[39m \u001b[38;5;28;43mself\u001b[39;49m\u001b[38;5;241;43m.\u001b[39;49m\u001b[43m_process_toarray_args\u001b[49m\u001b[43m(\u001b[49m\u001b[43morder\u001b[49m\u001b[43m,\u001b[49m\u001b[43m \u001b[49m\u001b[43mout\u001b[49m\u001b[43m)\u001b[49m\n\u001b[0;32m   1052\u001b[0m \u001b[38;5;28;01mif\u001b[39;00m \u001b[38;5;129;01mnot\u001b[39;00m (out\u001b[38;5;241m.\u001b[39mflags\u001b[38;5;241m.\u001b[39mc_contiguous \u001b[38;5;129;01mor\u001b[39;00m out\u001b[38;5;241m.\u001b[39mflags\u001b[38;5;241m.\u001b[39mf_contiguous):\n\u001b[0;32m   1053\u001b[0m     \u001b[38;5;28;01mraise\u001b[39;00m \u001b[38;5;167;01mValueError\u001b[39;00m(\u001b[38;5;124m'\u001b[39m\u001b[38;5;124mOutput array must be C or F contiguous\u001b[39m\u001b[38;5;124m'\u001b[39m)\n",
      "File \u001b[1;32m~\\anaconda3\\lib\\site-packages\\scipy\\sparse\\_base.py:1298\u001b[0m, in \u001b[0;36mspmatrix._process_toarray_args\u001b[1;34m(self, order, out)\u001b[0m\n\u001b[0;32m   1296\u001b[0m     \u001b[38;5;28;01mreturn\u001b[39;00m out\n\u001b[0;32m   1297\u001b[0m \u001b[38;5;28;01melse\u001b[39;00m:\n\u001b[1;32m-> 1298\u001b[0m     \u001b[38;5;28;01mreturn\u001b[39;00m \u001b[43mnp\u001b[49m\u001b[38;5;241;43m.\u001b[39;49m\u001b[43mzeros\u001b[49m\u001b[43m(\u001b[49m\u001b[38;5;28;43mself\u001b[39;49m\u001b[38;5;241;43m.\u001b[39;49m\u001b[43mshape\u001b[49m\u001b[43m,\u001b[49m\u001b[43m \u001b[49m\u001b[43mdtype\u001b[49m\u001b[38;5;241;43m=\u001b[39;49m\u001b[38;5;28;43mself\u001b[39;49m\u001b[38;5;241;43m.\u001b[39;49m\u001b[43mdtype\u001b[49m\u001b[43m,\u001b[49m\u001b[43m \u001b[49m\u001b[43morder\u001b[49m\u001b[38;5;241;43m=\u001b[39;49m\u001b[43morder\u001b[49m\u001b[43m)\u001b[49m\n",
      "\u001b[1;31mMemoryError\u001b[0m: Unable to allocate 27.6 GiB for an array with shape (292908, 12631) and data type float64"
     ]
    },
    {
     "data": {
      "image/png": "[encoded data removed]",
      "text/plain": [
       "<Figure size 1100x550 with 1 Axes>"
      ]
     },
     "metadata": {},
     "output_type": "display_data"
    }
   ],
   "source": [
    "for cluster in range(2, 4):\n",
    "    cls = MiniBatchKMeans(n_clusters=cluster, random_state=42)  # Você pode alterar o valor de random_state\n",
    "\n",
    "    cls.fit(features)\n",
    "\n",
    "    # Visualização 2D\n",
    "    fig = plt.figure(figsize=plt.figaspect(0.5))\n",
    "    ax = fig.add_subplot(1, 2, 1)\n",
    "\n",
    "    pca = PCA(n_components=2, random_state=0)\n",
    "    reduced_features = pca.fit_transform(features.toarray())\n",
    "    reduced_cluster_centers = pca.transform(cls.cluster_centers_)\n",
    "\n",
    "    ax.scatter(reduced_features[:, 0], reduced_features[:, 1], c=cls.predict(features))\n",
    "    ax.scatter(reduced_cluster_centers[:, 0], reduced_cluster_centers[:, 1], marker='o', s=150, edgecolor='k')\n",
    "\n",
    "    for i, c in enumerate(reduced_cluster_centers):\n",
    "        ax.scatter(c[0], c[1], marker='$%d$' % i, alpha=1, s=50, edgecolor='k')\n",
    "\n",
    "    plt.title(\"Análise de cluster k = %d\" % cluster)\n",
    "    plt.xlabel('Dispersão em X')\n",
    "    plt.ylabel('Dispersão em Y')\n",
    "\n",
    "    # Visualização 3D\n",
    "    #ax = fig.add_subplot(1, 2, 2, projection=\"3d\")\n",
    "\n",
    "    #pca = PCA(n_components=3, random_state=0)\n",
    "    #reduced_features = pca.fit_transform(features.toarray())\n",
    "    #reduced_cluster_centers = pca.transform(cls.cluster_centers_)\n",
    "\n",
    "    #ax.scatter3D(reduced_features[:, 0], reduced_features[:, 1], reduced_features[:, 2], marker='o', s=150, edgecolor='k', c=cls.predict(features))\n",
    "\n",
    "    #plt.title(\"Análise de cluster k = %d\" % cluster)\n",
    "    #plt.xlabel('Dispersão em X')\n",
    "    #plt.ylabel('Dispersão em Y')\n",
    "\n",
    "    # Salva o arquivo de imagem 3D\n",
    "    #plt.savefig(\"imagens/grafico_cluster_k=%d\" % cluster)\n",
    "    plt.show()"
   ]
  },
  {
   "cell_type": "code",
   "execution_count": null,
   "id": "c4cdbf6a",
   "metadata": {
    "scrolled": true
   },
   "outputs": [],
   "source": []
  },
  {
   "cell_type": "code",
   "execution_count": null,
   "id": "6b6d42dd",
   "metadata": {},
   "outputs": [],
   "source": []
  },
  {
   "cell_type": "code",
   "execution_count": 11,
   "id": "ea9e0fc8",
   "metadata": {},
   "outputs": [],
   "source": []
  },
  {
   "cell_type": "code",
   "execution_count": null,
   "id": "7ff731ba",
   "metadata": {},
   "outputs": [],
   "source": []
  },
  {
   "cell_type": "code",
   "execution_count": null,
   "id": "727b9bc5",
   "metadata": {},
   "outputs": [],
   "source": []
  },
  {
   "cell_type": "code",
   "execution_count": null,
   "id": "e82df997",
   "metadata": {},
   "outputs": [],
   "source": []
  },
  {
   "cell_type": "code",
   "execution_count": null,
   "id": "9bbbcbd6",
   "metadata": {},
   "outputs": [],
   "source": []
  },
  {
   "cell_type": "code",
   "execution_count": null,
   "id": "6a65f483",
   "metadata": {},
   "outputs": [],
   "source": []
  },
  {
   "cell_type": "code",
   "execution_count": null,
   "id": "b21780ad",
   "metadata": {},
   "outputs": [],
   "source": []
  },
  {
   "cell_type": "code",
   "execution_count": null,
   "id": "3145de19",
   "metadata": {},
   "outputs": [],
   "source": []
  },
  {
   "cell_type": "code",
   "execution_count": null,
   "id": "48213beb",
   "metadata": {},
   "outputs": [],
   "source": []
  },
  {
   "cell_type": "code",
   "execution_count": null,
   "id": "b9442af0",
   "metadata": {},
   "outputs": [],
   "source": []
  },
  {
   "cell_type": "code",
   "execution_count": null,
   "id": "49400316",
   "metadata": {},
   "outputs": [],
   "source": []
  },
  {
   "cell_type": "code",
   "execution_count": null,
   "id": "4f867162",
   "metadata": {},
   "outputs": [],
   "source": []
  }
 ],
 "metadata": {
  "kernelspec": {
   "display_name": "Python 3 (ipykernel)",
   "language": "python",
   "name": "python3"
  },
  "language_info": {
   "codemirror_mode": {
    "name": "ipython",
    "version": 3
   },
   "file_extension": ".py",
   "mimetype": "text/x-python",
   "name": "python",
   "nbconvert_exporter": "python",
   "pygments_lexer": "ipython3",
   "version": "3.10.9"
  }
 },
 "nbformat": 4,
 "nbformat_minor": 5
}
