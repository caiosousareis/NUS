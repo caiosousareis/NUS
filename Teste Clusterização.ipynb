{
 "cells": [
  {
   "cell_type": "code",
   "execution_count": 1,
   "id": "0fa02944",
   "metadata": {},
   "outputs": [
    {
     "name": "stdout",
     "output_type": "stream",
     "text": [
      "Importado1\n"
     ]
    },
    {
     "name": "stderr",
     "output_type": "stream",
     "text": [
      "[nltk_data] Downloading package rslp to\n",
      "[nltk_data]     C:\\Users\\caios\\AppData\\Roaming\\nltk_data...\n",
      "[nltk_data]   Package rslp is already up-to-date!\n",
      "[nltk_data] Downloading package stopwords to\n",
      "[nltk_data]     C:\\Users\\caios\\AppData\\Roaming\\nltk_data...\n",
      "[nltk_data]   Package stopwords is already up-to-date!\n"
     ]
    },
    {
     "data": {
      "text/plain": [
       "True"
      ]
     },
     "execution_count": 1,
     "metadata": {},
     "output_type": "execute_result"
    }
   ],
   "source": [
    "import pandas as pd\n",
    "import numpy as np\n",
    "from sklearn.cluster import MiniBatchKMeans\n",
    "from sklearn.feature_extraction.text import TfidfVectorizer\n",
    "from sklearn.decomposition import PCA\n",
    "import matplotlib.pyplot as plt\n",
    "import nltk\n",
    "from sklearn.metrics import silhouette_samples, silhouette_score, v_measure_score\n",
    "from sklearn.datasets import load_files\n",
    "import re\n",
    "from unidecode import unidecode\n",
    "from mpl_toolkits import mplot3d\n",
    "from yellowbrick.cluster import KElbowVisualizer\n",
    "print(\"Importado1\")\n",
    "\n",
    "\n",
    "nltk.download('rslp')\n",
    "nltk.download('stopwords')\n"
   ]
  },
  {
   "cell_type": "code",
   "execution_count": 3,
   "id": "d473ea14",
   "metadata": {},
   "outputs": [
    {
     "data": {
      "text/html": [
       "<div>\n",
       "<style scoped>\n",
       "    .dataframe tbody tr th:only-of-type {\n",
       "        vertical-align: middle;\n",
       "    }\n",
       "\n",
       "    .dataframe tbody tr th {\n",
       "        vertical-align: top;\n",
       "    }\n",
       "\n",
       "    .dataframe thead th {\n",
       "        text-align: right;\n",
       "    }\n",
       "</style>\n",
       "<table border=\"1\" class=\"dataframe\">\n",
       "  <thead>\n",
       "    <tr style=\"text-align: right;\">\n",
       "      <th></th>\n",
       "      <th>cod_item</th>\n",
       "      <th>desc</th>\n",
       "      <th>status</th>\n",
       "      <th>cod_grupo</th>\n",
       "      <th>grupo</th>\n",
       "      <th>cod_classe</th>\n",
       "      <th>classe</th>\n",
       "      <th>cod_classif</th>\n",
       "      <th>classif</th>\n",
       "      <th>material_servico</th>\n",
       "      <th>complex</th>\n",
       "    </tr>\n",
       "  </thead>\n",
       "  <tbody>\n",
       "    <tr>\n",
       "      <th>0</th>\n",
       "      <td>449284</td>\n",
       "      <td>PECAS / ACESSORIOS ARMAMENTO, MATERIAL ACO  TI...</td>\n",
       "      <td>ATIVO</td>\n",
       "      <td>10.0</td>\n",
       "      <td>ARMAMENTO</td>\n",
       "      <td>1005.0</td>\n",
       "      <td>ARMAS DE FOGO DE CALIBRE ATE 120MM</td>\n",
       "      <td>1712.0</td>\n",
       "      <td>PECAS / ACESSORIOS ARMAMENTO</td>\n",
       "      <td>MATERIAL</td>\n",
       "      <td>1.0</td>\n",
       "    </tr>\n",
       "    <tr>\n",
       "      <th>1</th>\n",
       "      <td>447288</td>\n",
       "      <td>PECAS / ACESSORIOS ARMAMENTO, MATERIAL ACO  TI...</td>\n",
       "      <td>ATIVO</td>\n",
       "      <td>10.0</td>\n",
       "      <td>ARMAMENTO</td>\n",
       "      <td>1005.0</td>\n",
       "      <td>ARMAS DE FOGO DE CALIBRE ATE 120MM</td>\n",
       "      <td>1712.0</td>\n",
       "      <td>PECAS / ACESSORIOS ARMAMENTO</td>\n",
       "      <td>MATERIAL</td>\n",
       "      <td>1.0</td>\n",
       "    </tr>\n",
       "    <tr>\n",
       "      <th>2</th>\n",
       "      <td>236330</td>\n",
       "      <td>BUCHA PLACA PUNHO, MATERIAL ACO COM ROSCA INTE...</td>\n",
       "      <td>ATIVO</td>\n",
       "      <td>10.0</td>\n",
       "      <td>ARMAMENTO</td>\n",
       "      <td>1005.0</td>\n",
       "      <td>ARMAS DE FOGO DE CALIBRE ATE 120MM</td>\n",
       "      <td>15001.0</td>\n",
       "      <td>BUCHA PLACA PUNHO</td>\n",
       "      <td>MATERIAL</td>\n",
       "      <td>1.0</td>\n",
       "    </tr>\n",
       "    <tr>\n",
       "      <th>3</th>\n",
       "      <td>451952</td>\n",
       "      <td>PECAS / ACESSORIOS ARMAMENTO, MATERIAL METAL  ...</td>\n",
       "      <td>ATIVO</td>\n",
       "      <td>10.0</td>\n",
       "      <td>ARMAMENTO</td>\n",
       "      <td>1005.0</td>\n",
       "      <td>ARMAS DE FOGO DE CALIBRE ATE 120MM</td>\n",
       "      <td>1712.0</td>\n",
       "      <td>PECAS / ACESSORIOS ARMAMENTO</td>\n",
       "      <td>MATERIAL</td>\n",
       "      <td>1.0</td>\n",
       "    </tr>\n",
       "    <tr>\n",
       "      <th>4</th>\n",
       "      <td>448489</td>\n",
       "      <td>PECAS / ACESSORIOS ARMAMENTO, MATERIAL ACO  TI...</td>\n",
       "      <td>ATIVO</td>\n",
       "      <td>10.0</td>\n",
       "      <td>ARMAMENTO</td>\n",
       "      <td>1005.0</td>\n",
       "      <td>ARMAS DE FOGO DE CALIBRE ATE 120MM</td>\n",
       "      <td>1712.0</td>\n",
       "      <td>PECAS / ACESSORIOS ARMAMENTO</td>\n",
       "      <td>MATERIAL</td>\n",
       "      <td>1.0</td>\n",
       "    </tr>\n",
       "  </tbody>\n",
       "</table>\n",
       "</div>"
      ],
      "text/plain": [
       "   cod_item                                               desc status  \\\n",
       "0    449284  PECAS / ACESSORIOS ARMAMENTO, MATERIAL ACO  TI...  ATIVO   \n",
       "1    447288  PECAS / ACESSORIOS ARMAMENTO, MATERIAL ACO  TI...  ATIVO   \n",
       "2    236330  BUCHA PLACA PUNHO, MATERIAL ACO COM ROSCA INTE...  ATIVO   \n",
       "3    451952  PECAS / ACESSORIOS ARMAMENTO, MATERIAL METAL  ...  ATIVO   \n",
       "4    448489  PECAS / ACESSORIOS ARMAMENTO, MATERIAL ACO  TI...  ATIVO   \n",
       "\n",
       "   cod_grupo       grupo  cod_classe                               classe  \\\n",
       "0       10.0   ARMAMENTO      1005.0   ARMAS DE FOGO DE CALIBRE ATE 120MM   \n",
       "1       10.0   ARMAMENTO      1005.0   ARMAS DE FOGO DE CALIBRE ATE 120MM   \n",
       "2       10.0   ARMAMENTO      1005.0   ARMAS DE FOGO DE CALIBRE ATE 120MM   \n",
       "3       10.0   ARMAMENTO      1005.0   ARMAS DE FOGO DE CALIBRE ATE 120MM   \n",
       "4       10.0   ARMAMENTO      1005.0   ARMAS DE FOGO DE CALIBRE ATE 120MM   \n",
       "\n",
       "   cod_classif                        classif material_servico  complex  \n",
       "0       1712.0   PECAS / ACESSORIOS ARMAMENTO         MATERIAL      1.0  \n",
       "1       1712.0   PECAS / ACESSORIOS ARMAMENTO         MATERIAL      1.0  \n",
       "2      15001.0              BUCHA PLACA PUNHO         MATERIAL      1.0  \n",
       "3       1712.0   PECAS / ACESSORIOS ARMAMENTO         MATERIAL      1.0  \n",
       "4       1712.0   PECAS / ACESSORIOS ARMAMENTO         MATERIAL      1.0  "
      ]
     },
     "execution_count": 3,
     "metadata": {},
     "output_type": "execute_result"
    }
   ],
   "source": [
    "caminho_arquivo_1= 'cod_material_servico.txt'\n",
    "df= pd.read_csv(caminho_arquivo_1,sep=\";\" )\n",
    "\n",
    "df.head(10)"
   ]
  },
  {
   "cell_type": "code",
   "execution_count": 5,
   "id": "817d57ef",
   "metadata": {},
   "outputs": [
    {
     "data": {
      "text/html": [
       "<div>\n",
       "<style scoped>\n",
       "    .dataframe tbody tr th:only-of-type {\n",
       "        vertical-align: middle;\n",
       "    }\n",
       "\n",
       "    .dataframe tbody tr th {\n",
       "        vertical-align: top;\n",
       "    }\n",
       "\n",
       "    .dataframe thead th {\n",
       "        text-align: right;\n",
       "    }\n",
       "</style>\n",
       "<table border=\"1\" class=\"dataframe\">\n",
       "  <thead>\n",
       "    <tr style=\"text-align: right;\">\n",
       "      <th></th>\n",
       "      <th>cod_item</th>\n",
       "      <th>desc</th>\n",
       "      <th>status</th>\n",
       "      <th>cod_grupo</th>\n",
       "      <th>grupo</th>\n",
       "      <th>cod_classe</th>\n",
       "      <th>classe</th>\n",
       "      <th>cod_classif</th>\n",
       "      <th>classif</th>\n",
       "      <th>material_servico</th>\n",
       "      <th>complex</th>\n",
       "    </tr>\n",
       "  </thead>\n",
       "  <tbody>\n",
       "    <tr>\n",
       "      <th>0</th>\n",
       "      <td>449284</td>\n",
       "      <td>pecas  acessorios armamento material aco  tipo...</td>\n",
       "      <td>ATIVO</td>\n",
       "      <td>10.0</td>\n",
       "      <td>ARMAMENTO</td>\n",
       "      <td>1005.0</td>\n",
       "      <td>ARMAS DE FOGO DE CALIBRE ATE 120MM</td>\n",
       "      <td>1712.0</td>\n",
       "      <td>PECAS / ACESSORIOS ARMAMENTO</td>\n",
       "      <td>MATERIAL</td>\n",
       "      <td>1.0</td>\n",
       "    </tr>\n",
       "    <tr>\n",
       "      <th>1</th>\n",
       "      <td>447288</td>\n",
       "      <td>pecas  acessorios armamento material aco  tipo...</td>\n",
       "      <td>ATIVO</td>\n",
       "      <td>10.0</td>\n",
       "      <td>ARMAMENTO</td>\n",
       "      <td>1005.0</td>\n",
       "      <td>ARMAS DE FOGO DE CALIBRE ATE 120MM</td>\n",
       "      <td>1712.0</td>\n",
       "      <td>PECAS / ACESSORIOS ARMAMENTO</td>\n",
       "      <td>MATERIAL</td>\n",
       "      <td>1.0</td>\n",
       "    </tr>\n",
       "    <tr>\n",
       "      <th>2</th>\n",
       "      <td>236330</td>\n",
       "      <td>bucha placa punho material aco com rosca inter...</td>\n",
       "      <td>ATIVO</td>\n",
       "      <td>10.0</td>\n",
       "      <td>ARMAMENTO</td>\n",
       "      <td>1005.0</td>\n",
       "      <td>ARMAS DE FOGO DE CALIBRE ATE 120MM</td>\n",
       "      <td>15001.0</td>\n",
       "      <td>BUCHA PLACA PUNHO</td>\n",
       "      <td>MATERIAL</td>\n",
       "      <td>1.0</td>\n",
       "    </tr>\n",
       "    <tr>\n",
       "      <th>3</th>\n",
       "      <td>451952</td>\n",
       "      <td>pecas  acessorios armamento material metal  ti...</td>\n",
       "      <td>ATIVO</td>\n",
       "      <td>10.0</td>\n",
       "      <td>ARMAMENTO</td>\n",
       "      <td>1005.0</td>\n",
       "      <td>ARMAS DE FOGO DE CALIBRE ATE 120MM</td>\n",
       "      <td>1712.0</td>\n",
       "      <td>PECAS / ACESSORIOS ARMAMENTO</td>\n",
       "      <td>MATERIAL</td>\n",
       "      <td>1.0</td>\n",
       "    </tr>\n",
       "    <tr>\n",
       "      <th>4</th>\n",
       "      <td>448489</td>\n",
       "      <td>pecas  acessorios armamento material aco  tipo...</td>\n",
       "      <td>ATIVO</td>\n",
       "      <td>10.0</td>\n",
       "      <td>ARMAMENTO</td>\n",
       "      <td>1005.0</td>\n",
       "      <td>ARMAS DE FOGO DE CALIBRE ATE 120MM</td>\n",
       "      <td>1712.0</td>\n",
       "      <td>PECAS / ACESSORIOS ARMAMENTO</td>\n",
       "      <td>MATERIAL</td>\n",
       "      <td>1.0</td>\n",
       "    </tr>\n",
       "  </tbody>\n",
       "</table>\n",
       "</div>"
      ],
      "text/plain": [
       "   cod_item                                               desc status  \\\n",
       "0    449284  pecas  acessorios armamento material aco  tipo...  ATIVO   \n",
       "1    447288  pecas  acessorios armamento material aco  tipo...  ATIVO   \n",
       "2    236330  bucha placa punho material aco com rosca inter...  ATIVO   \n",
       "3    451952  pecas  acessorios armamento material metal  ti...  ATIVO   \n",
       "4    448489  pecas  acessorios armamento material aco  tipo...  ATIVO   \n",
       "\n",
       "   cod_grupo       grupo  cod_classe                               classe  \\\n",
       "0       10.0   ARMAMENTO      1005.0   ARMAS DE FOGO DE CALIBRE ATE 120MM   \n",
       "1       10.0   ARMAMENTO      1005.0   ARMAS DE FOGO DE CALIBRE ATE 120MM   \n",
       "2       10.0   ARMAMENTO      1005.0   ARMAS DE FOGO DE CALIBRE ATE 120MM   \n",
       "3       10.0   ARMAMENTO      1005.0   ARMAS DE FOGO DE CALIBRE ATE 120MM   \n",
       "4       10.0   ARMAMENTO      1005.0   ARMAS DE FOGO DE CALIBRE ATE 120MM   \n",
       "\n",
       "   cod_classif                        classif material_servico  complex  \n",
       "0       1712.0   PECAS / ACESSORIOS ARMAMENTO         MATERIAL      1.0  \n",
       "1       1712.0   PECAS / ACESSORIOS ARMAMENTO         MATERIAL      1.0  \n",
       "2      15001.0              BUCHA PLACA PUNHO         MATERIAL      1.0  \n",
       "3       1712.0   PECAS / ACESSORIOS ARMAMENTO         MATERIAL      1.0  \n",
       "4       1712.0   PECAS / ACESSORIOS ARMAMENTO         MATERIAL      1.0  "
      ]
     },
     "execution_count": 5,
     "metadata": {},
     "output_type": "execute_result"
    }
   ],
   "source": [
    "df[\"desc\"] = df[\"desc\"].apply(lambda x: x.lower()) #converte todas as letras para minúsculo \n",
    "df[\"desc\"] = df[\"desc\"].apply(lambda x: re.sub('|,|\\.|/|$|\\(|\\)|-|\\+|:|•', '', x)) #remove números e caracteres especiais \n",
    "df[\"desc\"] = df[\"desc\"].apply(lambda x: unidecode(x)) #remove acentos \n",
    "\n",
    "stemmer = nltk.stem.RSLPStemmer() #converte as palavras para seu radical \n",
    "df[\"desc\"] = df[\"desc\"].apply(lambda x: stemmer.stem(x))\n",
    "df.head()"
   ]
  },
  {
   "cell_type": "code",
   "execution_count": 7,
   "id": "8f02d86c",
   "metadata": {},
   "outputs": [],
   "source": [
    "# Importancia Relativa das Palavras, testar sem esse passo depois\n",
    "#stopwords = nltk.corpus.stopwords.words('portuguese')\n",
    "#stopwords.extend([\"nao\"])\n",
    "#----------------------------------------------------\n",
    "#vec = TfidfVectorizer(stop_words=stopwords)\n",
    "#vec.fit(df.dsc_item.values)\n",
    "#features = vec.transform(df.dsc_item.values)\n",
    "\n",
    "# tirando a questao de stopwords\n",
    "vec = TfidfVectorizer()\n",
    "vec.fit(df.desc.values)\n",
    "features = vec.transform(df.desc.values)"
   ]
  },
  {
   "cell_type": "code",
   "execution_count": 8,
   "id": "545825a4",
   "metadata": {},
   "outputs": [
    {
     "name": "stderr",
     "output_type": "stream",
     "text": [
      "C:\\Users\\caios\\anaconda3\\lib\\site-packages\\sklearn\\cluster\\_kmeans.py:870: FutureWarning: The default value of `n_init` will change from 3 to 'auto' in 1.4. Set the value of `n_init` explicitly to suppress the warning\n",
      "  warnings.warn(\n"
     ]
    },
    {
     "name": "stdout",
     "output_type": "stream",
     "text": [
      "For n_clusters = 2 The average silhouette_score is : 0.09575516522952293\n"
     ]
    },
    {
     "name": "stderr",
     "output_type": "stream",
     "text": [
      "C:\\Users\\caios\\anaconda3\\lib\\site-packages\\sklearn\\cluster\\_kmeans.py:870: FutureWarning: The default value of `n_init` will change from 3 to 'auto' in 1.4. Set the value of `n_init` explicitly to suppress the warning\n",
      "  warnings.warn(\n"
     ]
    },
    {
     "name": "stdout",
     "output_type": "stream",
     "text": [
      "For n_clusters = 3 The average silhouette_score is : 0.1261258397493161\n"
     ]
    },
    {
     "name": "stderr",
     "output_type": "stream",
     "text": [
      "C:\\Users\\caios\\anaconda3\\lib\\site-packages\\sklearn\\cluster\\_kmeans.py:870: FutureWarning: The default value of `n_init` will change from 3 to 'auto' in 1.4. Set the value of `n_init` explicitly to suppress the warning\n",
      "  warnings.warn(\n"
     ]
    },
    {
     "name": "stdout",
     "output_type": "stream",
     "text": [
      "For n_clusters = 4 The average silhouette_score is : 0.16993172786502603\n"
     ]
    },
    {
     "name": "stderr",
     "output_type": "stream",
     "text": [
      "C:\\Users\\caios\\anaconda3\\lib\\site-packages\\sklearn\\cluster\\_kmeans.py:870: FutureWarning: The default value of `n_init` will change from 3 to 'auto' in 1.4. Set the value of `n_init` explicitly to suppress the warning\n",
      "  warnings.warn(\n"
     ]
    },
    {
     "name": "stdout",
     "output_type": "stream",
     "text": [
      "For n_clusters = 5 The average silhouette_score is : 0.18083051599243302\n"
     ]
    },
    {
     "name": "stderr",
     "output_type": "stream",
     "text": [
      "C:\\Users\\caios\\anaconda3\\lib\\site-packages\\sklearn\\cluster\\_kmeans.py:870: FutureWarning: The default value of `n_init` will change from 3 to 'auto' in 1.4. Set the value of `n_init` explicitly to suppress the warning\n",
      "  warnings.warn(\n"
     ]
    },
    {
     "name": "stdout",
     "output_type": "stream",
     "text": [
      "For n_clusters = 6 The average silhouette_score is : 0.19647997548658994\n"
     ]
    },
    {
     "name": "stderr",
     "output_type": "stream",
     "text": [
      "C:\\Users\\caios\\anaconda3\\lib\\site-packages\\sklearn\\cluster\\_kmeans.py:870: FutureWarning: The default value of `n_init` will change from 3 to 'auto' in 1.4. Set the value of `n_init` explicitly to suppress the warning\n",
      "  warnings.warn(\n"
     ]
    },
    {
     "name": "stdout",
     "output_type": "stream",
     "text": [
      "For n_clusters = 7 The average silhouette_score is : 0.2064819648523406\n"
     ]
    },
    {
     "name": "stderr",
     "output_type": "stream",
     "text": [
      "C:\\Users\\caios\\anaconda3\\lib\\site-packages\\sklearn\\cluster\\_kmeans.py:870: FutureWarning: The default value of `n_init` will change from 3 to 'auto' in 1.4. Set the value of `n_init` explicitly to suppress the warning\n",
      "  warnings.warn(\n"
     ]
    },
    {
     "name": "stdout",
     "output_type": "stream",
     "text": [
      "For n_clusters = 8 The average silhouette_score is : 0.2114960385917835\n"
     ]
    },
    {
     "name": "stderr",
     "output_type": "stream",
     "text": [
      "C:\\Users\\caios\\anaconda3\\lib\\site-packages\\sklearn\\cluster\\_kmeans.py:870: FutureWarning: The default value of `n_init` will change from 3 to 'auto' in 1.4. Set the value of `n_init` explicitly to suppress the warning\n",
      "  warnings.warn(\n"
     ]
    },
    {
     "name": "stdout",
     "output_type": "stream",
     "text": [
      "For n_clusters = 9 The average silhouette_score is : 0.22436000681475393\n"
     ]
    },
    {
     "name": "stderr",
     "output_type": "stream",
     "text": [
      "C:\\Users\\caios\\anaconda3\\lib\\site-packages\\sklearn\\cluster\\_kmeans.py:870: FutureWarning: The default value of `n_init` will change from 3 to 'auto' in 1.4. Set the value of `n_init` explicitly to suppress the warning\n",
      "  warnings.warn(\n"
     ]
    },
    {
     "name": "stdout",
     "output_type": "stream",
     "text": [
      "For n_clusters = 10 The average silhouette_score is : 0.23518870997597227\n"
     ]
    },
    {
     "name": "stderr",
     "output_type": "stream",
     "text": [
      "C:\\Users\\caios\\anaconda3\\lib\\site-packages\\sklearn\\cluster\\_kmeans.py:870: FutureWarning: The default value of `n_init` will change from 3 to 'auto' in 1.4. Set the value of `n_init` explicitly to suppress the warning\n",
      "  warnings.warn(\n"
     ]
    },
    {
     "name": "stdout",
     "output_type": "stream",
     "text": [
      "For n_clusters = 11 The average silhouette_score is : 0.26481959426629187\n"
     ]
    },
    {
     "name": "stderr",
     "output_type": "stream",
     "text": [
      "C:\\Users\\caios\\anaconda3\\lib\\site-packages\\sklearn\\cluster\\_kmeans.py:870: FutureWarning: The default value of `n_init` will change from 3 to 'auto' in 1.4. Set the value of `n_init` explicitly to suppress the warning\n",
      "  warnings.warn(\n"
     ]
    },
    {
     "name": "stdout",
     "output_type": "stream",
     "text": [
      "For n_clusters = 12 The average silhouette_score is : 0.2867548133760748\n"
     ]
    },
    {
     "name": "stderr",
     "output_type": "stream",
     "text": [
      "C:\\Users\\caios\\anaconda3\\lib\\site-packages\\sklearn\\cluster\\_kmeans.py:870: FutureWarning: The default value of `n_init` will change from 3 to 'auto' in 1.4. Set the value of `n_init` explicitly to suppress the warning\n",
      "  warnings.warn(\n"
     ]
    },
    {
     "name": "stdout",
     "output_type": "stream",
     "text": [
      "For n_clusters = 13 The average silhouette_score is : 0.2968447758096531\n"
     ]
    },
    {
     "name": "stderr",
     "output_type": "stream",
     "text": [
      "C:\\Users\\caios\\anaconda3\\lib\\site-packages\\sklearn\\cluster\\_kmeans.py:870: FutureWarning: The default value of `n_init` will change from 3 to 'auto' in 1.4. Set the value of `n_init` explicitly to suppress the warning\n",
      "  warnings.warn(\n"
     ]
    },
    {
     "name": "stdout",
     "output_type": "stream",
     "text": [
      "For n_clusters = 14 The average silhouette_score is : 0.3002606573626537\n"
     ]
    },
    {
     "name": "stderr",
     "output_type": "stream",
     "text": [
      "C:\\Users\\caios\\anaconda3\\lib\\site-packages\\sklearn\\cluster\\_kmeans.py:870: FutureWarning: The default value of `n_init` will change from 3 to 'auto' in 1.4. Set the value of `n_init` explicitly to suppress the warning\n",
      "  warnings.warn(\n"
     ]
    },
    {
     "name": "stdout",
     "output_type": "stream",
     "text": [
      "For n_clusters = 15 The average silhouette_score is : 0.3111296829449974\n"
     ]
    },
    {
     "name": "stderr",
     "output_type": "stream",
     "text": [
      "C:\\Users\\caios\\anaconda3\\lib\\site-packages\\sklearn\\cluster\\_kmeans.py:870: FutureWarning: The default value of `n_init` will change from 3 to 'auto' in 1.4. Set the value of `n_init` explicitly to suppress the warning\n",
      "  warnings.warn(\n"
     ]
    },
    {
     "name": "stdout",
     "output_type": "stream",
     "text": [
      "For n_clusters = 16 The average silhouette_score is : 0.3171732954164477\n"
     ]
    },
    {
     "name": "stderr",
     "output_type": "stream",
     "text": [
      "C:\\Users\\caios\\anaconda3\\lib\\site-packages\\sklearn\\cluster\\_kmeans.py:870: FutureWarning: The default value of `n_init` will change from 3 to 'auto' in 1.4. Set the value of `n_init` explicitly to suppress the warning\n",
      "  warnings.warn(\n"
     ]
    },
    {
     "name": "stdout",
     "output_type": "stream",
     "text": [
      "For n_clusters = 17 The average silhouette_score is : 0.31789470619329296\n"
     ]
    },
    {
     "name": "stderr",
     "output_type": "stream",
     "text": [
      "C:\\Users\\caios\\anaconda3\\lib\\site-packages\\sklearn\\cluster\\_kmeans.py:870: FutureWarning: The default value of `n_init` will change from 3 to 'auto' in 1.4. Set the value of `n_init` explicitly to suppress the warning\n",
      "  warnings.warn(\n"
     ]
    },
    {
     "name": "stdout",
     "output_type": "stream",
     "text": [
      "For n_clusters = 18 The average silhouette_score is : 0.32335046882840845\n"
     ]
    },
    {
     "name": "stderr",
     "output_type": "stream",
     "text": [
      "C:\\Users\\caios\\anaconda3\\lib\\site-packages\\sklearn\\cluster\\_kmeans.py:870: FutureWarning: The default value of `n_init` will change from 3 to 'auto' in 1.4. Set the value of `n_init` explicitly to suppress the warning\n",
      "  warnings.warn(\n"
     ]
    },
    {
     "name": "stdout",
     "output_type": "stream",
     "text": [
      "For n_clusters = 19 The average silhouette_score is : 0.3224198055943332\n"
     ]
    },
    {
     "name": "stderr",
     "output_type": "stream",
     "text": [
      "C:\\Users\\caios\\anaconda3\\lib\\site-packages\\sklearn\\cluster\\_kmeans.py:870: FutureWarning: The default value of `n_init` will change from 3 to 'auto' in 1.4. Set the value of `n_init` explicitly to suppress the warning\n",
      "  warnings.warn(\n"
     ]
    },
    {
     "name": "stdout",
     "output_type": "stream",
     "text": [
      "For n_clusters = 20 The average silhouette_score is : 0.328342728504085\n"
     ]
    },
    {
     "name": "stderr",
     "output_type": "stream",
     "text": [
      "C:\\Users\\caios\\anaconda3\\lib\\site-packages\\sklearn\\cluster\\_kmeans.py:870: FutureWarning: The default value of `n_init` will change from 3 to 'auto' in 1.4. Set the value of `n_init` explicitly to suppress the warning\n",
      "  warnings.warn(\n"
     ]
    },
    {
     "name": "stdout",
     "output_type": "stream",
     "text": [
      "For n_clusters = 21 The average silhouette_score is : 0.32064635043156137\n"
     ]
    },
    {
     "name": "stderr",
     "output_type": "stream",
     "text": [
      "C:\\Users\\caios\\anaconda3\\lib\\site-packages\\sklearn\\cluster\\_kmeans.py:870: FutureWarning: The default value of `n_init` will change from 3 to 'auto' in 1.4. Set the value of `n_init` explicitly to suppress the warning\n",
      "  warnings.warn(\n"
     ]
    },
    {
     "name": "stdout",
     "output_type": "stream",
     "text": [
      "For n_clusters = 22 The average silhouette_score is : 0.32004360623798245\n"
     ]
    },
    {
     "name": "stderr",
     "output_type": "stream",
     "text": [
      "C:\\Users\\caios\\anaconda3\\lib\\site-packages\\sklearn\\cluster\\_kmeans.py:870: FutureWarning: The default value of `n_init` will change from 3 to 'auto' in 1.4. Set the value of `n_init` explicitly to suppress the warning\n",
      "  warnings.warn(\n"
     ]
    },
    {
     "name": "stdout",
     "output_type": "stream",
     "text": [
      "For n_clusters = 23 The average silhouette_score is : 0.3360715929010872\n"
     ]
    },
    {
     "name": "stderr",
     "output_type": "stream",
     "text": [
      "C:\\Users\\caios\\anaconda3\\lib\\site-packages\\sklearn\\cluster\\_kmeans.py:870: FutureWarning: The default value of `n_init` will change from 3 to 'auto' in 1.4. Set the value of `n_init` explicitly to suppress the warning\n",
      "  warnings.warn(\n"
     ]
    },
    {
     "name": "stdout",
     "output_type": "stream",
     "text": [
      "For n_clusters = 24 The average silhouette_score is : 0.3470921103167421\n"
     ]
    },
    {
     "name": "stderr",
     "output_type": "stream",
     "text": [
      "C:\\Users\\caios\\anaconda3\\lib\\site-packages\\sklearn\\cluster\\_kmeans.py:870: FutureWarning: The default value of `n_init` will change from 3 to 'auto' in 1.4. Set the value of `n_init` explicitly to suppress the warning\n",
      "  warnings.warn(\n"
     ]
    },
    {
     "name": "stdout",
     "output_type": "stream",
     "text": [
      "For n_clusters = 25 The average silhouette_score is : 0.3558792459306277\n"
     ]
    },
    {
     "name": "stderr",
     "output_type": "stream",
     "text": [
      "C:\\Users\\caios\\anaconda3\\lib\\site-packages\\sklearn\\cluster\\_kmeans.py:870: FutureWarning: The default value of `n_init` will change from 3 to 'auto' in 1.4. Set the value of `n_init` explicitly to suppress the warning\n",
      "  warnings.warn(\n"
     ]
    },
    {
     "name": "stdout",
     "output_type": "stream",
     "text": [
      "For n_clusters = 26 The average silhouette_score is : 0.35619461736114477\n"
     ]
    },
    {
     "name": "stderr",
     "output_type": "stream",
     "text": [
      "C:\\Users\\caios\\anaconda3\\lib\\site-packages\\sklearn\\cluster\\_kmeans.py:870: FutureWarning: The default value of `n_init` will change from 3 to 'auto' in 1.4. Set the value of `n_init` explicitly to suppress the warning\n",
      "  warnings.warn(\n"
     ]
    },
    {
     "name": "stdout",
     "output_type": "stream",
     "text": [
      "For n_clusters = 27 The average silhouette_score is : 0.36238614817251674\n"
     ]
    },
    {
     "name": "stderr",
     "output_type": "stream",
     "text": [
      "C:\\Users\\caios\\anaconda3\\lib\\site-packages\\sklearn\\cluster\\_kmeans.py:870: FutureWarning: The default value of `n_init` will change from 3 to 'auto' in 1.4. Set the value of `n_init` explicitly to suppress the warning\n",
      "  warnings.warn(\n"
     ]
    },
    {
     "name": "stdout",
     "output_type": "stream",
     "text": [
      "For n_clusters = 28 The average silhouette_score is : 0.3520792546013588\n"
     ]
    },
    {
     "name": "stderr",
     "output_type": "stream",
     "text": [
      "C:\\Users\\caios\\anaconda3\\lib\\site-packages\\sklearn\\cluster\\_kmeans.py:870: FutureWarning: The default value of `n_init` will change from 3 to 'auto' in 1.4. Set the value of `n_init` explicitly to suppress the warning\n",
      "  warnings.warn(\n"
     ]
    },
    {
     "name": "stdout",
     "output_type": "stream",
     "text": [
      "For n_clusters = 29 The average silhouette_score is : 0.3597413021622139\n"
     ]
    },
    {
     "name": "stderr",
     "output_type": "stream",
     "text": [
      "C:\\Users\\caios\\anaconda3\\lib\\site-packages\\sklearn\\cluster\\_kmeans.py:870: FutureWarning: The default value of `n_init` will change from 3 to 'auto' in 1.4. Set the value of `n_init` explicitly to suppress the warning\n",
      "  warnings.warn(\n"
     ]
    },
    {
     "name": "stdout",
     "output_type": "stream",
     "text": [
      "For n_clusters = 30 The average silhouette_score is : 0.35805019270288113\n"
     ]
    },
    {
     "name": "stderr",
     "output_type": "stream",
     "text": [
      "C:\\Users\\caios\\anaconda3\\lib\\site-packages\\sklearn\\cluster\\_kmeans.py:870: FutureWarning: The default value of `n_init` will change from 3 to 'auto' in 1.4. Set the value of `n_init` explicitly to suppress the warning\n",
      "  warnings.warn(\n"
     ]
    },
    {
     "name": "stdout",
     "output_type": "stream",
     "text": [
      "For n_clusters = 31 The average silhouette_score is : 0.3730738494272491\n"
     ]
    },
    {
     "name": "stderr",
     "output_type": "stream",
     "text": [
      "C:\\Users\\caios\\anaconda3\\lib\\site-packages\\sklearn\\cluster\\_kmeans.py:870: FutureWarning: The default value of `n_init` will change from 3 to 'auto' in 1.4. Set the value of `n_init` explicitly to suppress the warning\n",
      "  warnings.warn(\n"
     ]
    },
    {
     "name": "stdout",
     "output_type": "stream",
     "text": [
      "For n_clusters = 32 The average silhouette_score is : 0.37837080904964737\n"
     ]
    },
    {
     "name": "stderr",
     "output_type": "stream",
     "text": [
      "C:\\Users\\caios\\anaconda3\\lib\\site-packages\\sklearn\\cluster\\_kmeans.py:870: FutureWarning: The default value of `n_init` will change from 3 to 'auto' in 1.4. Set the value of `n_init` explicitly to suppress the warning\n",
      "  warnings.warn(\n"
     ]
    },
    {
     "name": "stdout",
     "output_type": "stream",
     "text": [
      "For n_clusters = 33 The average silhouette_score is : 0.3825916086187108\n"
     ]
    },
    {
     "name": "stderr",
     "output_type": "stream",
     "text": [
      "C:\\Users\\caios\\anaconda3\\lib\\site-packages\\sklearn\\cluster\\_kmeans.py:870: FutureWarning: The default value of `n_init` will change from 3 to 'auto' in 1.4. Set the value of `n_init` explicitly to suppress the warning\n",
      "  warnings.warn(\n"
     ]
    },
    {
     "name": "stdout",
     "output_type": "stream",
     "text": [
      "For n_clusters = 34 The average silhouette_score is : 0.364913847047513\n"
     ]
    },
    {
     "name": "stderr",
     "output_type": "stream",
     "text": [
      "C:\\Users\\caios\\anaconda3\\lib\\site-packages\\sklearn\\cluster\\_kmeans.py:870: FutureWarning: The default value of `n_init` will change from 3 to 'auto' in 1.4. Set the value of `n_init` explicitly to suppress the warning\n",
      "  warnings.warn(\n"
     ]
    },
    {
     "name": "stdout",
     "output_type": "stream",
     "text": [
      "For n_clusters = 35 The average silhouette_score is : 0.3764642295307529\n"
     ]
    },
    {
     "name": "stderr",
     "output_type": "stream",
     "text": [
      "C:\\Users\\caios\\anaconda3\\lib\\site-packages\\sklearn\\cluster\\_kmeans.py:870: FutureWarning: The default value of `n_init` will change from 3 to 'auto' in 1.4. Set the value of `n_init` explicitly to suppress the warning\n",
      "  warnings.warn(\n"
     ]
    },
    {
     "name": "stdout",
     "output_type": "stream",
     "text": [
      "For n_clusters = 36 The average silhouette_score is : 0.3744259201948723\n"
     ]
    },
    {
     "name": "stderr",
     "output_type": "stream",
     "text": [
      "C:\\Users\\caios\\anaconda3\\lib\\site-packages\\sklearn\\cluster\\_kmeans.py:870: FutureWarning: The default value of `n_init` will change from 3 to 'auto' in 1.4. Set the value of `n_init` explicitly to suppress the warning\n",
      "  warnings.warn(\n"
     ]
    },
    {
     "name": "stdout",
     "output_type": "stream",
     "text": [
      "For n_clusters = 37 The average silhouette_score is : 0.3976669736801014\n"
     ]
    },
    {
     "name": "stderr",
     "output_type": "stream",
     "text": [
      "C:\\Users\\caios\\anaconda3\\lib\\site-packages\\sklearn\\cluster\\_kmeans.py:870: FutureWarning: The default value of `n_init` will change from 3 to 'auto' in 1.4. Set the value of `n_init` explicitly to suppress the warning\n",
      "  warnings.warn(\n"
     ]
    },
    {
     "name": "stdout",
     "output_type": "stream",
     "text": [
      "For n_clusters = 38 The average silhouette_score is : 0.38328414087776785\n"
     ]
    },
    {
     "name": "stderr",
     "output_type": "stream",
     "text": [
      "C:\\Users\\caios\\anaconda3\\lib\\site-packages\\sklearn\\cluster\\_kmeans.py:870: FutureWarning: The default value of `n_init` will change from 3 to 'auto' in 1.4. Set the value of `n_init` explicitly to suppress the warning\n",
      "  warnings.warn(\n"
     ]
    },
    {
     "name": "stdout",
     "output_type": "stream",
     "text": [
      "For n_clusters = 39 The average silhouette_score is : 0.3917242974526776\n"
     ]
    },
    {
     "name": "stderr",
     "output_type": "stream",
     "text": [
      "C:\\Users\\caios\\anaconda3\\lib\\site-packages\\sklearn\\cluster\\_kmeans.py:870: FutureWarning: The default value of `n_init` will change from 3 to 'auto' in 1.4. Set the value of `n_init` explicitly to suppress the warning\n",
      "  warnings.warn(\n"
     ]
    },
    {
     "name": "stdout",
     "output_type": "stream",
     "text": [
      "For n_clusters = 40 The average silhouette_score is : 0.3971780833975094\n"
     ]
    },
    {
     "name": "stderr",
     "output_type": "stream",
     "text": [
      "C:\\Users\\caios\\anaconda3\\lib\\site-packages\\sklearn\\cluster\\_kmeans.py:870: FutureWarning: The default value of `n_init` will change from 3 to 'auto' in 1.4. Set the value of `n_init` explicitly to suppress the warning\n",
      "  warnings.warn(\n"
     ]
    },
    {
     "name": "stdout",
     "output_type": "stream",
     "text": [
      "For n_clusters = 41 The average silhouette_score is : 0.36851278582408625\n"
     ]
    },
    {
     "name": "stderr",
     "output_type": "stream",
     "text": [
      "C:\\Users\\caios\\anaconda3\\lib\\site-packages\\sklearn\\cluster\\_kmeans.py:870: FutureWarning: The default value of `n_init` will change from 3 to 'auto' in 1.4. Set the value of `n_init` explicitly to suppress the warning\n",
      "  warnings.warn(\n"
     ]
    },
    {
     "name": "stdout",
     "output_type": "stream",
     "text": [
      "For n_clusters = 42 The average silhouette_score is : 0.3789526352390799\n"
     ]
    },
    {
     "name": "stderr",
     "output_type": "stream",
     "text": [
      "C:\\Users\\caios\\anaconda3\\lib\\site-packages\\sklearn\\cluster\\_kmeans.py:870: FutureWarning: The default value of `n_init` will change from 3 to 'auto' in 1.4. Set the value of `n_init` explicitly to suppress the warning\n",
      "  warnings.warn(\n"
     ]
    },
    {
     "name": "stdout",
     "output_type": "stream",
     "text": [
      "For n_clusters = 43 The average silhouette_score is : 0.3902931637091878\n"
     ]
    },
    {
     "name": "stderr",
     "output_type": "stream",
     "text": [
      "C:\\Users\\caios\\anaconda3\\lib\\site-packages\\sklearn\\cluster\\_kmeans.py:870: FutureWarning: The default value of `n_init` will change from 3 to 'auto' in 1.4. Set the value of `n_init` explicitly to suppress the warning\n",
      "  warnings.warn(\n"
     ]
    },
    {
     "name": "stdout",
     "output_type": "stream",
     "text": [
      "For n_clusters = 44 The average silhouette_score is : 0.4115949935915341\n"
     ]
    },
    {
     "name": "stderr",
     "output_type": "stream",
     "text": [
      "C:\\Users\\caios\\anaconda3\\lib\\site-packages\\sklearn\\cluster\\_kmeans.py:870: FutureWarning: The default value of `n_init` will change from 3 to 'auto' in 1.4. Set the value of `n_init` explicitly to suppress the warning\n",
      "  warnings.warn(\n"
     ]
    },
    {
     "name": "stdout",
     "output_type": "stream",
     "text": [
      "For n_clusters = 45 The average silhouette_score is : 0.40237006486080745\n"
     ]
    },
    {
     "name": "stderr",
     "output_type": "stream",
     "text": [
      "C:\\Users\\caios\\anaconda3\\lib\\site-packages\\sklearn\\cluster\\_kmeans.py:870: FutureWarning: The default value of `n_init` will change from 3 to 'auto' in 1.4. Set the value of `n_init` explicitly to suppress the warning\n",
      "  warnings.warn(\n"
     ]
    },
    {
     "name": "stdout",
     "output_type": "stream",
     "text": [
      "For n_clusters = 46 The average silhouette_score is : 0.39389154252929204\n"
     ]
    },
    {
     "name": "stderr",
     "output_type": "stream",
     "text": [
      "C:\\Users\\caios\\anaconda3\\lib\\site-packages\\sklearn\\cluster\\_kmeans.py:870: FutureWarning: The default value of `n_init` will change from 3 to 'auto' in 1.4. Set the value of `n_init` explicitly to suppress the warning\n",
      "  warnings.warn(\n"
     ]
    },
    {
     "name": "stdout",
     "output_type": "stream",
     "text": [
      "For n_clusters = 47 The average silhouette_score is : 0.396892253055704\n"
     ]
    },
    {
     "name": "stderr",
     "output_type": "stream",
     "text": [
      "C:\\Users\\caios\\anaconda3\\lib\\site-packages\\sklearn\\cluster\\_kmeans.py:870: FutureWarning: The default value of `n_init` will change from 3 to 'auto' in 1.4. Set the value of `n_init` explicitly to suppress the warning\n",
      "  warnings.warn(\n"
     ]
    },
    {
     "name": "stdout",
     "output_type": "stream",
     "text": [
      "For n_clusters = 48 The average silhouette_score is : 0.3987080970315394\n"
     ]
    },
    {
     "name": "stderr",
     "output_type": "stream",
     "text": [
      "C:\\Users\\caios\\anaconda3\\lib\\site-packages\\sklearn\\cluster\\_kmeans.py:870: FutureWarning: The default value of `n_init` will change from 3 to 'auto' in 1.4. Set the value of `n_init` explicitly to suppress the warning\n",
      "  warnings.warn(\n"
     ]
    },
    {
     "name": "stdout",
     "output_type": "stream",
     "text": [
      "For n_clusters = 49 The average silhouette_score is : 0.4174955662639441\n"
     ]
    },
    {
     "name": "stderr",
     "output_type": "stream",
     "text": [
      "C:\\Users\\caios\\anaconda3\\lib\\site-packages\\sklearn\\cluster\\_kmeans.py:870: FutureWarning: The default value of `n_init` will change from 3 to 'auto' in 1.4. Set the value of `n_init` explicitly to suppress the warning\n",
      "  warnings.warn(\n"
     ]
    },
    {
     "name": "stdout",
     "output_type": "stream",
     "text": [
      "For n_clusters = 50 The average silhouette_score is : 0.40071612340817464\n"
     ]
    },
    {
     "name": "stderr",
     "output_type": "stream",
     "text": [
      "C:\\Users\\caios\\anaconda3\\lib\\site-packages\\sklearn\\cluster\\_kmeans.py:870: FutureWarning: The default value of `n_init` will change from 3 to 'auto' in 1.4. Set the value of `n_init` explicitly to suppress the warning\n",
      "  warnings.warn(\n"
     ]
    },
    {
     "name": "stdout",
     "output_type": "stream",
     "text": [
      "For n_clusters = 51 The average silhouette_score is : 0.42570420876985554\n"
     ]
    },
    {
     "name": "stderr",
     "output_type": "stream",
     "text": [
      "C:\\Users\\caios\\anaconda3\\lib\\site-packages\\sklearn\\cluster\\_kmeans.py:870: FutureWarning: The default value of `n_init` will change from 3 to 'auto' in 1.4. Set the value of `n_init` explicitly to suppress the warning\n",
      "  warnings.warn(\n"
     ]
    },
    {
     "name": "stdout",
     "output_type": "stream",
     "text": [
      "For n_clusters = 52 The average silhouette_score is : 0.4078702724324089\n"
     ]
    },
    {
     "name": "stderr",
     "output_type": "stream",
     "text": [
      "C:\\Users\\caios\\anaconda3\\lib\\site-packages\\sklearn\\cluster\\_kmeans.py:870: FutureWarning: The default value of `n_init` will change from 3 to 'auto' in 1.4. Set the value of `n_init` explicitly to suppress the warning\n",
      "  warnings.warn(\n"
     ]
    },
    {
     "name": "stdout",
     "output_type": "stream",
     "text": [
      "For n_clusters = 53 The average silhouette_score is : 0.41472963035967075\n"
     ]
    },
    {
     "name": "stderr",
     "output_type": "stream",
     "text": [
      "C:\\Users\\caios\\anaconda3\\lib\\site-packages\\sklearn\\cluster\\_kmeans.py:870: FutureWarning: The default value of `n_init` will change from 3 to 'auto' in 1.4. Set the value of `n_init` explicitly to suppress the warning\n",
      "  warnings.warn(\n"
     ]
    },
    {
     "name": "stdout",
     "output_type": "stream",
     "text": [
      "For n_clusters = 54 The average silhouette_score is : 0.4267890165758672\n"
     ]
    },
    {
     "name": "stderr",
     "output_type": "stream",
     "text": [
      "C:\\Users\\caios\\anaconda3\\lib\\site-packages\\sklearn\\cluster\\_kmeans.py:870: FutureWarning: The default value of `n_init` will change from 3 to 'auto' in 1.4. Set the value of `n_init` explicitly to suppress the warning\n",
      "  warnings.warn(\n"
     ]
    },
    {
     "name": "stdout",
     "output_type": "stream",
     "text": [
      "For n_clusters = 55 The average silhouette_score is : 0.4151244995803817\n"
     ]
    },
    {
     "name": "stderr",
     "output_type": "stream",
     "text": [
      "C:\\Users\\caios\\anaconda3\\lib\\site-packages\\sklearn\\cluster\\_kmeans.py:870: FutureWarning: The default value of `n_init` will change from 3 to 'auto' in 1.4. Set the value of `n_init` explicitly to suppress the warning\n",
      "  warnings.warn(\n"
     ]
    },
    {
     "name": "stdout",
     "output_type": "stream",
     "text": [
      "For n_clusters = 56 The average silhouette_score is : 0.42029720429361167\n"
     ]
    },
    {
     "name": "stderr",
     "output_type": "stream",
     "text": [
      "C:\\Users\\caios\\anaconda3\\lib\\site-packages\\sklearn\\cluster\\_kmeans.py:870: FutureWarning: The default value of `n_init` will change from 3 to 'auto' in 1.4. Set the value of `n_init` explicitly to suppress the warning\n",
      "  warnings.warn(\n"
     ]
    },
    {
     "name": "stdout",
     "output_type": "stream",
     "text": [
      "For n_clusters = 57 The average silhouette_score is : 0.42062715297628706\n"
     ]
    },
    {
     "name": "stderr",
     "output_type": "stream",
     "text": [
      "C:\\Users\\caios\\anaconda3\\lib\\site-packages\\sklearn\\cluster\\_kmeans.py:870: FutureWarning: The default value of `n_init` will change from 3 to 'auto' in 1.4. Set the value of `n_init` explicitly to suppress the warning\n",
      "  warnings.warn(\n"
     ]
    },
    {
     "name": "stdout",
     "output_type": "stream",
     "text": [
      "For n_clusters = 58 The average silhouette_score is : 0.4222843529928591\n"
     ]
    },
    {
     "name": "stderr",
     "output_type": "stream",
     "text": [
      "C:\\Users\\caios\\anaconda3\\lib\\site-packages\\sklearn\\cluster\\_kmeans.py:870: FutureWarning: The default value of `n_init` will change from 3 to 'auto' in 1.4. Set the value of `n_init` explicitly to suppress the warning\n",
      "  warnings.warn(\n"
     ]
    },
    {
     "name": "stdout",
     "output_type": "stream",
     "text": [
      "For n_clusters = 59 The average silhouette_score is : 0.42894354724730593\n"
     ]
    },
    {
     "name": "stderr",
     "output_type": "stream",
     "text": [
      "C:\\Users\\caios\\anaconda3\\lib\\site-packages\\sklearn\\cluster\\_kmeans.py:870: FutureWarning: The default value of `n_init` will change from 3 to 'auto' in 1.4. Set the value of `n_init` explicitly to suppress the warning\n",
      "  warnings.warn(\n"
     ]
    },
    {
     "name": "stdout",
     "output_type": "stream",
     "text": [
      "For n_clusters = 60 The average silhouette_score is : 0.4174258803491534\n"
     ]
    },
    {
     "name": "stderr",
     "output_type": "stream",
     "text": [
      "C:\\Users\\caios\\anaconda3\\lib\\site-packages\\sklearn\\cluster\\_kmeans.py:870: FutureWarning: The default value of `n_init` will change from 3 to 'auto' in 1.4. Set the value of `n_init` explicitly to suppress the warning\n",
      "  warnings.warn(\n"
     ]
    },
    {
     "name": "stdout",
     "output_type": "stream",
     "text": [
      "For n_clusters = 61 The average silhouette_score is : 0.43098739615925374\n"
     ]
    },
    {
     "name": "stderr",
     "output_type": "stream",
     "text": [
      "C:\\Users\\caios\\anaconda3\\lib\\site-packages\\sklearn\\cluster\\_kmeans.py:870: FutureWarning: The default value of `n_init` will change from 3 to 'auto' in 1.4. Set the value of `n_init` explicitly to suppress the warning\n",
      "  warnings.warn(\n"
     ]
    },
    {
     "name": "stdout",
     "output_type": "stream",
     "text": [
      "For n_clusters = 62 The average silhouette_score is : 0.41836115337160285\n"
     ]
    },
    {
     "name": "stderr",
     "output_type": "stream",
     "text": [
      "C:\\Users\\caios\\anaconda3\\lib\\site-packages\\sklearn\\cluster\\_kmeans.py:870: FutureWarning: The default value of `n_init` will change from 3 to 'auto' in 1.4. Set the value of `n_init` explicitly to suppress the warning\n",
      "  warnings.warn(\n"
     ]
    },
    {
     "name": "stdout",
     "output_type": "stream",
     "text": [
      "For n_clusters = 63 The average silhouette_score is : 0.43571228919981747\n"
     ]
    },
    {
     "name": "stderr",
     "output_type": "stream",
     "text": [
      "C:\\Users\\caios\\anaconda3\\lib\\site-packages\\sklearn\\cluster\\_kmeans.py:870: FutureWarning: The default value of `n_init` will change from 3 to 'auto' in 1.4. Set the value of `n_init` explicitly to suppress the warning\n",
      "  warnings.warn(\n"
     ]
    },
    {
     "name": "stdout",
     "output_type": "stream",
     "text": [
      "For n_clusters = 64 The average silhouette_score is : 0.4349352059738027\n"
     ]
    },
    {
     "name": "stderr",
     "output_type": "stream",
     "text": [
      "C:\\Users\\caios\\anaconda3\\lib\\site-packages\\sklearn\\cluster\\_kmeans.py:870: FutureWarning: The default value of `n_init` will change from 3 to 'auto' in 1.4. Set the value of `n_init` explicitly to suppress the warning\n",
      "  warnings.warn(\n"
     ]
    },
    {
     "name": "stdout",
     "output_type": "stream",
     "text": [
      "For n_clusters = 65 The average silhouette_score is : 0.4297836402002636\n"
     ]
    },
    {
     "name": "stderr",
     "output_type": "stream",
     "text": [
      "C:\\Users\\caios\\anaconda3\\lib\\site-packages\\sklearn\\cluster\\_kmeans.py:870: FutureWarning: The default value of `n_init` will change from 3 to 'auto' in 1.4. Set the value of `n_init` explicitly to suppress the warning\n",
      "  warnings.warn(\n"
     ]
    },
    {
     "name": "stdout",
     "output_type": "stream",
     "text": [
      "For n_clusters = 66 The average silhouette_score is : 0.4344695030191967\n"
     ]
    },
    {
     "name": "stderr",
     "output_type": "stream",
     "text": [
      "C:\\Users\\caios\\anaconda3\\lib\\site-packages\\sklearn\\cluster\\_kmeans.py:870: FutureWarning: The default value of `n_init` will change from 3 to 'auto' in 1.4. Set the value of `n_init` explicitly to suppress the warning\n",
      "  warnings.warn(\n"
     ]
    },
    {
     "name": "stdout",
     "output_type": "stream",
     "text": [
      "For n_clusters = 67 The average silhouette_score is : 0.44059950224462224\n"
     ]
    },
    {
     "name": "stderr",
     "output_type": "stream",
     "text": [
      "C:\\Users\\caios\\anaconda3\\lib\\site-packages\\sklearn\\cluster\\_kmeans.py:870: FutureWarning: The default value of `n_init` will change from 3 to 'auto' in 1.4. Set the value of `n_init` explicitly to suppress the warning\n",
      "  warnings.warn(\n"
     ]
    },
    {
     "name": "stdout",
     "output_type": "stream",
     "text": [
      "For n_clusters = 68 The average silhouette_score is : 0.4296091054647814\n"
     ]
    },
    {
     "name": "stderr",
     "output_type": "stream",
     "text": [
      "C:\\Users\\caios\\anaconda3\\lib\\site-packages\\sklearn\\cluster\\_kmeans.py:870: FutureWarning: The default value of `n_init` will change from 3 to 'auto' in 1.4. Set the value of `n_init` explicitly to suppress the warning\n",
      "  warnings.warn(\n"
     ]
    },
    {
     "name": "stdout",
     "output_type": "stream",
     "text": [
      "For n_clusters = 69 The average silhouette_score is : 0.4249230341530833\n"
     ]
    },
    {
     "name": "stderr",
     "output_type": "stream",
     "text": [
      "C:\\Users\\caios\\anaconda3\\lib\\site-packages\\sklearn\\cluster\\_kmeans.py:870: FutureWarning: The default value of `n_init` will change from 3 to 'auto' in 1.4. Set the value of `n_init` explicitly to suppress the warning\n",
      "  warnings.warn(\n"
     ]
    },
    {
     "name": "stdout",
     "output_type": "stream",
     "text": [
      "For n_clusters = 70 The average silhouette_score is : 0.43551282227689014\n"
     ]
    },
    {
     "name": "stderr",
     "output_type": "stream",
     "text": [
      "C:\\Users\\caios\\anaconda3\\lib\\site-packages\\sklearn\\cluster\\_kmeans.py:870: FutureWarning: The default value of `n_init` will change from 3 to 'auto' in 1.4. Set the value of `n_init` explicitly to suppress the warning\n",
      "  warnings.warn(\n"
     ]
    },
    {
     "name": "stdout",
     "output_type": "stream",
     "text": [
      "For n_clusters = 71 The average silhouette_score is : 0.44952477390979056\n"
     ]
    },
    {
     "name": "stderr",
     "output_type": "stream",
     "text": [
      "C:\\Users\\caios\\anaconda3\\lib\\site-packages\\sklearn\\cluster\\_kmeans.py:870: FutureWarning: The default value of `n_init` will change from 3 to 'auto' in 1.4. Set the value of `n_init` explicitly to suppress the warning\n",
      "  warnings.warn(\n"
     ]
    },
    {
     "name": "stdout",
     "output_type": "stream",
     "text": [
      "For n_clusters = 72 The average silhouette_score is : 0.4446136548492086\n"
     ]
    },
    {
     "name": "stderr",
     "output_type": "stream",
     "text": [
      "C:\\Users\\caios\\anaconda3\\lib\\site-packages\\sklearn\\cluster\\_kmeans.py:870: FutureWarning: The default value of `n_init` will change from 3 to 'auto' in 1.4. Set the value of `n_init` explicitly to suppress the warning\n",
      "  warnings.warn(\n"
     ]
    },
    {
     "name": "stdout",
     "output_type": "stream",
     "text": [
      "For n_clusters = 73 The average silhouette_score is : 0.43103029861634645\n"
     ]
    },
    {
     "name": "stderr",
     "output_type": "stream",
     "text": [
      "C:\\Users\\caios\\anaconda3\\lib\\site-packages\\sklearn\\cluster\\_kmeans.py:870: FutureWarning: The default value of `n_init` will change from 3 to 'auto' in 1.4. Set the value of `n_init` explicitly to suppress the warning\n",
      "  warnings.warn(\n"
     ]
    },
    {
     "name": "stdout",
     "output_type": "stream",
     "text": [
      "For n_clusters = 74 The average silhouette_score is : 0.4395148249158715\n"
     ]
    },
    {
     "name": "stderr",
     "output_type": "stream",
     "text": [
      "C:\\Users\\caios\\anaconda3\\lib\\site-packages\\sklearn\\cluster\\_kmeans.py:870: FutureWarning: The default value of `n_init` will change from 3 to 'auto' in 1.4. Set the value of `n_init` explicitly to suppress the warning\n",
      "  warnings.warn(\n"
     ]
    },
    {
     "name": "stdout",
     "output_type": "stream",
     "text": [
      "For n_clusters = 75 The average silhouette_score is : 0.434272993589507\n"
     ]
    },
    {
     "name": "stderr",
     "output_type": "stream",
     "text": [
      "C:\\Users\\caios\\anaconda3\\lib\\site-packages\\sklearn\\cluster\\_kmeans.py:870: FutureWarning: The default value of `n_init` will change from 3 to 'auto' in 1.4. Set the value of `n_init` explicitly to suppress the warning\n",
      "  warnings.warn(\n"
     ]
    },
    {
     "name": "stdout",
     "output_type": "stream",
     "text": [
      "For n_clusters = 76 The average silhouette_score is : 0.45162566792473235\n"
     ]
    },
    {
     "name": "stderr",
     "output_type": "stream",
     "text": [
      "C:\\Users\\caios\\anaconda3\\lib\\site-packages\\sklearn\\cluster\\_kmeans.py:870: FutureWarning: The default value of `n_init` will change from 3 to 'auto' in 1.4. Set the value of `n_init` explicitly to suppress the warning\n",
      "  warnings.warn(\n"
     ]
    },
    {
     "name": "stdout",
     "output_type": "stream",
     "text": [
      "For n_clusters = 77 The average silhouette_score is : 0.42010073576398954\n"
     ]
    },
    {
     "name": "stderr",
     "output_type": "stream",
     "text": [
      "C:\\Users\\caios\\anaconda3\\lib\\site-packages\\sklearn\\cluster\\_kmeans.py:870: FutureWarning: The default value of `n_init` will change from 3 to 'auto' in 1.4. Set the value of `n_init` explicitly to suppress the warning\n",
      "  warnings.warn(\n"
     ]
    },
    {
     "name": "stdout",
     "output_type": "stream",
     "text": [
      "For n_clusters = 78 The average silhouette_score is : 0.43422821920409793\n"
     ]
    },
    {
     "name": "stderr",
     "output_type": "stream",
     "text": [
      "C:\\Users\\caios\\anaconda3\\lib\\site-packages\\sklearn\\cluster\\_kmeans.py:870: FutureWarning: The default value of `n_init` will change from 3 to 'auto' in 1.4. Set the value of `n_init` explicitly to suppress the warning\n",
      "  warnings.warn(\n"
     ]
    },
    {
     "name": "stdout",
     "output_type": "stream",
     "text": [
      "For n_clusters = 79 The average silhouette_score is : 0.44388976324471086\n"
     ]
    },
    {
     "name": "stderr",
     "output_type": "stream",
     "text": [
      "C:\\Users\\caios\\anaconda3\\lib\\site-packages\\sklearn\\cluster\\_kmeans.py:870: FutureWarning: The default value of `n_init` will change from 3 to 'auto' in 1.4. Set the value of `n_init` explicitly to suppress the warning\n",
      "  warnings.warn(\n"
     ]
    },
    {
     "name": "stdout",
     "output_type": "stream",
     "text": [
      "For n_clusters = 80 The average silhouette_score is : 0.4333246684520972\n"
     ]
    },
    {
     "name": "stderr",
     "output_type": "stream",
     "text": [
      "C:\\Users\\caios\\anaconda3\\lib\\site-packages\\sklearn\\cluster\\_kmeans.py:870: FutureWarning: The default value of `n_init` will change from 3 to 'auto' in 1.4. Set the value of `n_init` explicitly to suppress the warning\n",
      "  warnings.warn(\n"
     ]
    },
    {
     "name": "stdout",
     "output_type": "stream",
     "text": [
      "For n_clusters = 81 The average silhouette_score is : 0.445340477340121\n"
     ]
    },
    {
     "name": "stderr",
     "output_type": "stream",
     "text": [
      "C:\\Users\\caios\\anaconda3\\lib\\site-packages\\sklearn\\cluster\\_kmeans.py:870: FutureWarning: The default value of `n_init` will change from 3 to 'auto' in 1.4. Set the value of `n_init` explicitly to suppress the warning\n",
      "  warnings.warn(\n"
     ]
    },
    {
     "name": "stdout",
     "output_type": "stream",
     "text": [
      "For n_clusters = 82 The average silhouette_score is : 0.4486932324728454\n"
     ]
    },
    {
     "name": "stderr",
     "output_type": "stream",
     "text": [
      "C:\\Users\\caios\\anaconda3\\lib\\site-packages\\sklearn\\cluster\\_kmeans.py:870: FutureWarning: The default value of `n_init` will change from 3 to 'auto' in 1.4. Set the value of `n_init` explicitly to suppress the warning\n",
      "  warnings.warn(\n"
     ]
    },
    {
     "name": "stdout",
     "output_type": "stream",
     "text": [
      "For n_clusters = 83 The average silhouette_score is : 0.4160761444333451\n"
     ]
    },
    {
     "name": "stderr",
     "output_type": "stream",
     "text": [
      "C:\\Users\\caios\\anaconda3\\lib\\site-packages\\sklearn\\cluster\\_kmeans.py:870: FutureWarning: The default value of `n_init` will change from 3 to 'auto' in 1.4. Set the value of `n_init` explicitly to suppress the warning\n",
      "  warnings.warn(\n"
     ]
    },
    {
     "name": "stdout",
     "output_type": "stream",
     "text": [
      "For n_clusters = 84 The average silhouette_score is : 0.4396902589635639\n"
     ]
    },
    {
     "name": "stderr",
     "output_type": "stream",
     "text": [
      "C:\\Users\\caios\\anaconda3\\lib\\site-packages\\sklearn\\cluster\\_kmeans.py:870: FutureWarning: The default value of `n_init` will change from 3 to 'auto' in 1.4. Set the value of `n_init` explicitly to suppress the warning\n",
      "  warnings.warn(\n"
     ]
    },
    {
     "name": "stdout",
     "output_type": "stream",
     "text": [
      "For n_clusters = 85 The average silhouette_score is : 0.440572832201777\n"
     ]
    },
    {
     "name": "stderr",
     "output_type": "stream",
     "text": [
      "C:\\Users\\caios\\anaconda3\\lib\\site-packages\\sklearn\\cluster\\_kmeans.py:870: FutureWarning: The default value of `n_init` will change from 3 to 'auto' in 1.4. Set the value of `n_init` explicitly to suppress the warning\n",
      "  warnings.warn(\n"
     ]
    },
    {
     "name": "stdout",
     "output_type": "stream",
     "text": [
      "For n_clusters = 86 The average silhouette_score is : 0.4423486533792218\n"
     ]
    },
    {
     "name": "stderr",
     "output_type": "stream",
     "text": [
      "C:\\Users\\caios\\anaconda3\\lib\\site-packages\\sklearn\\cluster\\_kmeans.py:870: FutureWarning: The default value of `n_init` will change from 3 to 'auto' in 1.4. Set the value of `n_init` explicitly to suppress the warning\n",
      "  warnings.warn(\n"
     ]
    },
    {
     "name": "stdout",
     "output_type": "stream",
     "text": [
      "For n_clusters = 87 The average silhouette_score is : 0.4414640358765365\n"
     ]
    },
    {
     "name": "stderr",
     "output_type": "stream",
     "text": [
      "C:\\Users\\caios\\anaconda3\\lib\\site-packages\\sklearn\\cluster\\_kmeans.py:870: FutureWarning: The default value of `n_init` will change from 3 to 'auto' in 1.4. Set the value of `n_init` explicitly to suppress the warning\n",
      "  warnings.warn(\n"
     ]
    },
    {
     "name": "stdout",
     "output_type": "stream",
     "text": [
      "For n_clusters = 88 The average silhouette_score is : 0.43725430997059156\n"
     ]
    },
    {
     "name": "stderr",
     "output_type": "stream",
     "text": [
      "C:\\Users\\caios\\anaconda3\\lib\\site-packages\\sklearn\\cluster\\_kmeans.py:870: FutureWarning: The default value of `n_init` will change from 3 to 'auto' in 1.4. Set the value of `n_init` explicitly to suppress the warning\n",
      "  warnings.warn(\n"
     ]
    },
    {
     "name": "stdout",
     "output_type": "stream",
     "text": [
      "For n_clusters = 89 The average silhouette_score is : 0.43136526017012117\n"
     ]
    },
    {
     "name": "stderr",
     "output_type": "stream",
     "text": [
      "C:\\Users\\caios\\anaconda3\\lib\\site-packages\\sklearn\\cluster\\_kmeans.py:870: FutureWarning: The default value of `n_init` will change from 3 to 'auto' in 1.4. Set the value of `n_init` explicitly to suppress the warning\n",
      "  warnings.warn(\n"
     ]
    },
    {
     "name": "stdout",
     "output_type": "stream",
     "text": [
      "For n_clusters = 90 The average silhouette_score is : 0.4401216818726462\n"
     ]
    },
    {
     "name": "stderr",
     "output_type": "stream",
     "text": [
      "C:\\Users\\caios\\anaconda3\\lib\\site-packages\\sklearn\\cluster\\_kmeans.py:870: FutureWarning: The default value of `n_init` will change from 3 to 'auto' in 1.4. Set the value of `n_init` explicitly to suppress the warning\n",
      "  warnings.warn(\n"
     ]
    },
    {
     "name": "stdout",
     "output_type": "stream",
     "text": [
      "For n_clusters = 91 The average silhouette_score is : 0.4505580792922431\n"
     ]
    },
    {
     "name": "stderr",
     "output_type": "stream",
     "text": [
      "C:\\Users\\caios\\anaconda3\\lib\\site-packages\\sklearn\\cluster\\_kmeans.py:870: FutureWarning: The default value of `n_init` will change from 3 to 'auto' in 1.4. Set the value of `n_init` explicitly to suppress the warning\n",
      "  warnings.warn(\n"
     ]
    },
    {
     "name": "stdout",
     "output_type": "stream",
     "text": [
      "For n_clusters = 92 The average silhouette_score is : 0.43918039221506233\n"
     ]
    },
    {
     "name": "stderr",
     "output_type": "stream",
     "text": [
      "C:\\Users\\caios\\anaconda3\\lib\\site-packages\\sklearn\\cluster\\_kmeans.py:870: FutureWarning: The default value of `n_init` will change from 3 to 'auto' in 1.4. Set the value of `n_init` explicitly to suppress the warning\n",
      "  warnings.warn(\n"
     ]
    },
    {
     "name": "stdout",
     "output_type": "stream",
     "text": [
      "For n_clusters = 93 The average silhouette_score is : 0.44966060810399455\n"
     ]
    },
    {
     "name": "stderr",
     "output_type": "stream",
     "text": [
      "C:\\Users\\caios\\anaconda3\\lib\\site-packages\\sklearn\\cluster\\_kmeans.py:870: FutureWarning: The default value of `n_init` will change from 3 to 'auto' in 1.4. Set the value of `n_init` explicitly to suppress the warning\n",
      "  warnings.warn(\n"
     ]
    },
    {
     "name": "stdout",
     "output_type": "stream",
     "text": [
      "For n_clusters = 94 The average silhouette_score is : 0.4288977145858549\n"
     ]
    },
    {
     "name": "stderr",
     "output_type": "stream",
     "text": [
      "C:\\Users\\caios\\anaconda3\\lib\\site-packages\\sklearn\\cluster\\_kmeans.py:870: FutureWarning: The default value of `n_init` will change from 3 to 'auto' in 1.4. Set the value of `n_init` explicitly to suppress the warning\n",
      "  warnings.warn(\n"
     ]
    },
    {
     "name": "stdout",
     "output_type": "stream",
     "text": [
      "For n_clusters = 95 The average silhouette_score is : 0.4623552526104421\n"
     ]
    },
    {
     "name": "stderr",
     "output_type": "stream",
     "text": [
      "C:\\Users\\caios\\anaconda3\\lib\\site-packages\\sklearn\\cluster\\_kmeans.py:870: FutureWarning: The default value of `n_init` will change from 3 to 'auto' in 1.4. Set the value of `n_init` explicitly to suppress the warning\n",
      "  warnings.warn(\n"
     ]
    },
    {
     "name": "stdout",
     "output_type": "stream",
     "text": [
      "For n_clusters = 96 The average silhouette_score is : 0.4435869003306939\n"
     ]
    },
    {
     "name": "stderr",
     "output_type": "stream",
     "text": [
      "C:\\Users\\caios\\anaconda3\\lib\\site-packages\\sklearn\\cluster\\_kmeans.py:870: FutureWarning: The default value of `n_init` will change from 3 to 'auto' in 1.4. Set the value of `n_init` explicitly to suppress the warning\n",
      "  warnings.warn(\n"
     ]
    },
    {
     "name": "stdout",
     "output_type": "stream",
     "text": [
      "For n_clusters = 97 The average silhouette_score is : 0.4520068082416068\n"
     ]
    },
    {
     "name": "stderr",
     "output_type": "stream",
     "text": [
      "C:\\Users\\caios\\anaconda3\\lib\\site-packages\\sklearn\\cluster\\_kmeans.py:870: FutureWarning: The default value of `n_init` will change from 3 to 'auto' in 1.4. Set the value of `n_init` explicitly to suppress the warning\n",
      "  warnings.warn(\n"
     ]
    },
    {
     "name": "stdout",
     "output_type": "stream",
     "text": [
      "For n_clusters = 98 The average silhouette_score is : 0.44027774314421275\n"
     ]
    },
    {
     "name": "stderr",
     "output_type": "stream",
     "text": [
      "C:\\Users\\caios\\anaconda3\\lib\\site-packages\\sklearn\\cluster\\_kmeans.py:870: FutureWarning: The default value of `n_init` will change from 3 to 'auto' in 1.4. Set the value of `n_init` explicitly to suppress the warning\n",
      "  warnings.warn(\n"
     ]
    },
    {
     "name": "stdout",
     "output_type": "stream",
     "text": [
      "For n_clusters = 99 The average silhouette_score is : 0.44886307453477875\n"
     ]
    },
    {
     "name": "stderr",
     "output_type": "stream",
     "text": [
      "C:\\Users\\caios\\anaconda3\\lib\\site-packages\\sklearn\\cluster\\_kmeans.py:870: FutureWarning: The default value of `n_init` will change from 3 to 'auto' in 1.4. Set the value of `n_init` explicitly to suppress the warning\n",
      "  warnings.warn(\n"
     ]
    },
    {
     "name": "stdout",
     "output_type": "stream",
     "text": [
      "For n_clusters = 100 The average silhouette_score is : 0.4348444883912128\n"
     ]
    },
    {
     "name": "stderr",
     "output_type": "stream",
     "text": [
      "C:\\Users\\caios\\anaconda3\\lib\\site-packages\\sklearn\\cluster\\_kmeans.py:870: FutureWarning: The default value of `n_init` will change from 3 to 'auto' in 1.4. Set the value of `n_init` explicitly to suppress the warning\n",
      "  warnings.warn(\n"
     ]
    },
    {
     "name": "stdout",
     "output_type": "stream",
     "text": [
      "For n_clusters = 101 The average silhouette_score is : 0.4503206814985407\n"
     ]
    },
    {
     "name": "stderr",
     "output_type": "stream",
     "text": [
      "C:\\Users\\caios\\anaconda3\\lib\\site-packages\\sklearn\\cluster\\_kmeans.py:870: FutureWarning: The default value of `n_init` will change from 3 to 'auto' in 1.4. Set the value of `n_init` explicitly to suppress the warning\n",
      "  warnings.warn(\n"
     ]
    },
    {
     "name": "stdout",
     "output_type": "stream",
     "text": [
      "For n_clusters = 102 The average silhouette_score is : 0.42292538761395493\n"
     ]
    },
    {
     "name": "stderr",
     "output_type": "stream",
     "text": [
      "C:\\Users\\caios\\anaconda3\\lib\\site-packages\\sklearn\\cluster\\_kmeans.py:870: FutureWarning: The default value of `n_init` will change from 3 to 'auto' in 1.4. Set the value of `n_init` explicitly to suppress the warning\n",
      "  warnings.warn(\n"
     ]
    },
    {
     "name": "stdout",
     "output_type": "stream",
     "text": [
      "For n_clusters = 103 The average silhouette_score is : 0.4560138785890228\n"
     ]
    },
    {
     "name": "stderr",
     "output_type": "stream",
     "text": [
      "C:\\Users\\caios\\anaconda3\\lib\\site-packages\\sklearn\\cluster\\_kmeans.py:870: FutureWarning: The default value of `n_init` will change from 3 to 'auto' in 1.4. Set the value of `n_init` explicitly to suppress the warning\n",
      "  warnings.warn(\n"
     ]
    },
    {
     "name": "stdout",
     "output_type": "stream",
     "text": [
      "For n_clusters = 104 The average silhouette_score is : 0.46097158232458546\n"
     ]
    },
    {
     "name": "stderr",
     "output_type": "stream",
     "text": [
      "C:\\Users\\caios\\anaconda3\\lib\\site-packages\\sklearn\\cluster\\_kmeans.py:870: FutureWarning: The default value of `n_init` will change from 3 to 'auto' in 1.4. Set the value of `n_init` explicitly to suppress the warning\n",
      "  warnings.warn(\n"
     ]
    },
    {
     "name": "stdout",
     "output_type": "stream",
     "text": [
      "For n_clusters = 105 The average silhouette_score is : 0.4373387514412707\n"
     ]
    },
    {
     "name": "stderr",
     "output_type": "stream",
     "text": [
      "C:\\Users\\caios\\anaconda3\\lib\\site-packages\\sklearn\\cluster\\_kmeans.py:870: FutureWarning: The default value of `n_init` will change from 3 to 'auto' in 1.4. Set the value of `n_init` explicitly to suppress the warning\n",
      "  warnings.warn(\n"
     ]
    },
    {
     "name": "stdout",
     "output_type": "stream",
     "text": [
      "For n_clusters = 106 The average silhouette_score is : 0.4485938776170739\n"
     ]
    },
    {
     "name": "stderr",
     "output_type": "stream",
     "text": [
      "C:\\Users\\caios\\anaconda3\\lib\\site-packages\\sklearn\\cluster\\_kmeans.py:870: FutureWarning: The default value of `n_init` will change from 3 to 'auto' in 1.4. Set the value of `n_init` explicitly to suppress the warning\n",
      "  warnings.warn(\n"
     ]
    },
    {
     "name": "stdout",
     "output_type": "stream",
     "text": [
      "For n_clusters = 107 The average silhouette_score is : 0.449636914394094\n"
     ]
    },
    {
     "name": "stderr",
     "output_type": "stream",
     "text": [
      "C:\\Users\\caios\\anaconda3\\lib\\site-packages\\sklearn\\cluster\\_kmeans.py:870: FutureWarning: The default value of `n_init` will change from 3 to 'auto' in 1.4. Set the value of `n_init` explicitly to suppress the warning\n",
      "  warnings.warn(\n"
     ]
    },
    {
     "name": "stdout",
     "output_type": "stream",
     "text": [
      "For n_clusters = 108 The average silhouette_score is : 0.4515139084918337\n"
     ]
    },
    {
     "name": "stderr",
     "output_type": "stream",
     "text": [
      "C:\\Users\\caios\\anaconda3\\lib\\site-packages\\sklearn\\cluster\\_kmeans.py:870: FutureWarning: The default value of `n_init` will change from 3 to 'auto' in 1.4. Set the value of `n_init` explicitly to suppress the warning\n",
      "  warnings.warn(\n"
     ]
    },
    {
     "name": "stdout",
     "output_type": "stream",
     "text": [
      "For n_clusters = 109 The average silhouette_score is : 0.4653629898165296\n"
     ]
    },
    {
     "name": "stderr",
     "output_type": "stream",
     "text": [
      "C:\\Users\\caios\\anaconda3\\lib\\site-packages\\sklearn\\cluster\\_kmeans.py:870: FutureWarning: The default value of `n_init` will change from 3 to 'auto' in 1.4. Set the value of `n_init` explicitly to suppress the warning\n",
      "  warnings.warn(\n"
     ]
    },
    {
     "name": "stdout",
     "output_type": "stream",
     "text": [
      "For n_clusters = 110 The average silhouette_score is : 0.4667385544584123\n"
     ]
    },
    {
     "name": "stderr",
     "output_type": "stream",
     "text": [
      "C:\\Users\\caios\\anaconda3\\lib\\site-packages\\sklearn\\cluster\\_kmeans.py:870: FutureWarning: The default value of `n_init` will change from 3 to 'auto' in 1.4. Set the value of `n_init` explicitly to suppress the warning\n",
      "  warnings.warn(\n"
     ]
    },
    {
     "name": "stdout",
     "output_type": "stream",
     "text": [
      "For n_clusters = 111 The average silhouette_score is : 0.46565632316191746\n"
     ]
    },
    {
     "name": "stderr",
     "output_type": "stream",
     "text": [
      "C:\\Users\\caios\\anaconda3\\lib\\site-packages\\sklearn\\cluster\\_kmeans.py:870: FutureWarning: The default value of `n_init` will change from 3 to 'auto' in 1.4. Set the value of `n_init` explicitly to suppress the warning\n",
      "  warnings.warn(\n"
     ]
    },
    {
     "name": "stdout",
     "output_type": "stream",
     "text": [
      "For n_clusters = 112 The average silhouette_score is : 0.4762599136891968\n"
     ]
    },
    {
     "name": "stderr",
     "output_type": "stream",
     "text": [
      "C:\\Users\\caios\\anaconda3\\lib\\site-packages\\sklearn\\cluster\\_kmeans.py:870: FutureWarning: The default value of `n_init` will change from 3 to 'auto' in 1.4. Set the value of `n_init` explicitly to suppress the warning\n",
      "  warnings.warn(\n"
     ]
    },
    {
     "name": "stdout",
     "output_type": "stream",
     "text": [
      "For n_clusters = 113 The average silhouette_score is : 0.4623336427961451\n"
     ]
    },
    {
     "name": "stderr",
     "output_type": "stream",
     "text": [
      "C:\\Users\\caios\\anaconda3\\lib\\site-packages\\sklearn\\cluster\\_kmeans.py:870: FutureWarning: The default value of `n_init` will change from 3 to 'auto' in 1.4. Set the value of `n_init` explicitly to suppress the warning\n",
      "  warnings.warn(\n"
     ]
    },
    {
     "name": "stdout",
     "output_type": "stream",
     "text": [
      "For n_clusters = 114 The average silhouette_score is : 0.46475997700876315\n"
     ]
    },
    {
     "name": "stderr",
     "output_type": "stream",
     "text": [
      "C:\\Users\\caios\\anaconda3\\lib\\site-packages\\sklearn\\cluster\\_kmeans.py:870: FutureWarning: The default value of `n_init` will change from 3 to 'auto' in 1.4. Set the value of `n_init` explicitly to suppress the warning\n",
      "  warnings.warn(\n"
     ]
    },
    {
     "name": "stdout",
     "output_type": "stream",
     "text": [
      "For n_clusters = 115 The average silhouette_score is : 0.4621473161795195\n"
     ]
    },
    {
     "name": "stderr",
     "output_type": "stream",
     "text": [
      "C:\\Users\\caios\\anaconda3\\lib\\site-packages\\sklearn\\cluster\\_kmeans.py:870: FutureWarning: The default value of `n_init` will change from 3 to 'auto' in 1.4. Set the value of `n_init` explicitly to suppress the warning\n",
      "  warnings.warn(\n"
     ]
    },
    {
     "name": "stdout",
     "output_type": "stream",
     "text": [
      "For n_clusters = 116 The average silhouette_score is : 0.4351891534770815\n"
     ]
    },
    {
     "name": "stderr",
     "output_type": "stream",
     "text": [
      "C:\\Users\\caios\\anaconda3\\lib\\site-packages\\sklearn\\cluster\\_kmeans.py:870: FutureWarning: The default value of `n_init` will change from 3 to 'auto' in 1.4. Set the value of `n_init` explicitly to suppress the warning\n",
      "  warnings.warn(\n"
     ]
    },
    {
     "name": "stdout",
     "output_type": "stream",
     "text": [
      "For n_clusters = 117 The average silhouette_score is : 0.4831171707555713\n"
     ]
    },
    {
     "name": "stderr",
     "output_type": "stream",
     "text": [
      "C:\\Users\\caios\\anaconda3\\lib\\site-packages\\sklearn\\cluster\\_kmeans.py:870: FutureWarning: The default value of `n_init` will change from 3 to 'auto' in 1.4. Set the value of `n_init` explicitly to suppress the warning\n",
      "  warnings.warn(\n"
     ]
    },
    {
     "name": "stdout",
     "output_type": "stream",
     "text": [
      "For n_clusters = 118 The average silhouette_score is : 0.4655823713603037\n"
     ]
    },
    {
     "name": "stderr",
     "output_type": "stream",
     "text": [
      "C:\\Users\\caios\\anaconda3\\lib\\site-packages\\sklearn\\cluster\\_kmeans.py:870: FutureWarning: The default value of `n_init` will change from 3 to 'auto' in 1.4. Set the value of `n_init` explicitly to suppress the warning\n",
      "  warnings.warn(\n"
     ]
    },
    {
     "name": "stdout",
     "output_type": "stream",
     "text": [
      "For n_clusters = 119 The average silhouette_score is : 0.4678592930188411\n"
     ]
    },
    {
     "name": "stderr",
     "output_type": "stream",
     "text": [
      "C:\\Users\\caios\\anaconda3\\lib\\site-packages\\sklearn\\cluster\\_kmeans.py:870: FutureWarning: The default value of `n_init` will change from 3 to 'auto' in 1.4. Set the value of `n_init` explicitly to suppress the warning\n",
      "  warnings.warn(\n"
     ]
    },
    {
     "name": "stdout",
     "output_type": "stream",
     "text": [
      "For n_clusters = 120 The average silhouette_score is : 0.46820373717101216\n"
     ]
    },
    {
     "name": "stderr",
     "output_type": "stream",
     "text": [
      "C:\\Users\\caios\\anaconda3\\lib\\site-packages\\sklearn\\cluster\\_kmeans.py:870: FutureWarning: The default value of `n_init` will change from 3 to 'auto' in 1.4. Set the value of `n_init` explicitly to suppress the warning\n",
      "  warnings.warn(\n"
     ]
    },
    {
     "name": "stdout",
     "output_type": "stream",
     "text": [
      "For n_clusters = 121 The average silhouette_score is : 0.4586593931031047\n"
     ]
    },
    {
     "name": "stderr",
     "output_type": "stream",
     "text": [
      "C:\\Users\\caios\\anaconda3\\lib\\site-packages\\sklearn\\cluster\\_kmeans.py:870: FutureWarning: The default value of `n_init` will change from 3 to 'auto' in 1.4. Set the value of `n_init` explicitly to suppress the warning\n",
      "  warnings.warn(\n"
     ]
    },
    {
     "name": "stdout",
     "output_type": "stream",
     "text": [
      "For n_clusters = 122 The average silhouette_score is : 0.4701139554969757\n"
     ]
    },
    {
     "name": "stderr",
     "output_type": "stream",
     "text": [
      "C:\\Users\\caios\\anaconda3\\lib\\site-packages\\sklearn\\cluster\\_kmeans.py:870: FutureWarning: The default value of `n_init` will change from 3 to 'auto' in 1.4. Set the value of `n_init` explicitly to suppress the warning\n",
      "  warnings.warn(\n"
     ]
    },
    {
     "name": "stdout",
     "output_type": "stream",
     "text": [
      "For n_clusters = 123 The average silhouette_score is : 0.46811973244537747\n"
     ]
    },
    {
     "name": "stderr",
     "output_type": "stream",
     "text": [
      "C:\\Users\\caios\\anaconda3\\lib\\site-packages\\sklearn\\cluster\\_kmeans.py:870: FutureWarning: The default value of `n_init` will change from 3 to 'auto' in 1.4. Set the value of `n_init` explicitly to suppress the warning\n",
      "  warnings.warn(\n"
     ]
    },
    {
     "name": "stdout",
     "output_type": "stream",
     "text": [
      "For n_clusters = 124 The average silhouette_score is : 0.46266402989018024\n"
     ]
    },
    {
     "name": "stderr",
     "output_type": "stream",
     "text": [
      "C:\\Users\\caios\\anaconda3\\lib\\site-packages\\sklearn\\cluster\\_kmeans.py:870: FutureWarning: The default value of `n_init` will change from 3 to 'auto' in 1.4. Set the value of `n_init` explicitly to suppress the warning\n",
      "  warnings.warn(\n"
     ]
    },
    {
     "name": "stdout",
     "output_type": "stream",
     "text": [
      "For n_clusters = 125 The average silhouette_score is : 0.4672628090871731\n"
     ]
    },
    {
     "name": "stderr",
     "output_type": "stream",
     "text": [
      "C:\\Users\\caios\\anaconda3\\lib\\site-packages\\sklearn\\cluster\\_kmeans.py:870: FutureWarning: The default value of `n_init` will change from 3 to 'auto' in 1.4. Set the value of `n_init` explicitly to suppress the warning\n",
      "  warnings.warn(\n"
     ]
    },
    {
     "name": "stdout",
     "output_type": "stream",
     "text": [
      "For n_clusters = 126 The average silhouette_score is : 0.46338673288572385\n"
     ]
    },
    {
     "name": "stderr",
     "output_type": "stream",
     "text": [
      "C:\\Users\\caios\\anaconda3\\lib\\site-packages\\sklearn\\cluster\\_kmeans.py:870: FutureWarning: The default value of `n_init` will change from 3 to 'auto' in 1.4. Set the value of `n_init` explicitly to suppress the warning\n",
      "  warnings.warn(\n"
     ]
    },
    {
     "name": "stdout",
     "output_type": "stream",
     "text": [
      "For n_clusters = 127 The average silhouette_score is : 0.46327828758416273\n"
     ]
    },
    {
     "name": "stderr",
     "output_type": "stream",
     "text": [
      "C:\\Users\\caios\\anaconda3\\lib\\site-packages\\sklearn\\cluster\\_kmeans.py:870: FutureWarning: The default value of `n_init` will change from 3 to 'auto' in 1.4. Set the value of `n_init` explicitly to suppress the warning\n",
      "  warnings.warn(\n"
     ]
    },
    {
     "name": "stdout",
     "output_type": "stream",
     "text": [
      "For n_clusters = 128 The average silhouette_score is : 0.45366667282352985\n"
     ]
    },
    {
     "name": "stderr",
     "output_type": "stream",
     "text": [
      "C:\\Users\\caios\\anaconda3\\lib\\site-packages\\sklearn\\cluster\\_kmeans.py:870: FutureWarning: The default value of `n_init` will change from 3 to 'auto' in 1.4. Set the value of `n_init` explicitly to suppress the warning\n",
      "  warnings.warn(\n"
     ]
    },
    {
     "name": "stdout",
     "output_type": "stream",
     "text": [
      "For n_clusters = 129 The average silhouette_score is : 0.45869455078136656\n"
     ]
    },
    {
     "name": "stderr",
     "output_type": "stream",
     "text": [
      "C:\\Users\\caios\\anaconda3\\lib\\site-packages\\sklearn\\cluster\\_kmeans.py:870: FutureWarning: The default value of `n_init` will change from 3 to 'auto' in 1.4. Set the value of `n_init` explicitly to suppress the warning\n",
      "  warnings.warn(\n"
     ]
    },
    {
     "name": "stdout",
     "output_type": "stream",
     "text": [
      "For n_clusters = 130 The average silhouette_score is : 0.47906884054505905\n"
     ]
    },
    {
     "name": "stderr",
     "output_type": "stream",
     "text": [
      "C:\\Users\\caios\\anaconda3\\lib\\site-packages\\sklearn\\cluster\\_kmeans.py:870: FutureWarning: The default value of `n_init` will change from 3 to 'auto' in 1.4. Set the value of `n_init` explicitly to suppress the warning\n",
      "  warnings.warn(\n"
     ]
    },
    {
     "name": "stdout",
     "output_type": "stream",
     "text": [
      "For n_clusters = 131 The average silhouette_score is : 0.45317029208505\n"
     ]
    },
    {
     "name": "stderr",
     "output_type": "stream",
     "text": [
      "C:\\Users\\caios\\anaconda3\\lib\\site-packages\\sklearn\\cluster\\_kmeans.py:870: FutureWarning: The default value of `n_init` will change from 3 to 'auto' in 1.4. Set the value of `n_init` explicitly to suppress the warning\n",
      "  warnings.warn(\n"
     ]
    },
    {
     "name": "stdout",
     "output_type": "stream",
     "text": [
      "For n_clusters = 132 The average silhouette_score is : 0.458194181414091\n"
     ]
    },
    {
     "name": "stderr",
     "output_type": "stream",
     "text": [
      "C:\\Users\\caios\\anaconda3\\lib\\site-packages\\sklearn\\cluster\\_kmeans.py:870: FutureWarning: The default value of `n_init` will change from 3 to 'auto' in 1.4. Set the value of `n_init` explicitly to suppress the warning\n",
      "  warnings.warn(\n"
     ]
    },
    {
     "name": "stdout",
     "output_type": "stream",
     "text": [
      "For n_clusters = 133 The average silhouette_score is : 0.4747403736478051\n"
     ]
    },
    {
     "name": "stderr",
     "output_type": "stream",
     "text": [
      "C:\\Users\\caios\\anaconda3\\lib\\site-packages\\sklearn\\cluster\\_kmeans.py:870: FutureWarning: The default value of `n_init` will change from 3 to 'auto' in 1.4. Set the value of `n_init` explicitly to suppress the warning\n",
      "  warnings.warn(\n"
     ]
    },
    {
     "name": "stdout",
     "output_type": "stream",
     "text": [
      "For n_clusters = 134 The average silhouette_score is : 0.45939476686297853\n"
     ]
    },
    {
     "name": "stderr",
     "output_type": "stream",
     "text": [
      "C:\\Users\\caios\\anaconda3\\lib\\site-packages\\sklearn\\cluster\\_kmeans.py:870: FutureWarning: The default value of `n_init` will change from 3 to 'auto' in 1.4. Set the value of `n_init` explicitly to suppress the warning\n",
      "  warnings.warn(\n"
     ]
    },
    {
     "name": "stdout",
     "output_type": "stream",
     "text": [
      "For n_clusters = 135 The average silhouette_score is : 0.46783122615415645\n"
     ]
    },
    {
     "name": "stderr",
     "output_type": "stream",
     "text": [
      "C:\\Users\\caios\\anaconda3\\lib\\site-packages\\sklearn\\cluster\\_kmeans.py:870: FutureWarning: The default value of `n_init` will change from 3 to 'auto' in 1.4. Set the value of `n_init` explicitly to suppress the warning\n",
      "  warnings.warn(\n"
     ]
    },
    {
     "name": "stdout",
     "output_type": "stream",
     "text": [
      "For n_clusters = 136 The average silhouette_score is : 0.4735507666346385\n"
     ]
    },
    {
     "name": "stderr",
     "output_type": "stream",
     "text": [
      "C:\\Users\\caios\\anaconda3\\lib\\site-packages\\sklearn\\cluster\\_kmeans.py:870: FutureWarning: The default value of `n_init` will change from 3 to 'auto' in 1.4. Set the value of `n_init` explicitly to suppress the warning\n",
      "  warnings.warn(\n"
     ]
    },
    {
     "name": "stdout",
     "output_type": "stream",
     "text": [
      "For n_clusters = 137 The average silhouette_score is : 0.46557759441682384\n"
     ]
    },
    {
     "name": "stderr",
     "output_type": "stream",
     "text": [
      "C:\\Users\\caios\\anaconda3\\lib\\site-packages\\sklearn\\cluster\\_kmeans.py:870: FutureWarning: The default value of `n_init` will change from 3 to 'auto' in 1.4. Set the value of `n_init` explicitly to suppress the warning\n",
      "  warnings.warn(\n"
     ]
    },
    {
     "name": "stdout",
     "output_type": "stream",
     "text": [
      "For n_clusters = 138 The average silhouette_score is : 0.472632788451917\n"
     ]
    },
    {
     "name": "stderr",
     "output_type": "stream",
     "text": [
      "C:\\Users\\caios\\anaconda3\\lib\\site-packages\\sklearn\\cluster\\_kmeans.py:870: FutureWarning: The default value of `n_init` will change from 3 to 'auto' in 1.4. Set the value of `n_init` explicitly to suppress the warning\n",
      "  warnings.warn(\n"
     ]
    },
    {
     "name": "stdout",
     "output_type": "stream",
     "text": [
      "For n_clusters = 139 The average silhouette_score is : 0.42938588122402216\n"
     ]
    },
    {
     "name": "stderr",
     "output_type": "stream",
     "text": [
      "C:\\Users\\caios\\anaconda3\\lib\\site-packages\\sklearn\\cluster\\_kmeans.py:870: FutureWarning: The default value of `n_init` will change from 3 to 'auto' in 1.4. Set the value of `n_init` explicitly to suppress the warning\n",
      "  warnings.warn(\n"
     ]
    },
    {
     "name": "stdout",
     "output_type": "stream",
     "text": [
      "For n_clusters = 140 The average silhouette_score is : 0.45478577662129355\n"
     ]
    },
    {
     "name": "stderr",
     "output_type": "stream",
     "text": [
      "C:\\Users\\caios\\anaconda3\\lib\\site-packages\\sklearn\\cluster\\_kmeans.py:870: FutureWarning: The default value of `n_init` will change from 3 to 'auto' in 1.4. Set the value of `n_init` explicitly to suppress the warning\n",
      "  warnings.warn(\n"
     ]
    },
    {
     "name": "stdout",
     "output_type": "stream",
     "text": [
      "For n_clusters = 141 The average silhouette_score is : 0.4609374846364608\n"
     ]
    },
    {
     "name": "stderr",
     "output_type": "stream",
     "text": [
      "C:\\Users\\caios\\anaconda3\\lib\\site-packages\\sklearn\\cluster\\_kmeans.py:870: FutureWarning: The default value of `n_init` will change from 3 to 'auto' in 1.4. Set the value of `n_init` explicitly to suppress the warning\n",
      "  warnings.warn(\n"
     ]
    },
    {
     "name": "stdout",
     "output_type": "stream",
     "text": [
      "For n_clusters = 142 The average silhouette_score is : 0.44880403816113\n"
     ]
    },
    {
     "name": "stderr",
     "output_type": "stream",
     "text": [
      "C:\\Users\\caios\\anaconda3\\lib\\site-packages\\sklearn\\cluster\\_kmeans.py:870: FutureWarning: The default value of `n_init` will change from 3 to 'auto' in 1.4. Set the value of `n_init` explicitly to suppress the warning\n",
      "  warnings.warn(\n"
     ]
    },
    {
     "name": "stdout",
     "output_type": "stream",
     "text": [
      "For n_clusters = 143 The average silhouette_score is : 0.4684836331230609\n"
     ]
    },
    {
     "name": "stderr",
     "output_type": "stream",
     "text": [
      "C:\\Users\\caios\\anaconda3\\lib\\site-packages\\sklearn\\cluster\\_kmeans.py:870: FutureWarning: The default value of `n_init` will change from 3 to 'auto' in 1.4. Set the value of `n_init` explicitly to suppress the warning\n",
      "  warnings.warn(\n"
     ]
    },
    {
     "name": "stdout",
     "output_type": "stream",
     "text": [
      "For n_clusters = 144 The average silhouette_score is : 0.45474532221810515\n"
     ]
    },
    {
     "name": "stderr",
     "output_type": "stream",
     "text": [
      "C:\\Users\\caios\\anaconda3\\lib\\site-packages\\sklearn\\cluster\\_kmeans.py:870: FutureWarning: The default value of `n_init` will change from 3 to 'auto' in 1.4. Set the value of `n_init` explicitly to suppress the warning\n",
      "  warnings.warn(\n"
     ]
    },
    {
     "name": "stdout",
     "output_type": "stream",
     "text": [
      "For n_clusters = 145 The average silhouette_score is : 0.43775937765760925\n"
     ]
    },
    {
     "name": "stderr",
     "output_type": "stream",
     "text": [
      "C:\\Users\\caios\\anaconda3\\lib\\site-packages\\sklearn\\cluster\\_kmeans.py:870: FutureWarning: The default value of `n_init` will change from 3 to 'auto' in 1.4. Set the value of `n_init` explicitly to suppress the warning\n",
      "  warnings.warn(\n"
     ]
    },
    {
     "name": "stdout",
     "output_type": "stream",
     "text": [
      "For n_clusters = 146 The average silhouette_score is : 0.44300288698870255\n"
     ]
    },
    {
     "name": "stderr",
     "output_type": "stream",
     "text": [
      "C:\\Users\\caios\\anaconda3\\lib\\site-packages\\sklearn\\cluster\\_kmeans.py:870: FutureWarning: The default value of `n_init` will change from 3 to 'auto' in 1.4. Set the value of `n_init` explicitly to suppress the warning\n",
      "  warnings.warn(\n"
     ]
    },
    {
     "name": "stdout",
     "output_type": "stream",
     "text": [
      "For n_clusters = 147 The average silhouette_score is : 0.44434757176530015\n"
     ]
    },
    {
     "name": "stderr",
     "output_type": "stream",
     "text": [
      "C:\\Users\\caios\\anaconda3\\lib\\site-packages\\sklearn\\cluster\\_kmeans.py:870: FutureWarning: The default value of `n_init` will change from 3 to 'auto' in 1.4. Set the value of `n_init` explicitly to suppress the warning\n",
      "  warnings.warn(\n"
     ]
    },
    {
     "name": "stdout",
     "output_type": "stream",
     "text": [
      "For n_clusters = 148 The average silhouette_score is : 0.4677302051637932\n"
     ]
    },
    {
     "name": "stderr",
     "output_type": "stream",
     "text": [
      "C:\\Users\\caios\\anaconda3\\lib\\site-packages\\sklearn\\cluster\\_kmeans.py:870: FutureWarning: The default value of `n_init` will change from 3 to 'auto' in 1.4. Set the value of `n_init` explicitly to suppress the warning\n",
      "  warnings.warn(\n"
     ]
    },
    {
     "name": "stdout",
     "output_type": "stream",
     "text": [
      "For n_clusters = 149 The average silhouette_score is : 0.4695858794054216\n"
     ]
    },
    {
     "name": "stderr",
     "output_type": "stream",
     "text": [
      "C:\\Users\\caios\\anaconda3\\lib\\site-packages\\sklearn\\cluster\\_kmeans.py:870: FutureWarning: The default value of `n_init` will change from 3 to 'auto' in 1.4. Set the value of `n_init` explicitly to suppress the warning\n",
      "  warnings.warn(\n"
     ]
    },
    {
     "name": "stdout",
     "output_type": "stream",
     "text": [
      "For n_clusters = 150 The average silhouette_score is : 0.47516615138956436\n"
     ]
    },
    {
     "name": "stderr",
     "output_type": "stream",
     "text": [
      "C:\\Users\\caios\\anaconda3\\lib\\site-packages\\sklearn\\cluster\\_kmeans.py:870: FutureWarning: The default value of `n_init` will change from 3 to 'auto' in 1.4. Set the value of `n_init` explicitly to suppress the warning\n",
      "  warnings.warn(\n"
     ]
    },
    {
     "name": "stdout",
     "output_type": "stream",
     "text": [
      "For n_clusters = 151 The average silhouette_score is : 0.4646109167037552\n"
     ]
    },
    {
     "name": "stderr",
     "output_type": "stream",
     "text": [
      "C:\\Users\\caios\\anaconda3\\lib\\site-packages\\sklearn\\cluster\\_kmeans.py:870: FutureWarning: The default value of `n_init` will change from 3 to 'auto' in 1.4. Set the value of `n_init` explicitly to suppress the warning\n",
      "  warnings.warn(\n"
     ]
    },
    {
     "name": "stdout",
     "output_type": "stream",
     "text": [
      "For n_clusters = 152 The average silhouette_score is : 0.4480668041946452\n"
     ]
    },
    {
     "name": "stderr",
     "output_type": "stream",
     "text": [
      "C:\\Users\\caios\\anaconda3\\lib\\site-packages\\sklearn\\cluster\\_kmeans.py:870: FutureWarning: The default value of `n_init` will change from 3 to 'auto' in 1.4. Set the value of `n_init` explicitly to suppress the warning\n",
      "  warnings.warn(\n"
     ]
    },
    {
     "name": "stdout",
     "output_type": "stream",
     "text": [
      "For n_clusters = 153 The average silhouette_score is : 0.4657869972360907\n"
     ]
    },
    {
     "name": "stderr",
     "output_type": "stream",
     "text": [
      "C:\\Users\\caios\\anaconda3\\lib\\site-packages\\sklearn\\cluster\\_kmeans.py:870: FutureWarning: The default value of `n_init` will change from 3 to 'auto' in 1.4. Set the value of `n_init` explicitly to suppress the warning\n",
      "  warnings.warn(\n"
     ]
    },
    {
     "name": "stdout",
     "output_type": "stream",
     "text": [
      "For n_clusters = 154 The average silhouette_score is : 0.4632459774677513\n"
     ]
    },
    {
     "name": "stderr",
     "output_type": "stream",
     "text": [
      "C:\\Users\\caios\\anaconda3\\lib\\site-packages\\sklearn\\cluster\\_kmeans.py:870: FutureWarning: The default value of `n_init` will change from 3 to 'auto' in 1.4. Set the value of `n_init` explicitly to suppress the warning\n",
      "  warnings.warn(\n"
     ]
    },
    {
     "name": "stdout",
     "output_type": "stream",
     "text": [
      "For n_clusters = 155 The average silhouette_score is : 0.4518733281198175\n"
     ]
    },
    {
     "name": "stderr",
     "output_type": "stream",
     "text": [
      "C:\\Users\\caios\\anaconda3\\lib\\site-packages\\sklearn\\cluster\\_kmeans.py:870: FutureWarning: The default value of `n_init` will change from 3 to 'auto' in 1.4. Set the value of `n_init` explicitly to suppress the warning\n",
      "  warnings.warn(\n"
     ]
    },
    {
     "name": "stdout",
     "output_type": "stream",
     "text": [
      "For n_clusters = 156 The average silhouette_score is : 0.4512623017580974\n"
     ]
    },
    {
     "name": "stderr",
     "output_type": "stream",
     "text": [
      "C:\\Users\\caios\\anaconda3\\lib\\site-packages\\sklearn\\cluster\\_kmeans.py:870: FutureWarning: The default value of `n_init` will change from 3 to 'auto' in 1.4. Set the value of `n_init` explicitly to suppress the warning\n",
      "  warnings.warn(\n"
     ]
    },
    {
     "name": "stdout",
     "output_type": "stream",
     "text": [
      "For n_clusters = 157 The average silhouette_score is : 0.4556357297824875\n"
     ]
    },
    {
     "name": "stderr",
     "output_type": "stream",
     "text": [
      "C:\\Users\\caios\\anaconda3\\lib\\site-packages\\sklearn\\cluster\\_kmeans.py:870: FutureWarning: The default value of `n_init` will change from 3 to 'auto' in 1.4. Set the value of `n_init` explicitly to suppress the warning\n",
      "  warnings.warn(\n"
     ]
    },
    {
     "name": "stdout",
     "output_type": "stream",
     "text": [
      "For n_clusters = 158 The average silhouette_score is : 0.4554105981211653\n"
     ]
    },
    {
     "name": "stderr",
     "output_type": "stream",
     "text": [
      "C:\\Users\\caios\\anaconda3\\lib\\site-packages\\sklearn\\cluster\\_kmeans.py:870: FutureWarning: The default value of `n_init` will change from 3 to 'auto' in 1.4. Set the value of `n_init` explicitly to suppress the warning\n",
      "  warnings.warn(\n"
     ]
    },
    {
     "name": "stdout",
     "output_type": "stream",
     "text": [
      "For n_clusters = 159 The average silhouette_score is : 0.45316272967037047\n"
     ]
    },
    {
     "name": "stderr",
     "output_type": "stream",
     "text": [
      "C:\\Users\\caios\\anaconda3\\lib\\site-packages\\sklearn\\cluster\\_kmeans.py:870: FutureWarning: The default value of `n_init` will change from 3 to 'auto' in 1.4. Set the value of `n_init` explicitly to suppress the warning\n",
      "  warnings.warn(\n"
     ]
    },
    {
     "name": "stdout",
     "output_type": "stream",
     "text": [
      "For n_clusters = 160 The average silhouette_score is : 0.44795434437849535\n"
     ]
    },
    {
     "name": "stderr",
     "output_type": "stream",
     "text": [
      "C:\\Users\\caios\\anaconda3\\lib\\site-packages\\sklearn\\cluster\\_kmeans.py:870: FutureWarning: The default value of `n_init` will change from 3 to 'auto' in 1.4. Set the value of `n_init` explicitly to suppress the warning\n",
      "  warnings.warn(\n"
     ]
    },
    {
     "name": "stdout",
     "output_type": "stream",
     "text": [
      "For n_clusters = 161 The average silhouette_score is : 0.44511431786343725\n"
     ]
    },
    {
     "name": "stderr",
     "output_type": "stream",
     "text": [
      "C:\\Users\\caios\\anaconda3\\lib\\site-packages\\sklearn\\cluster\\_kmeans.py:870: FutureWarning: The default value of `n_init` will change from 3 to 'auto' in 1.4. Set the value of `n_init` explicitly to suppress the warning\n",
      "  warnings.warn(\n"
     ]
    },
    {
     "name": "stdout",
     "output_type": "stream",
     "text": [
      "For n_clusters = 162 The average silhouette_score is : 0.4546168770478355\n"
     ]
    },
    {
     "name": "stderr",
     "output_type": "stream",
     "text": [
      "C:\\Users\\caios\\anaconda3\\lib\\site-packages\\sklearn\\cluster\\_kmeans.py:870: FutureWarning: The default value of `n_init` will change from 3 to 'auto' in 1.4. Set the value of `n_init` explicitly to suppress the warning\n",
      "  warnings.warn(\n"
     ]
    },
    {
     "name": "stdout",
     "output_type": "stream",
     "text": [
      "For n_clusters = 163 The average silhouette_score is : 0.4586526637732177\n"
     ]
    },
    {
     "name": "stderr",
     "output_type": "stream",
     "text": [
      "C:\\Users\\caios\\anaconda3\\lib\\site-packages\\sklearn\\cluster\\_kmeans.py:870: FutureWarning: The default value of `n_init` will change from 3 to 'auto' in 1.4. Set the value of `n_init` explicitly to suppress the warning\n",
      "  warnings.warn(\n"
     ]
    },
    {
     "name": "stdout",
     "output_type": "stream",
     "text": [
      "For n_clusters = 164 The average silhouette_score is : 0.45109819253608663\n"
     ]
    },
    {
     "name": "stderr",
     "output_type": "stream",
     "text": [
      "C:\\Users\\caios\\anaconda3\\lib\\site-packages\\sklearn\\cluster\\_kmeans.py:870: FutureWarning: The default value of `n_init` will change from 3 to 'auto' in 1.4. Set the value of `n_init` explicitly to suppress the warning\n",
      "  warnings.warn(\n"
     ]
    },
    {
     "name": "stdout",
     "output_type": "stream",
     "text": [
      "For n_clusters = 165 The average silhouette_score is : 0.4455660706835252\n"
     ]
    },
    {
     "name": "stderr",
     "output_type": "stream",
     "text": [
      "C:\\Users\\caios\\anaconda3\\lib\\site-packages\\sklearn\\cluster\\_kmeans.py:870: FutureWarning: The default value of `n_init` will change from 3 to 'auto' in 1.4. Set the value of `n_init` explicitly to suppress the warning\n",
      "  warnings.warn(\n"
     ]
    },
    {
     "name": "stdout",
     "output_type": "stream",
     "text": [
      "For n_clusters = 166 The average silhouette_score is : 0.4656231815821917\n"
     ]
    },
    {
     "name": "stderr",
     "output_type": "stream",
     "text": [
      "C:\\Users\\caios\\anaconda3\\lib\\site-packages\\sklearn\\cluster\\_kmeans.py:870: FutureWarning: The default value of `n_init` will change from 3 to 'auto' in 1.4. Set the value of `n_init` explicitly to suppress the warning\n",
      "  warnings.warn(\n"
     ]
    },
    {
     "name": "stdout",
     "output_type": "stream",
     "text": [
      "For n_clusters = 167 The average silhouette_score is : 0.4539684711128228\n"
     ]
    },
    {
     "name": "stderr",
     "output_type": "stream",
     "text": [
      "C:\\Users\\caios\\anaconda3\\lib\\site-packages\\sklearn\\cluster\\_kmeans.py:870: FutureWarning: The default value of `n_init` will change from 3 to 'auto' in 1.4. Set the value of `n_init` explicitly to suppress the warning\n",
      "  warnings.warn(\n"
     ]
    },
    {
     "name": "stdout",
     "output_type": "stream",
     "text": [
      "For n_clusters = 168 The average silhouette_score is : 0.4609649352084809\n"
     ]
    },
    {
     "name": "stderr",
     "output_type": "stream",
     "text": [
      "C:\\Users\\caios\\anaconda3\\lib\\site-packages\\sklearn\\cluster\\_kmeans.py:870: FutureWarning: The default value of `n_init` will change from 3 to 'auto' in 1.4. Set the value of `n_init` explicitly to suppress the warning\n",
      "  warnings.warn(\n"
     ]
    },
    {
     "name": "stdout",
     "output_type": "stream",
     "text": [
      "For n_clusters = 169 The average silhouette_score is : 0.44391553424437175\n"
     ]
    },
    {
     "name": "stderr",
     "output_type": "stream",
     "text": [
      "C:\\Users\\caios\\anaconda3\\lib\\site-packages\\sklearn\\cluster\\_kmeans.py:870: FutureWarning: The default value of `n_init` will change from 3 to 'auto' in 1.4. Set the value of `n_init` explicitly to suppress the warning\n",
      "  warnings.warn(\n"
     ]
    },
    {
     "name": "stdout",
     "output_type": "stream",
     "text": [
      "For n_clusters = 170 The average silhouette_score is : 0.46758966158740844\n"
     ]
    },
    {
     "name": "stderr",
     "output_type": "stream",
     "text": [
      "C:\\Users\\caios\\anaconda3\\lib\\site-packages\\sklearn\\cluster\\_kmeans.py:870: FutureWarning: The default value of `n_init` will change from 3 to 'auto' in 1.4. Set the value of `n_init` explicitly to suppress the warning\n",
      "  warnings.warn(\n"
     ]
    },
    {
     "name": "stdout",
     "output_type": "stream",
     "text": [
      "For n_clusters = 171 The average silhouette_score is : 0.4605406188147562\n"
     ]
    },
    {
     "name": "stderr",
     "output_type": "stream",
     "text": [
      "C:\\Users\\caios\\anaconda3\\lib\\site-packages\\sklearn\\cluster\\_kmeans.py:870: FutureWarning: The default value of `n_init` will change from 3 to 'auto' in 1.4. Set the value of `n_init` explicitly to suppress the warning\n",
      "  warnings.warn(\n"
     ]
    },
    {
     "name": "stdout",
     "output_type": "stream",
     "text": [
      "For n_clusters = 172 The average silhouette_score is : 0.46149188087897036\n"
     ]
    },
    {
     "name": "stderr",
     "output_type": "stream",
     "text": [
      "C:\\Users\\caios\\anaconda3\\lib\\site-packages\\sklearn\\cluster\\_kmeans.py:870: FutureWarning: The default value of `n_init` will change from 3 to 'auto' in 1.4. Set the value of `n_init` explicitly to suppress the warning\n",
      "  warnings.warn(\n"
     ]
    },
    {
     "name": "stdout",
     "output_type": "stream",
     "text": [
      "For n_clusters = 173 The average silhouette_score is : 0.45844194263335963\n"
     ]
    },
    {
     "name": "stderr",
     "output_type": "stream",
     "text": [
      "C:\\Users\\caios\\anaconda3\\lib\\site-packages\\sklearn\\cluster\\_kmeans.py:870: FutureWarning: The default value of `n_init` will change from 3 to 'auto' in 1.4. Set the value of `n_init` explicitly to suppress the warning\n",
      "  warnings.warn(\n"
     ]
    },
    {
     "name": "stdout",
     "output_type": "stream",
     "text": [
      "For n_clusters = 174 The average silhouette_score is : 0.4576814849102269\n"
     ]
    },
    {
     "name": "stderr",
     "output_type": "stream",
     "text": [
      "C:\\Users\\caios\\anaconda3\\lib\\site-packages\\sklearn\\cluster\\_kmeans.py:870: FutureWarning: The default value of `n_init` will change from 3 to 'auto' in 1.4. Set the value of `n_init` explicitly to suppress the warning\n",
      "  warnings.warn(\n"
     ]
    },
    {
     "name": "stdout",
     "output_type": "stream",
     "text": [
      "For n_clusters = 175 The average silhouette_score is : 0.45535534683420364\n"
     ]
    },
    {
     "name": "stderr",
     "output_type": "stream",
     "text": [
      "C:\\Users\\caios\\anaconda3\\lib\\site-packages\\sklearn\\cluster\\_kmeans.py:870: FutureWarning: The default value of `n_init` will change from 3 to 'auto' in 1.4. Set the value of `n_init` explicitly to suppress the warning\n",
      "  warnings.warn(\n"
     ]
    },
    {
     "name": "stdout",
     "output_type": "stream",
     "text": [
      "For n_clusters = 176 The average silhouette_score is : 0.43427804231022765\n"
     ]
    },
    {
     "name": "stderr",
     "output_type": "stream",
     "text": [
      "C:\\Users\\caios\\anaconda3\\lib\\site-packages\\sklearn\\cluster\\_kmeans.py:870: FutureWarning: The default value of `n_init` will change from 3 to 'auto' in 1.4. Set the value of `n_init` explicitly to suppress the warning\n",
      "  warnings.warn(\n"
     ]
    },
    {
     "name": "stdout",
     "output_type": "stream",
     "text": [
      "For n_clusters = 177 The average silhouette_score is : 0.44552680095925595\n"
     ]
    },
    {
     "name": "stderr",
     "output_type": "stream",
     "text": [
      "C:\\Users\\caios\\anaconda3\\lib\\site-packages\\sklearn\\cluster\\_kmeans.py:870: FutureWarning: The default value of `n_init` will change from 3 to 'auto' in 1.4. Set the value of `n_init` explicitly to suppress the warning\n",
      "  warnings.warn(\n"
     ]
    },
    {
     "name": "stdout",
     "output_type": "stream",
     "text": [
      "For n_clusters = 178 The average silhouette_score is : 0.4582332823703929\n"
     ]
    },
    {
     "name": "stderr",
     "output_type": "stream",
     "text": [
      "C:\\Users\\caios\\anaconda3\\lib\\site-packages\\sklearn\\cluster\\_kmeans.py:870: FutureWarning: The default value of `n_init` will change from 3 to 'auto' in 1.4. Set the value of `n_init` explicitly to suppress the warning\n",
      "  warnings.warn(\n"
     ]
    },
    {
     "name": "stdout",
     "output_type": "stream",
     "text": [
      "For n_clusters = 179 The average silhouette_score is : 0.4504651988684703\n"
     ]
    },
    {
     "name": "stderr",
     "output_type": "stream",
     "text": [
      "C:\\Users\\caios\\anaconda3\\lib\\site-packages\\sklearn\\cluster\\_kmeans.py:870: FutureWarning: The default value of `n_init` will change from 3 to 'auto' in 1.4. Set the value of `n_init` explicitly to suppress the warning\n",
      "  warnings.warn(\n"
     ]
    },
    {
     "name": "stdout",
     "output_type": "stream",
     "text": [
      "For n_clusters = 180 The average silhouette_score is : 0.4538283934569872\n"
     ]
    },
    {
     "name": "stderr",
     "output_type": "stream",
     "text": [
      "C:\\Users\\caios\\anaconda3\\lib\\site-packages\\sklearn\\cluster\\_kmeans.py:870: FutureWarning: The default value of `n_init` will change from 3 to 'auto' in 1.4. Set the value of `n_init` explicitly to suppress the warning\n",
      "  warnings.warn(\n"
     ]
    },
    {
     "name": "stdout",
     "output_type": "stream",
     "text": [
      "For n_clusters = 181 The average silhouette_score is : 0.4566941702638873\n"
     ]
    },
    {
     "name": "stderr",
     "output_type": "stream",
     "text": [
      "C:\\Users\\caios\\anaconda3\\lib\\site-packages\\sklearn\\cluster\\_kmeans.py:870: FutureWarning: The default value of `n_init` will change from 3 to 'auto' in 1.4. Set the value of `n_init` explicitly to suppress the warning\n",
      "  warnings.warn(\n"
     ]
    },
    {
     "name": "stdout",
     "output_type": "stream",
     "text": [
      "For n_clusters = 182 The average silhouette_score is : 0.4560577000851906\n"
     ]
    },
    {
     "name": "stderr",
     "output_type": "stream",
     "text": [
      "C:\\Users\\caios\\anaconda3\\lib\\site-packages\\sklearn\\cluster\\_kmeans.py:870: FutureWarning: The default value of `n_init` will change from 3 to 'auto' in 1.4. Set the value of `n_init` explicitly to suppress the warning\n",
      "  warnings.warn(\n"
     ]
    },
    {
     "name": "stdout",
     "output_type": "stream",
     "text": [
      "For n_clusters = 183 The average silhouette_score is : 0.423052085061089\n"
     ]
    },
    {
     "name": "stderr",
     "output_type": "stream",
     "text": [
      "C:\\Users\\caios\\anaconda3\\lib\\site-packages\\sklearn\\cluster\\_kmeans.py:870: FutureWarning: The default value of `n_init` will change from 3 to 'auto' in 1.4. Set the value of `n_init` explicitly to suppress the warning\n",
      "  warnings.warn(\n"
     ]
    },
    {
     "name": "stdout",
     "output_type": "stream",
     "text": [
      "For n_clusters = 184 The average silhouette_score is : 0.4767108076048487\n"
     ]
    },
    {
     "name": "stderr",
     "output_type": "stream",
     "text": [
      "C:\\Users\\caios\\anaconda3\\lib\\site-packages\\sklearn\\cluster\\_kmeans.py:870: FutureWarning: The default value of `n_init` will change from 3 to 'auto' in 1.4. Set the value of `n_init` explicitly to suppress the warning\n",
      "  warnings.warn(\n"
     ]
    },
    {
     "name": "stdout",
     "output_type": "stream",
     "text": [
      "For n_clusters = 185 The average silhouette_score is : 0.45255903990809443\n"
     ]
    },
    {
     "name": "stderr",
     "output_type": "stream",
     "text": [
      "C:\\Users\\caios\\anaconda3\\lib\\site-packages\\sklearn\\cluster\\_kmeans.py:870: FutureWarning: The default value of `n_init` will change from 3 to 'auto' in 1.4. Set the value of `n_init` explicitly to suppress the warning\n",
      "  warnings.warn(\n"
     ]
    },
    {
     "name": "stdout",
     "output_type": "stream",
     "text": [
      "For n_clusters = 186 The average silhouette_score is : 0.4554913290675878\n"
     ]
    },
    {
     "name": "stderr",
     "output_type": "stream",
     "text": [
      "C:\\Users\\caios\\anaconda3\\lib\\site-packages\\sklearn\\cluster\\_kmeans.py:870: FutureWarning: The default value of `n_init` will change from 3 to 'auto' in 1.4. Set the value of `n_init` explicitly to suppress the warning\n",
      "  warnings.warn(\n"
     ]
    },
    {
     "name": "stdout",
     "output_type": "stream",
     "text": [
      "For n_clusters = 187 The average silhouette_score is : 0.4542856118761364\n"
     ]
    },
    {
     "name": "stderr",
     "output_type": "stream",
     "text": [
      "C:\\Users\\caios\\anaconda3\\lib\\site-packages\\sklearn\\cluster\\_kmeans.py:870: FutureWarning: The default value of `n_init` will change from 3 to 'auto' in 1.4. Set the value of `n_init` explicitly to suppress the warning\n",
      "  warnings.warn(\n"
     ]
    },
    {
     "name": "stdout",
     "output_type": "stream",
     "text": [
      "For n_clusters = 188 The average silhouette_score is : 0.45756587998496456\n"
     ]
    },
    {
     "name": "stderr",
     "output_type": "stream",
     "text": [
      "C:\\Users\\caios\\anaconda3\\lib\\site-packages\\sklearn\\cluster\\_kmeans.py:870: FutureWarning: The default value of `n_init` will change from 3 to 'auto' in 1.4. Set the value of `n_init` explicitly to suppress the warning\n",
      "  warnings.warn(\n"
     ]
    },
    {
     "name": "stdout",
     "output_type": "stream",
     "text": [
      "For n_clusters = 189 The average silhouette_score is : 0.4611125931679727\n"
     ]
    },
    {
     "name": "stderr",
     "output_type": "stream",
     "text": [
      "C:\\Users\\caios\\anaconda3\\lib\\site-packages\\sklearn\\cluster\\_kmeans.py:870: FutureWarning: The default value of `n_init` will change from 3 to 'auto' in 1.4. Set the value of `n_init` explicitly to suppress the warning\n",
      "  warnings.warn(\n"
     ]
    },
    {
     "name": "stdout",
     "output_type": "stream",
     "text": [
      "For n_clusters = 190 The average silhouette_score is : 0.45661201771106064\n"
     ]
    },
    {
     "name": "stderr",
     "output_type": "stream",
     "text": [
      "C:\\Users\\caios\\anaconda3\\lib\\site-packages\\sklearn\\cluster\\_kmeans.py:870: FutureWarning: The default value of `n_init` will change from 3 to 'auto' in 1.4. Set the value of `n_init` explicitly to suppress the warning\n",
      "  warnings.warn(\n"
     ]
    },
    {
     "name": "stdout",
     "output_type": "stream",
     "text": [
      "For n_clusters = 191 The average silhouette_score is : 0.4449266234141873\n"
     ]
    },
    {
     "name": "stderr",
     "output_type": "stream",
     "text": [
      "C:\\Users\\caios\\anaconda3\\lib\\site-packages\\sklearn\\cluster\\_kmeans.py:870: FutureWarning: The default value of `n_init` will change from 3 to 'auto' in 1.4. Set the value of `n_init` explicitly to suppress the warning\n",
      "  warnings.warn(\n"
     ]
    },
    {
     "name": "stdout",
     "output_type": "stream",
     "text": [
      "For n_clusters = 192 The average silhouette_score is : 0.4637752130613554\n"
     ]
    },
    {
     "name": "stderr",
     "output_type": "stream",
     "text": [
      "C:\\Users\\caios\\anaconda3\\lib\\site-packages\\sklearn\\cluster\\_kmeans.py:870: FutureWarning: The default value of `n_init` will change from 3 to 'auto' in 1.4. Set the value of `n_init` explicitly to suppress the warning\n",
      "  warnings.warn(\n"
     ]
    },
    {
     "name": "stdout",
     "output_type": "stream",
     "text": [
      "For n_clusters = 193 The average silhouette_score is : 0.4556876871990225\n"
     ]
    },
    {
     "name": "stderr",
     "output_type": "stream",
     "text": [
      "C:\\Users\\caios\\anaconda3\\lib\\site-packages\\sklearn\\cluster\\_kmeans.py:870: FutureWarning: The default value of `n_init` will change from 3 to 'auto' in 1.4. Set the value of `n_init` explicitly to suppress the warning\n",
      "  warnings.warn(\n"
     ]
    },
    {
     "name": "stdout",
     "output_type": "stream",
     "text": [
      "For n_clusters = 194 The average silhouette_score is : 0.458767158185018\n"
     ]
    },
    {
     "name": "stderr",
     "output_type": "stream",
     "text": [
      "C:\\Users\\caios\\anaconda3\\lib\\site-packages\\sklearn\\cluster\\_kmeans.py:870: FutureWarning: The default value of `n_init` will change from 3 to 'auto' in 1.4. Set the value of `n_init` explicitly to suppress the warning\n",
      "  warnings.warn(\n"
     ]
    },
    {
     "name": "stdout",
     "output_type": "stream",
     "text": [
      "For n_clusters = 195 The average silhouette_score is : 0.47430963599708537\n"
     ]
    },
    {
     "name": "stderr",
     "output_type": "stream",
     "text": [
      "C:\\Users\\caios\\anaconda3\\lib\\site-packages\\sklearn\\cluster\\_kmeans.py:870: FutureWarning: The default value of `n_init` will change from 3 to 'auto' in 1.4. Set the value of `n_init` explicitly to suppress the warning\n",
      "  warnings.warn(\n"
     ]
    },
    {
     "name": "stdout",
     "output_type": "stream",
     "text": [
      "For n_clusters = 196 The average silhouette_score is : 0.4764276524853564\n"
     ]
    },
    {
     "name": "stderr",
     "output_type": "stream",
     "text": [
      "C:\\Users\\caios\\anaconda3\\lib\\site-packages\\sklearn\\cluster\\_kmeans.py:870: FutureWarning: The default value of `n_init` will change from 3 to 'auto' in 1.4. Set the value of `n_init` explicitly to suppress the warning\n",
      "  warnings.warn(\n"
     ]
    },
    {
     "name": "stdout",
     "output_type": "stream",
     "text": [
      "For n_clusters = 197 The average silhouette_score is : 0.47188358696866156\n"
     ]
    },
    {
     "name": "stderr",
     "output_type": "stream",
     "text": [
      "C:\\Users\\caios\\anaconda3\\lib\\site-packages\\sklearn\\cluster\\_kmeans.py:870: FutureWarning: The default value of `n_init` will change from 3 to 'auto' in 1.4. Set the value of `n_init` explicitly to suppress the warning\n",
      "  warnings.warn(\n"
     ]
    },
    {
     "name": "stdout",
     "output_type": "stream",
     "text": [
      "For n_clusters = 198 The average silhouette_score is : 0.43660933515661904\n"
     ]
    },
    {
     "name": "stderr",
     "output_type": "stream",
     "text": [
      "C:\\Users\\caios\\anaconda3\\lib\\site-packages\\sklearn\\cluster\\_kmeans.py:870: FutureWarning: The default value of `n_init` will change from 3 to 'auto' in 1.4. Set the value of `n_init` explicitly to suppress the warning\n",
      "  warnings.warn(\n"
     ]
    },
    {
     "name": "stdout",
     "output_type": "stream",
     "text": [
      "For n_clusters = 199 The average silhouette_score is : 0.4690152405262258\n"
     ]
    },
    {
     "name": "stderr",
     "output_type": "stream",
     "text": [
      "C:\\Users\\caios\\anaconda3\\lib\\site-packages\\sklearn\\cluster\\_kmeans.py:870: FutureWarning: The default value of `n_init` will change from 3 to 'auto' in 1.4. Set the value of `n_init` explicitly to suppress the warning\n",
      "  warnings.warn(\n"
     ]
    },
    {
     "name": "stdout",
     "output_type": "stream",
     "text": [
      "For n_clusters = 200 The average silhouette_score is : 0.4734711266682738\n"
     ]
    },
    {
     "name": "stderr",
     "output_type": "stream",
     "text": [
      "C:\\Users\\caios\\anaconda3\\lib\\site-packages\\sklearn\\cluster\\_kmeans.py:870: FutureWarning: The default value of `n_init` will change from 3 to 'auto' in 1.4. Set the value of `n_init` explicitly to suppress the warning\n",
      "  warnings.warn(\n"
     ]
    },
    {
     "name": "stdout",
     "output_type": "stream",
     "text": [
      "For n_clusters = 201 The average silhouette_score is : 0.44456540421999863\n"
     ]
    },
    {
     "name": "stderr",
     "output_type": "stream",
     "text": [
      "C:\\Users\\caios\\anaconda3\\lib\\site-packages\\sklearn\\cluster\\_kmeans.py:870: FutureWarning: The default value of `n_init` will change from 3 to 'auto' in 1.4. Set the value of `n_init` explicitly to suppress the warning\n",
      "  warnings.warn(\n"
     ]
    },
    {
     "name": "stdout",
     "output_type": "stream",
     "text": [
      "For n_clusters = 202 The average silhouette_score is : 0.42368212955798074\n"
     ]
    },
    {
     "name": "stderr",
     "output_type": "stream",
     "text": [
      "C:\\Users\\caios\\anaconda3\\lib\\site-packages\\sklearn\\cluster\\_kmeans.py:870: FutureWarning: The default value of `n_init` will change from 3 to 'auto' in 1.4. Set the value of `n_init` explicitly to suppress the warning\n",
      "  warnings.warn(\n"
     ]
    },
    {
     "name": "stdout",
     "output_type": "stream",
     "text": [
      "For n_clusters = 203 The average silhouette_score is : 0.4693901349164972\n"
     ]
    },
    {
     "name": "stderr",
     "output_type": "stream",
     "text": [
      "C:\\Users\\caios\\anaconda3\\lib\\site-packages\\sklearn\\cluster\\_kmeans.py:870: FutureWarning: The default value of `n_init` will change from 3 to 'auto' in 1.4. Set the value of `n_init` explicitly to suppress the warning\n",
      "  warnings.warn(\n"
     ]
    },
    {
     "name": "stdout",
     "output_type": "stream",
     "text": [
      "For n_clusters = 204 The average silhouette_score is : 0.4603344310879259\n"
     ]
    },
    {
     "name": "stderr",
     "output_type": "stream",
     "text": [
      "C:\\Users\\caios\\anaconda3\\lib\\site-packages\\sklearn\\cluster\\_kmeans.py:870: FutureWarning: The default value of `n_init` will change from 3 to 'auto' in 1.4. Set the value of `n_init` explicitly to suppress the warning\n",
      "  warnings.warn(\n"
     ]
    },
    {
     "name": "stdout",
     "output_type": "stream",
     "text": [
      "For n_clusters = 205 The average silhouette_score is : 0.44195646696226876\n"
     ]
    },
    {
     "name": "stderr",
     "output_type": "stream",
     "text": [
      "C:\\Users\\caios\\anaconda3\\lib\\site-packages\\sklearn\\cluster\\_kmeans.py:870: FutureWarning: The default value of `n_init` will change from 3 to 'auto' in 1.4. Set the value of `n_init` explicitly to suppress the warning\n",
      "  warnings.warn(\n"
     ]
    },
    {
     "name": "stdout",
     "output_type": "stream",
     "text": [
      "For n_clusters = 206 The average silhouette_score is : 0.45344229055670704\n"
     ]
    },
    {
     "name": "stderr",
     "output_type": "stream",
     "text": [
      "C:\\Users\\caios\\anaconda3\\lib\\site-packages\\sklearn\\cluster\\_kmeans.py:870: FutureWarning: The default value of `n_init` will change from 3 to 'auto' in 1.4. Set the value of `n_init` explicitly to suppress the warning\n",
      "  warnings.warn(\n"
     ]
    },
    {
     "name": "stdout",
     "output_type": "stream",
     "text": [
      "For n_clusters = 207 The average silhouette_score is : 0.46237445305978103\n"
     ]
    },
    {
     "name": "stderr",
     "output_type": "stream",
     "text": [
      "C:\\Users\\caios\\anaconda3\\lib\\site-packages\\sklearn\\cluster\\_kmeans.py:870: FutureWarning: The default value of `n_init` will change from 3 to 'auto' in 1.4. Set the value of `n_init` explicitly to suppress the warning\n",
      "  warnings.warn(\n"
     ]
    },
    {
     "name": "stdout",
     "output_type": "stream",
     "text": [
      "For n_clusters = 208 The average silhouette_score is : 0.4537708911907964\n"
     ]
    },
    {
     "name": "stderr",
     "output_type": "stream",
     "text": [
      "C:\\Users\\caios\\anaconda3\\lib\\site-packages\\sklearn\\cluster\\_kmeans.py:870: FutureWarning: The default value of `n_init` will change from 3 to 'auto' in 1.4. Set the value of `n_init` explicitly to suppress the warning\n",
      "  warnings.warn(\n"
     ]
    },
    {
     "name": "stdout",
     "output_type": "stream",
     "text": [
      "For n_clusters = 209 The average silhouette_score is : 0.41033042489448107\n"
     ]
    },
    {
     "name": "stderr",
     "output_type": "stream",
     "text": [
      "C:\\Users\\caios\\anaconda3\\lib\\site-packages\\sklearn\\cluster\\_kmeans.py:870: FutureWarning: The default value of `n_init` will change from 3 to 'auto' in 1.4. Set the value of `n_init` explicitly to suppress the warning\n",
      "  warnings.warn(\n"
     ]
    },
    {
     "name": "stdout",
     "output_type": "stream",
     "text": [
      "For n_clusters = 210 The average silhouette_score is : 0.4083703058186751\n"
     ]
    },
    {
     "name": "stderr",
     "output_type": "stream",
     "text": [
      "C:\\Users\\caios\\anaconda3\\lib\\site-packages\\sklearn\\cluster\\_kmeans.py:870: FutureWarning: The default value of `n_init` will change from 3 to 'auto' in 1.4. Set the value of `n_init` explicitly to suppress the warning\n",
      "  warnings.warn(\n"
     ]
    },
    {
     "name": "stdout",
     "output_type": "stream",
     "text": [
      "For n_clusters = 211 The average silhouette_score is : 0.47438379808762576\n"
     ]
    },
    {
     "name": "stderr",
     "output_type": "stream",
     "text": [
      "C:\\Users\\caios\\anaconda3\\lib\\site-packages\\sklearn\\cluster\\_kmeans.py:870: FutureWarning: The default value of `n_init` will change from 3 to 'auto' in 1.4. Set the value of `n_init` explicitly to suppress the warning\n",
      "  warnings.warn(\n"
     ]
    },
    {
     "name": "stdout",
     "output_type": "stream",
     "text": [
      "For n_clusters = 212 The average silhouette_score is : 0.459535954304769\n"
     ]
    },
    {
     "name": "stderr",
     "output_type": "stream",
     "text": [
      "C:\\Users\\caios\\anaconda3\\lib\\site-packages\\sklearn\\cluster\\_kmeans.py:870: FutureWarning: The default value of `n_init` will change from 3 to 'auto' in 1.4. Set the value of `n_init` explicitly to suppress the warning\n",
      "  warnings.warn(\n"
     ]
    },
    {
     "name": "stdout",
     "output_type": "stream",
     "text": [
      "For n_clusters = 213 The average silhouette_score is : 0.45056483440863787\n"
     ]
    },
    {
     "name": "stderr",
     "output_type": "stream",
     "text": [
      "C:\\Users\\caios\\anaconda3\\lib\\site-packages\\sklearn\\cluster\\_kmeans.py:870: FutureWarning: The default value of `n_init` will change from 3 to 'auto' in 1.4. Set the value of `n_init` explicitly to suppress the warning\n",
      "  warnings.warn(\n"
     ]
    },
    {
     "name": "stdout",
     "output_type": "stream",
     "text": [
      "For n_clusters = 214 The average silhouette_score is : 0.45235864282042265\n"
     ]
    },
    {
     "name": "stderr",
     "output_type": "stream",
     "text": [
      "C:\\Users\\caios\\anaconda3\\lib\\site-packages\\sklearn\\cluster\\_kmeans.py:870: FutureWarning: The default value of `n_init` will change from 3 to 'auto' in 1.4. Set the value of `n_init` explicitly to suppress the warning\n",
      "  warnings.warn(\n"
     ]
    },
    {
     "name": "stdout",
     "output_type": "stream",
     "text": [
      "For n_clusters = 215 The average silhouette_score is : 0.44477999701210136\n"
     ]
    },
    {
     "name": "stderr",
     "output_type": "stream",
     "text": [
      "C:\\Users\\caios\\anaconda3\\lib\\site-packages\\sklearn\\cluster\\_kmeans.py:870: FutureWarning: The default value of `n_init` will change from 3 to 'auto' in 1.4. Set the value of `n_init` explicitly to suppress the warning\n",
      "  warnings.warn(\n"
     ]
    },
    {
     "name": "stdout",
     "output_type": "stream",
     "text": [
      "For n_clusters = 216 The average silhouette_score is : 0.4484234924387875\n"
     ]
    },
    {
     "name": "stderr",
     "output_type": "stream",
     "text": [
      "C:\\Users\\caios\\anaconda3\\lib\\site-packages\\sklearn\\cluster\\_kmeans.py:870: FutureWarning: The default value of `n_init` will change from 3 to 'auto' in 1.4. Set the value of `n_init` explicitly to suppress the warning\n",
      "  warnings.warn(\n"
     ]
    },
    {
     "name": "stdout",
     "output_type": "stream",
     "text": [
      "For n_clusters = 217 The average silhouette_score is : 0.4453350950878235\n"
     ]
    },
    {
     "name": "stderr",
     "output_type": "stream",
     "text": [
      "C:\\Users\\caios\\anaconda3\\lib\\site-packages\\sklearn\\cluster\\_kmeans.py:870: FutureWarning: The default value of `n_init` will change from 3 to 'auto' in 1.4. Set the value of `n_init` explicitly to suppress the warning\n",
      "  warnings.warn(\n"
     ]
    },
    {
     "name": "stdout",
     "output_type": "stream",
     "text": [
      "For n_clusters = 218 The average silhouette_score is : 0.44192948358991874\n"
     ]
    },
    {
     "name": "stderr",
     "output_type": "stream",
     "text": [
      "C:\\Users\\caios\\anaconda3\\lib\\site-packages\\sklearn\\cluster\\_kmeans.py:870: FutureWarning: The default value of `n_init` will change from 3 to 'auto' in 1.4. Set the value of `n_init` explicitly to suppress the warning\n",
      "  warnings.warn(\n"
     ]
    },
    {
     "name": "stdout",
     "output_type": "stream",
     "text": [
      "For n_clusters = 219 The average silhouette_score is : 0.46628156717127517\n"
     ]
    },
    {
     "name": "stderr",
     "output_type": "stream",
     "text": [
      "C:\\Users\\caios\\anaconda3\\lib\\site-packages\\sklearn\\cluster\\_kmeans.py:870: FutureWarning: The default value of `n_init` will change from 3 to 'auto' in 1.4. Set the value of `n_init` explicitly to suppress the warning\n",
      "  warnings.warn(\n"
     ]
    },
    {
     "name": "stdout",
     "output_type": "stream",
     "text": [
      "For n_clusters = 220 The average silhouette_score is : 0.4376672573992688\n"
     ]
    },
    {
     "name": "stderr",
     "output_type": "stream",
     "text": [
      "C:\\Users\\caios\\anaconda3\\lib\\site-packages\\sklearn\\cluster\\_kmeans.py:870: FutureWarning: The default value of `n_init` will change from 3 to 'auto' in 1.4. Set the value of `n_init` explicitly to suppress the warning\n",
      "  warnings.warn(\n"
     ]
    },
    {
     "name": "stdout",
     "output_type": "stream",
     "text": [
      "For n_clusters = 221 The average silhouette_score is : 0.43459602412102294\n"
     ]
    },
    {
     "name": "stderr",
     "output_type": "stream",
     "text": [
      "C:\\Users\\caios\\anaconda3\\lib\\site-packages\\sklearn\\cluster\\_kmeans.py:870: FutureWarning: The default value of `n_init` will change from 3 to 'auto' in 1.4. Set the value of `n_init` explicitly to suppress the warning\n",
      "  warnings.warn(\n"
     ]
    },
    {
     "name": "stdout",
     "output_type": "stream",
     "text": [
      "For n_clusters = 222 The average silhouette_score is : 0.4261746497491685\n"
     ]
    },
    {
     "name": "stderr",
     "output_type": "stream",
     "text": [
      "C:\\Users\\caios\\anaconda3\\lib\\site-packages\\sklearn\\cluster\\_kmeans.py:870: FutureWarning: The default value of `n_init` will change from 3 to 'auto' in 1.4. Set the value of `n_init` explicitly to suppress the warning\n",
      "  warnings.warn(\n"
     ]
    },
    {
     "name": "stdout",
     "output_type": "stream",
     "text": [
      "For n_clusters = 223 The average silhouette_score is : 0.44877972190480603\n"
     ]
    },
    {
     "name": "stderr",
     "output_type": "stream",
     "text": [
      "C:\\Users\\caios\\anaconda3\\lib\\site-packages\\sklearn\\cluster\\_kmeans.py:870: FutureWarning: The default value of `n_init` will change from 3 to 'auto' in 1.4. Set the value of `n_init` explicitly to suppress the warning\n",
      "  warnings.warn(\n"
     ]
    },
    {
     "name": "stdout",
     "output_type": "stream",
     "text": [
      "For n_clusters = 224 The average silhouette_score is : 0.4266405827021561\n"
     ]
    },
    {
     "name": "stderr",
     "output_type": "stream",
     "text": [
      "C:\\Users\\caios\\anaconda3\\lib\\site-packages\\sklearn\\cluster\\_kmeans.py:870: FutureWarning: The default value of `n_init` will change from 3 to 'auto' in 1.4. Set the value of `n_init` explicitly to suppress the warning\n",
      "  warnings.warn(\n"
     ]
    },
    {
     "name": "stdout",
     "output_type": "stream",
     "text": [
      "For n_clusters = 225 The average silhouette_score is : 0.45052515480484046\n"
     ]
    },
    {
     "name": "stderr",
     "output_type": "stream",
     "text": [
      "C:\\Users\\caios\\anaconda3\\lib\\site-packages\\sklearn\\cluster\\_kmeans.py:870: FutureWarning: The default value of `n_init` will change from 3 to 'auto' in 1.4. Set the value of `n_init` explicitly to suppress the warning\n",
      "  warnings.warn(\n"
     ]
    },
    {
     "name": "stdout",
     "output_type": "stream",
     "text": [
      "For n_clusters = 226 The average silhouette_score is : 0.45328169816883995\n"
     ]
    },
    {
     "name": "stderr",
     "output_type": "stream",
     "text": [
      "C:\\Users\\caios\\anaconda3\\lib\\site-packages\\sklearn\\cluster\\_kmeans.py:870: FutureWarning: The default value of `n_init` will change from 3 to 'auto' in 1.4. Set the value of `n_init` explicitly to suppress the warning\n",
      "  warnings.warn(\n"
     ]
    },
    {
     "name": "stdout",
     "output_type": "stream",
     "text": [
      "For n_clusters = 227 The average silhouette_score is : 0.43368848408336796\n"
     ]
    },
    {
     "name": "stderr",
     "output_type": "stream",
     "text": [
      "C:\\Users\\caios\\anaconda3\\lib\\site-packages\\sklearn\\cluster\\_kmeans.py:870: FutureWarning: The default value of `n_init` will change from 3 to 'auto' in 1.4. Set the value of `n_init` explicitly to suppress the warning\n",
      "  warnings.warn(\n"
     ]
    },
    {
     "name": "stdout",
     "output_type": "stream",
     "text": [
      "For n_clusters = 228 The average silhouette_score is : 0.4521051430937881\n"
     ]
    },
    {
     "name": "stderr",
     "output_type": "stream",
     "text": [
      "C:\\Users\\caios\\anaconda3\\lib\\site-packages\\sklearn\\cluster\\_kmeans.py:870: FutureWarning: The default value of `n_init` will change from 3 to 'auto' in 1.4. Set the value of `n_init` explicitly to suppress the warning\n",
      "  warnings.warn(\n"
     ]
    },
    {
     "name": "stdout",
     "output_type": "stream",
     "text": [
      "For n_clusters = 229 The average silhouette_score is : 0.4602827725521538\n"
     ]
    },
    {
     "name": "stderr",
     "output_type": "stream",
     "text": [
      "C:\\Users\\caios\\anaconda3\\lib\\site-packages\\sklearn\\cluster\\_kmeans.py:870: FutureWarning: The default value of `n_init` will change from 3 to 'auto' in 1.4. Set the value of `n_init` explicitly to suppress the warning\n",
      "  warnings.warn(\n"
     ]
    },
    {
     "name": "stdout",
     "output_type": "stream",
     "text": [
      "For n_clusters = 230 The average silhouette_score is : 0.4377583874254674\n"
     ]
    },
    {
     "name": "stderr",
     "output_type": "stream",
     "text": [
      "C:\\Users\\caios\\anaconda3\\lib\\site-packages\\sklearn\\cluster\\_kmeans.py:870: FutureWarning: The default value of `n_init` will change from 3 to 'auto' in 1.4. Set the value of `n_init` explicitly to suppress the warning\n",
      "  warnings.warn(\n"
     ]
    },
    {
     "name": "stdout",
     "output_type": "stream",
     "text": [
      "For n_clusters = 231 The average silhouette_score is : 0.4572109959290453\n"
     ]
    },
    {
     "name": "stderr",
     "output_type": "stream",
     "text": [
      "C:\\Users\\caios\\anaconda3\\lib\\site-packages\\sklearn\\cluster\\_kmeans.py:870: FutureWarning: The default value of `n_init` will change from 3 to 'auto' in 1.4. Set the value of `n_init` explicitly to suppress the warning\n",
      "  warnings.warn(\n"
     ]
    },
    {
     "name": "stdout",
     "output_type": "stream",
     "text": [
      "For n_clusters = 232 The average silhouette_score is : 0.4064813989813683\n"
     ]
    },
    {
     "name": "stderr",
     "output_type": "stream",
     "text": [
      "C:\\Users\\caios\\anaconda3\\lib\\site-packages\\sklearn\\cluster\\_kmeans.py:870: FutureWarning: The default value of `n_init` will change from 3 to 'auto' in 1.4. Set the value of `n_init` explicitly to suppress the warning\n",
      "  warnings.warn(\n"
     ]
    },
    {
     "name": "stdout",
     "output_type": "stream",
     "text": [
      "For n_clusters = 233 The average silhouette_score is : 0.45950599950114246\n"
     ]
    },
    {
     "name": "stderr",
     "output_type": "stream",
     "text": [
      "C:\\Users\\caios\\anaconda3\\lib\\site-packages\\sklearn\\cluster\\_kmeans.py:870: FutureWarning: The default value of `n_init` will change from 3 to 'auto' in 1.4. Set the value of `n_init` explicitly to suppress the warning\n",
      "  warnings.warn(\n"
     ]
    },
    {
     "name": "stdout",
     "output_type": "stream",
     "text": [
      "For n_clusters = 234 The average silhouette_score is : 0.4603363901192879\n"
     ]
    },
    {
     "name": "stderr",
     "output_type": "stream",
     "text": [
      "C:\\Users\\caios\\anaconda3\\lib\\site-packages\\sklearn\\cluster\\_kmeans.py:870: FutureWarning: The default value of `n_init` will change from 3 to 'auto' in 1.4. Set the value of `n_init` explicitly to suppress the warning\n",
      "  warnings.warn(\n"
     ]
    },
    {
     "name": "stdout",
     "output_type": "stream",
     "text": [
      "For n_clusters = 235 The average silhouette_score is : 0.40092132962245536\n"
     ]
    },
    {
     "name": "stderr",
     "output_type": "stream",
     "text": [
      "C:\\Users\\caios\\anaconda3\\lib\\site-packages\\sklearn\\cluster\\_kmeans.py:870: FutureWarning: The default value of `n_init` will change from 3 to 'auto' in 1.4. Set the value of `n_init` explicitly to suppress the warning\n",
      "  warnings.warn(\n"
     ]
    },
    {
     "name": "stdout",
     "output_type": "stream",
     "text": [
      "For n_clusters = 236 The average silhouette_score is : 0.38462227584775777\n"
     ]
    },
    {
     "name": "stderr",
     "output_type": "stream",
     "text": [
      "C:\\Users\\caios\\anaconda3\\lib\\site-packages\\sklearn\\cluster\\_kmeans.py:870: FutureWarning: The default value of `n_init` will change from 3 to 'auto' in 1.4. Set the value of `n_init` explicitly to suppress the warning\n",
      "  warnings.warn(\n"
     ]
    },
    {
     "name": "stdout",
     "output_type": "stream",
     "text": [
      "For n_clusters = 237 The average silhouette_score is : 0.3961069977922202\n"
     ]
    },
    {
     "name": "stderr",
     "output_type": "stream",
     "text": [
      "C:\\Users\\caios\\anaconda3\\lib\\site-packages\\sklearn\\cluster\\_kmeans.py:870: FutureWarning: The default value of `n_init` will change from 3 to 'auto' in 1.4. Set the value of `n_init` explicitly to suppress the warning\n",
      "  warnings.warn(\n"
     ]
    },
    {
     "name": "stdout",
     "output_type": "stream",
     "text": [
      "For n_clusters = 238 The average silhouette_score is : 0.458892560099935\n"
     ]
    },
    {
     "name": "stderr",
     "output_type": "stream",
     "text": [
      "C:\\Users\\caios\\anaconda3\\lib\\site-packages\\sklearn\\cluster\\_kmeans.py:870: FutureWarning: The default value of `n_init` will change from 3 to 'auto' in 1.4. Set the value of `n_init` explicitly to suppress the warning\n",
      "  warnings.warn(\n"
     ]
    },
    {
     "name": "stdout",
     "output_type": "stream",
     "text": [
      "For n_clusters = 239 The average silhouette_score is : 0.4872469368115894\n"
     ]
    },
    {
     "name": "stderr",
     "output_type": "stream",
     "text": [
      "C:\\Users\\caios\\anaconda3\\lib\\site-packages\\sklearn\\cluster\\_kmeans.py:870: FutureWarning: The default value of `n_init` will change from 3 to 'auto' in 1.4. Set the value of `n_init` explicitly to suppress the warning\n",
      "  warnings.warn(\n"
     ]
    },
    {
     "name": "stdout",
     "output_type": "stream",
     "text": [
      "For n_clusters = 240 The average silhouette_score is : 0.466327258445802\n"
     ]
    },
    {
     "name": "stderr",
     "output_type": "stream",
     "text": [
      "C:\\Users\\caios\\anaconda3\\lib\\site-packages\\sklearn\\cluster\\_kmeans.py:870: FutureWarning: The default value of `n_init` will change from 3 to 'auto' in 1.4. Set the value of `n_init` explicitly to suppress the warning\n",
      "  warnings.warn(\n"
     ]
    },
    {
     "name": "stdout",
     "output_type": "stream",
     "text": [
      "For n_clusters = 241 The average silhouette_score is : 0.47357431511322745\n"
     ]
    },
    {
     "name": "stderr",
     "output_type": "stream",
     "text": [
      "C:\\Users\\caios\\anaconda3\\lib\\site-packages\\sklearn\\cluster\\_kmeans.py:870: FutureWarning: The default value of `n_init` will change from 3 to 'auto' in 1.4. Set the value of `n_init` explicitly to suppress the warning\n",
      "  warnings.warn(\n"
     ]
    },
    {
     "name": "stdout",
     "output_type": "stream",
     "text": [
      "For n_clusters = 242 The average silhouette_score is : 0.4501108377473147\n"
     ]
    },
    {
     "name": "stderr",
     "output_type": "stream",
     "text": [
      "C:\\Users\\caios\\anaconda3\\lib\\site-packages\\sklearn\\cluster\\_kmeans.py:870: FutureWarning: The default value of `n_init` will change from 3 to 'auto' in 1.4. Set the value of `n_init` explicitly to suppress the warning\n",
      "  warnings.warn(\n"
     ]
    },
    {
     "name": "stdout",
     "output_type": "stream",
     "text": [
      "For n_clusters = 243 The average silhouette_score is : 0.45525861004993856\n"
     ]
    },
    {
     "name": "stderr",
     "output_type": "stream",
     "text": [
      "C:\\Users\\caios\\anaconda3\\lib\\site-packages\\sklearn\\cluster\\_kmeans.py:870: FutureWarning: The default value of `n_init` will change from 3 to 'auto' in 1.4. Set the value of `n_init` explicitly to suppress the warning\n",
      "  warnings.warn(\n"
     ]
    },
    {
     "name": "stdout",
     "output_type": "stream",
     "text": [
      "For n_clusters = 244 The average silhouette_score is : 0.43095086297835483\n"
     ]
    },
    {
     "name": "stderr",
     "output_type": "stream",
     "text": [
      "C:\\Users\\caios\\anaconda3\\lib\\site-packages\\sklearn\\cluster\\_kmeans.py:870: FutureWarning: The default value of `n_init` will change from 3 to 'auto' in 1.4. Set the value of `n_init` explicitly to suppress the warning\n",
      "  warnings.warn(\n"
     ]
    },
    {
     "name": "stdout",
     "output_type": "stream",
     "text": [
      "For n_clusters = 245 The average silhouette_score is : 0.455441513001976\n"
     ]
    },
    {
     "name": "stderr",
     "output_type": "stream",
     "text": [
      "C:\\Users\\caios\\anaconda3\\lib\\site-packages\\sklearn\\cluster\\_kmeans.py:870: FutureWarning: The default value of `n_init` will change from 3 to 'auto' in 1.4. Set the value of `n_init` explicitly to suppress the warning\n",
      "  warnings.warn(\n"
     ]
    },
    {
     "name": "stdout",
     "output_type": "stream",
     "text": [
      "For n_clusters = 246 The average silhouette_score is : 0.4652422849761388\n"
     ]
    },
    {
     "name": "stderr",
     "output_type": "stream",
     "text": [
      "C:\\Users\\caios\\anaconda3\\lib\\site-packages\\sklearn\\cluster\\_kmeans.py:870: FutureWarning: The default value of `n_init` will change from 3 to 'auto' in 1.4. Set the value of `n_init` explicitly to suppress the warning\n",
      "  warnings.warn(\n"
     ]
    },
    {
     "name": "stdout",
     "output_type": "stream",
     "text": [
      "For n_clusters = 247 The average silhouette_score is : 0.41781330096345093\n"
     ]
    },
    {
     "name": "stderr",
     "output_type": "stream",
     "text": [
      "C:\\Users\\caios\\anaconda3\\lib\\site-packages\\sklearn\\cluster\\_kmeans.py:870: FutureWarning: The default value of `n_init` will change from 3 to 'auto' in 1.4. Set the value of `n_init` explicitly to suppress the warning\n",
      "  warnings.warn(\n"
     ]
    },
    {
     "name": "stdout",
     "output_type": "stream",
     "text": [
      "For n_clusters = 248 The average silhouette_score is : 0.4505854679164364\n"
     ]
    },
    {
     "name": "stderr",
     "output_type": "stream",
     "text": [
      "C:\\Users\\caios\\anaconda3\\lib\\site-packages\\sklearn\\cluster\\_kmeans.py:870: FutureWarning: The default value of `n_init` will change from 3 to 'auto' in 1.4. Set the value of `n_init` explicitly to suppress the warning\n",
      "  warnings.warn(\n"
     ]
    },
    {
     "name": "stdout",
     "output_type": "stream",
     "text": [
      "For n_clusters = 249 The average silhouette_score is : 0.4674122272352071\n"
     ]
    }
   ],
   "source": [
    "wcss = []\n",
    "for cluster in range(2,250):\n",
    "    cls = MiniBatchKMeans(n_clusters=cluster, random_state=42)\n",
    "    cls.fit(features)\n",
    "    silhouette_avg = v_measure_score(df.desc.values, cls.labels_)\n",
    "    print(\"For n_clusters =\", cluster,\"The average silhouette_score is :\", silhouette_avg)\n",
    "    wcss.append(cls.inertia_)"
   ]
  },
  {
   "cell_type": "code",
   "execution_count": 9,
   "id": "2ec45d64",
   "metadata": {},
   "outputs": [
    {
     "data": {
      "text/plain": [
       "[<matplotlib.lines.Line2D at 0x1c0df02ed70>]"
      ]
     },
     "execution_count": 9,
     "metadata": {},
     "output_type": "execute_result"
    },
    {
     "data": {
      "image/png": "[encoded data removed]",
      "text/plain": [
       "<Figure size 800x550 with 1 Axes>"
      ]
     },
     "metadata": {},
     "output_type": "display_data"
    }
   ],
   "source": [
    "clusters = [i for i in range(2,250)]\n",
    "plt.plot(clusters, wcss)"
   ]
  },
  {
   "cell_type": "code",
   "execution_count": 11,
   "id": "4fa41665",
   "metadata": {},
   "outputs": [
    {
     "name": "stdout",
     "output_type": "stream",
     "text": [
      "  (0, 112051)\t0.05091937126902114\n",
      "  (0, 110686)\t0.16664988664588654\n",
      "  (0, 106558)\t0.2415562758485397\n",
      "  (0, 101390)\t0.2097264837389894\n",
      "  (0, 93190)\t0.24497830270238302\n",
      "  (0, 90202)\t0.16664342561812534\n",
      "  (0, 90194)\t0.2539234678714362\n",
      "  (0, 86618)\t0.2371595285184623\n",
      "  (0, 83911)\t0.05310724154629917\n",
      "  (0, 74931)\t0.27262233775685574\n",
      "  (0, 73389)\t0.2522395670378201\n",
      "  (0, 73147)\t0.16011180404469677\n",
      "  (0, 60072)\t0.21515375241245302\n",
      "  (0, 59359)\t0.10133422664787205\n",
      "  (0, 55378)\t0.1856548101624249\n",
      "  (0, 54057)\t0.1609287425017132\n",
      "  (0, 48623)\t0.0677106160301308\n",
      "  (0, 43847)\t0.18833504282908445\n",
      "  (0, 34392)\t0.06695694374207668\n",
      "  (0, 33896)\t0.09509913325582227\n",
      "  (0, 17263)\t0.28657078695287774\n",
      "  (0, 13771)\t0.34959745280197313\n",
      "  (0, 8314)\t0.16185868453421337\n",
      "  (0, 7846)\t0.302230823041568\n",
      "  (0, 112051)\t0.04883050052763285\n",
      "  (0, 110686)\t0.15981339075847453\n",
      "  (0, 106558)\t0.23164688725155766\n",
      "  (0, 101390)\t0.20112285206290165\n",
      "  (0, 93190)\t0.23492853193662924\n",
      "  (0, 90202)\t0.15980719478213706\n",
      "  (0, 90194)\t0.24350673865091677\n",
      "  (0, 86618)\t0.22743050815121651\n",
      "  (0, 83911)\t0.05092861757162735\n",
      "  (0, 74931)\t0.2614385228236255\n",
      "  (0, 73389)\t0.24189191665890994\n",
      "  (0, 73147)\t0.1535435206098355\n",
      "  (0, 67672)\t0.30381733044099124\n",
      "  (0, 60072)\t0.20632747732080237\n",
      "  (0, 59359)\t0.09717718197370244\n",
      "  (0, 55378)\t0.17803867329189316\n",
      "  (0, 54057)\t0.1543269457143135\n",
      "  (0, 48623)\t0.0649329162828292\n",
      "  (0, 43847)\t0.1806089544910077\n",
      "  (0, 38153)\t0.06813438468772272\n",
      "  (0, 34392)\t0.06421016197258736\n",
      "  (0, 33896)\t0.09119787147590061\n",
      "  (0, 26880)\t0.28983237609174634\n",
      "  (0, 26111)\t0.21917478958719214\n",
      "  (0, 17263)\t0.2748147633162177\n",
      "  (0, 2326)\t0.2680817496044509\n",
      "  (0, 112051)\t0.05039082570385351\n",
      "  (0, 110686)\t0.16492005266861665\n",
      "  (0, 106558)\t0.23904890988630853\n",
      "  (0, 101390)\t0.20754951257623105\n",
      "  (0, 93190)\t0.24243541593397522\n",
      "  (0, 90202)\t0.16491365870663974\n",
      "  (0, 90194)\t0.2512877298509025\n",
      "  (0, 86618)\t0.23469780100864246\n",
      "  (0, 83911)\t0.052555985780604754\n",
      "  (0, 74931)\t0.26979250455200854\n",
      "  (0, 73389)\t0.24962130799032956\n",
      "  (0, 73147)\t0.15844983568472412\n",
      "  (0, 67672)\t0.3135254805630848\n",
      "  (0, 60072)\t0.21292044593531742\n",
      "  (0, 59359)\t0.10028237241716181\n",
      "  (0, 55378)\t0.1837277041491759\n",
      "  (0, 54057)\t0.15925829428058538\n",
      "  (0, 48623)\t0.06700777652277681\n",
      "  (0, 43847)\t0.18638011586961645\n",
      "  (0, 38153)\t0.07031154434502329\n",
      "  (0, 34392)\t0.06626192738994854\n",
      "  (0, 33896)\t0.09411199959959367\n",
      "  (0, 29530)\t0.16883527854764255\n",
      "  (0, 21299)\t0.2590750813454852\n",
      "  (0, 21298)\t0.2378941709590557\n",
      "  (0, 17263)\t0.2835961681629028\n",
      "  (0, 112051)\t0.04967723014109443\n",
      "  (0, 110686)\t0.1625845835400503\n",
      "  (0, 106558)\t0.23566368571118218\n",
      "  (0, 101390)\t0.2046103582925202\n",
      "  (0, 93190)\t0.23900223470208073\n",
      "  (0, 90202)\t0.16257828012437486\n",
      "  (0, 90194)\t0.24772918905517796\n",
      "  (0, 86618)\t0.2313741938430573\n",
      "  (0, 83911)\t0.05181172890992203\n",
      "  (0, 74931)\t0.2659719135729\n",
      "  (0, 73389)\t0.24608636576098653\n",
      "  (0, 73147)\t0.1562059927215421\n",
      "  (0, 67672)\t0.3090855772946489\n",
      "  (0, 60072)\t0.20990523268334432\n",
      "  (0, 59359)\t0.09886225169121056\n",
      "  (0, 55378)\t0.18112589573255497\n",
      "  (0, 54057)\t0.15700300255746297\n",
      "  (0, 48623)\t0.06605886466572525\n",
      "  (0, 43847)\t0.1837407460674084\n",
      "  (0, 38153)\t0.06931584710540632\n",
      "  (0, 34392)\t0.06532357766646475\n",
      "  (0, 33896)\t0.0927792588798575\n",
      "  (0, 31631)\t0.2815471851689714\n",
      "  (0, 25082)\t0.19131462047550657\n",
      "  (0, 24388)\t0.24533650266583198\n",
      "  (0, 17263)\t0.27958010046824205\n",
      "  (0, 110686)\t0.24502705154942878\n",
      "  (0, 101390)\t0.3083630176814299\n",
      "  (0, 90202)\t0.24501755183350238\n",
      "  (0, 86618)\t0.23246540472485766\n",
      "  (0, 83911)\t0.07808412639165879\n",
      "  (0, 74931)\t0.4008394422074677\n",
      "  (0, 60072)\t0.31634278693174517\n",
      "  (0, 59359)\t0.148992761269199\n",
      "  (0, 54057)\t0.1183075970778806\n",
      "  (0, 43847)\t0.27691096091714634\n",
      "  (0, 33896)\t0.1398252389819764\n",
      "  (0, 21676)\t0.3924253333217025\n",
      "  (0, 17263)\t0.42134799129187617\n",
      "  (0, 112051)\t0.05023997797508619\n",
      "  (0, 110686)\t0.1644263553531677\n",
      "  (0, 106558)\t0.23833330372949385\n",
      "  (0, 101390)\t0.20692820161056266\n",
      "  (0, 93190)\t0.24170967208366947\n",
      "  (0, 90202)\t0.16441998053187026\n",
      "  (0, 90194)\t0.25053548610840304\n",
      "  (0, 86618)\t0.23399522013733653\n",
      "  (0, 83911)\t0.052398656525181865\n",
      "  (0, 74931)\t0.2689848657411405\n",
      "  (0, 73389)\t0.24887405277400176\n",
      "  (0, 73147)\t0.15797550732231416\n",
      "  (0, 67672)\t0.3125869246653987\n",
      "  (0, 60072)\t0.21228305678304935\n",
      "  (0, 59359)\t0.09998217157894912\n",
      "  (0, 55378)\t0.18317770508693754\n",
      "  (0, 54057)\t0.15878154575257414\n",
      "  (0, 48623)\t0.0668071850310316\n",
      "  (0, 43847)\t0.1858221766659298\n",
      "  (0, 38153)\t0.07010106284124912\n",
      "  (0, 34392)\t0.066063568638908\n",
      "  (0, 33896)\t0.09383027011429444\n",
      "  (0, 29530)\t0.1683298607865924\n",
      "  (0, 21298)\t0.2371820215772008\n",
      "  (0, 20200)\t0.2696234307985475\n",
      "  (0, 17263)\t0.28274720732019093\n",
      "  (0, 112051)\t0.05134245760810488\n",
      "  (0, 110686)\t0.16803457166246338\n",
      "  (0, 106558)\t0.2435633540563894\n",
      "  (0, 101390)\t0.21146908990247157\n",
      "  (0, 93190)\t0.24701381434877992\n",
      "  (0, 90202)\t0.16802805695036724\n",
      "  (0, 90194)\t0.2560333044179557\n",
      "  (0, 86618)\t0.23913007438733377\n",
      "  (0, 83911)\t0.05354850678278353\n",
      "  (0, 74931)\t0.2748875422155795\n",
      "  (0, 73389)\t0.2543354121421571\n",
      "  (0, 73147)\t0.16144216448177814\n",
      "  (0, 67672)\t0.31944641648608474\n",
      "  (0, 60072)\t0.21694145346177243\n",
      "  (0, 59359)\t0.10217620733042641\n",
      "  (0, 55378)\t0.18719740607449764\n",
      "  (0, 54057)\t0.1622658908368464\n",
      "  (0, 48623)\t0.06827321992604186\n",
      "  (0, 43847)\t0.18989990865138132\n",
      "  (0, 38153)\t0.0716393794797191\n",
      "  (0, 34392)\t0.0675132854151583\n",
      "  (0, 33896)\t0.09588930688005398\n",
      "  (0, 27520)\t0.1706143751458402\n",
      "  (0, 18554)\t0.24701381434877992\n",
      "  (0, 17575)\t0.17254190293707924\n",
      "  (0, 17263)\t0.28895188833175517\n",
      "  (0, 110686)\t0.21181057272167264\n",
      "  (0, 106558)\t0.3070159491960053\n",
      "  (0, 101390)\t0.26656055716407767\n",
      "  (0, 90202)\t0.21180236081095363\n",
      "  (0, 90194)\t0.32273454389805134\n",
      "  (0, 86618)\t0.20095181410128798\n",
      "  (0, 83911)\t0.06749884727789876\n",
      "  (0, 73389)\t0.32059432042023633\n",
      "  (0, 60072)\t0.273458568973011\n",
      "  (0, 59359)\t0.12879493058523095\n",
      "  (0, 54057)\t0.1022695238584125\n",
      "  (0, 48623)\t0.08605961065640652\n",
      "  (0, 43847)\t0.23937221973606287\n",
      "  (0, 34392)\t0.08510169965994478\n",
      "  (0, 33896)\t0.12087018050634586\n",
      "  (0, 29530)\t0.21683898632179147\n",
      "  (0, 23150)\t0.35358277432704915\n",
      "  (0, 17263)\t0.3642290056804411\n",
      "  (0, 112051)\t0.05031103648669066\n",
      "  (0, 110686)\t0.1646589170012986\n",
      "  (0, 106558)\t0.23867039802195542\n",
      "  (0, 101390)\t0.20722087709745737\n",
      "  (0, 93190)\t0.24205154185015682\n",
      "  (0, 90202)\t0.1646525331635698\n",
      "  (0, 90194)\t0.25088983894581457\n",
      "  (0, 86618)\t0.2343261787232214\n",
      "  (0, 83911)\t0.05247276823248795\n",
      "  (0, 74931)\t0.26936531304573874\n",
      "  (0, 73389)\t0.2492260557103061\n",
      "  (0, 73147)\t0.1581989450082513\n",
      "  (0, 67672)\t0.31302904192955755\n",
      "  (0, 60072)\t0.21258330607976147\n",
      "  (0, 59359)\t0.10012358454499194\n",
      "  (0, 55378)\t0.18343678830327684\n",
      "  (0, 54057)\t0.15900612348461515\n",
      "  (0, 48623)\t0.06690167589914353\n",
      "  (0, 43847)\t0.18608500017480023\n",
      "  (0, 38153)\t0.07020021251026094\n",
      "  (0, 34392)\t0.06615700774951208\n",
      "  (0, 33896)\t0.09396298194273263\n",
      "  (0, 28577)\t0.1684458150884613\n",
      "  (0, 20199)\t0.24164303753259916\n",
      "  (0, 18555)\t0.2610290712346293\n",
      "  (0, 17263)\t0.28314711983055185\n",
      "  (0, 112051)\t0.04908119320659562\n",
      "  (0, 110686)\t0.16063386252571954\n",
      "  (0, 106558)\t0.23283614761364665\n",
      "  (0, 101390)\t0.20215540397286516\n",
      "  (0, 93190)\t0.2361346400534743\n",
      "  (0, 90202)\t0.16062763473963426\n",
      "  (0, 90194)\t0.24475688673455845\n",
      "  (0, 86618)\t0.2285981218916087\n",
      "  (0, 83911)\t0.05119008184983348\n",
      "  (0, 74931)\t0.2627807315448659\n",
      "  (0, 73389)\t0.24313377434931688\n",
      "  (0, 73147)\t0.15433180326315937\n",
      "  (0, 67672)\t0.3053771092607981\n",
      "  (0, 60072)\t0.20738674944527938\n",
      "  (0, 59359)\t0.09767608343528492\n",
      "  (0, 55378)\t0.17895271249862346\n",
      "  (0, 54057)\t0.15511925042221564\n",
      "  (0, 48623)\t0.06526627773847506\n",
      "  (0, 43847)\t0.18153618935767454\n",
      "  (0, 38153)\t0.06848418227820981\n",
      "  (0, 34392)\t0.06453981285364749\n",
      "  (0, 33896)\t0.09166607553829924\n",
      "  (0, 29332)\t0.29408859312673213\n",
      "  (0, 28577)\t0.16432819064235232\n",
      "  (0, 17263)\t0.2762256448040139\n",
      "  (0, 4590)\t0.28674241478682927\n",
      "  (0, 112051)\t0.04908965746085896\n",
      "  (0, 110686)\t0.16066156449804114\n",
      "  (0, 106558)\t0.23287630116791747\n",
      "  (0, 101390)\t0.20219026650631522\n",
      "  (0, 93190)\t0.236175362446375\n",
      "  (0, 90202)\t0.16065533563794845\n",
      "  (0, 90194)\t0.2447990960694722\n",
      "  (0, 86618)\t0.2286375445808589\n",
      "  (0, 83911)\t0.05119890979064401\n",
      "  (0, 74931)\t0.2628260491661784\n",
      "  (0, 73389)\t0.2431757037718033\n",
      "  (0, 73147)\t0.15435841841936065\n",
      "  (0, 67672)\t0.30542977280318806\n",
      "  (0, 60072)\t0.20742251414583918\n",
      "  (0, 59359)\t0.0976929280788567\n",
      "  (0, 55378)\t0.1789835736322012\n",
      "  (0, 54057)\t0.15514600137692827\n",
      "  (0, 48623)\t0.0652775331773409\n",
      "  (0, 43847)\t0.18156749602249528\n",
      "  (0, 38153)\t0.0684959926579897\n",
      "  (0, 34392)\t0.06455094301064677\n",
      "  (0, 33896)\t0.09168188373121362\n",
      "  (0, 30472)\t0.2591813222252165\n",
      "  (0, 23149)\t0.23287630116791747\n",
      "  (0, 22666)\t0.2720832753576165\n",
      "  (0, 17263)\t0.2762732810560877\n",
      "  (0, 112051)\t0.04964428593905593\n",
      "  (0, 110686)\t0.16247676312910395\n",
      "  (0, 106558)\t0.23550740179492605\n",
      "  (0, 101390)\t0.20447466785721183\n",
      "  (0, 93190)\t0.23884373677686802\n",
      "  (0, 90202)\t0.16247046389363337\n",
      "  (0, 90194)\t0.2475649037189809\n",
      "  (0, 86618)\t0.23122075456782373\n",
      "  (0, 83911)\t0.051777369182933936\n",
      "  (0, 74931)\t0.26579553029966946\n",
      "  (0, 73389)\t0.24592316988775598\n",
      "  (0, 73147)\t0.15610240236899572\n",
      "  (0, 67672)\t0.30888060254713057\n",
      "  (0, 60072)\t0.20976603087247808\n",
      "  (0, 59359)\t0.09879668970266076\n",
      "  (0, 55378)\t0.1810057793716695\n",
      "  (0, 54057)\t0.1568988836558613\n",
      "  (0, 48623)\t0.06601505673646267\n",
      "  (0, 43847)\t0.1836188956292105\n",
      "  (0, 38153)\t0.0692698792592719\n",
      "  (0, 34392)\t0.06528025735383038\n",
      "  (0, 33896)\t0.09271773091944506\n",
      "  (0, 31631)\t0.28136047292021615\n",
      "  (0, 24388)\t0.24517380407558678\n",
      "  (0, 23821)\t0.19462436898294216\n",
      "  (0, 17263)\t0.2793946927212801\n",
      "  (0, 110686)\t0.17514540775371923\n",
      "  (0, 106558)\t0.25387039427672276\n",
      "  (0, 101390)\t0.22041797477649677\n",
      "  (0, 90202)\t0.17513861735401048\n",
      "  (0, 90194)\t0.2668680442194521\n",
      "  (0, 86618)\t0.24924950842185986\n",
      "  (0, 83911)\t0.05581455626829506\n",
      "  (0, 74931)\t0.28652014993959946\n",
      "  (0, 73389)\t0.2650983010527662\n",
      "  (0, 60072)\t0.22612191615884297\n",
      "  (0, 59359)\t0.10650006911413304\n",
      "  (0, 55378)\t0.1951191691863048\n",
      "  (0, 54057)\t0.16913260964076132\n",
      "  (0, 48623)\t0.07116238536094739\n",
      "  (0, 43847)\t0.1979360354484128\n",
      "  (0, 34392)\t0.07037029217168284\n",
      "  (0, 33896)\t0.0999471215153533\n",
      "  (0, 17440)\t0.27324993658887703\n",
      "  (0, 14855)\t0.3625711543180281\n",
      "  (0, 11710)\t0.21369915405407972\n",
      "  (0, 9767)\t0.310902993493571\n",
      "  (0, 112051)\t0.05148931685197302\n",
      "  (0, 110686)\t0.1685152153886835\n",
      "  (0, 106558)\t0.2442600392498357\n",
      "  (0, 101390)\t0.2120739731139768\n",
      "  (0, 93190)\t0.24772036919033313\n",
      "  (0, 90202)\t0.16850868204199645\n",
      "  (0, 90194)\t0.2567656584820889\n",
      "  (0, 86618)\t0.23981407868994653\n",
      "  (0, 83911)\t0.05370167617869391\n",
      "  (0, 74931)\t0.27567382667641877\n",
      "  (0, 73389)\t0.255062909579097\n",
      "  (0, 73147)\t0.16190395137918775\n",
      "  (0, 67672)\t0.32036015652439037\n",
      "  (0, 60072)\t0.21756198974506133\n",
      "  (0, 59359)\t0.10246847071727863\n",
      "  (0, 55378)\t0.1877328629028408\n",
      "  (0, 54057)\t0.16273003390954044\n",
      "  (0, 48623)\t0.06846850768439801\n",
      "  (0, 43847)\t0.19044309568009823\n",
      "  (0, 38153)\t0.07184429575353443\n",
      "  (0, 34392)\t0.06770639946752417\n",
      "  (0, 33896)\t0.09616358730525167\n",
      "  (0, 24388)\t0.2542856935710315\n",
      "  (0, 17263)\t0.28977840225048074\n",
      "  (0, 15854)\t0.1488626521803978\n",
      "  (0, 13618)\t0.16742884569433833\n",
      "  (0, 112051)\t0.04856903825242927\n",
      "  (0, 110686)\t0.1589576720518423\n",
      "  (0, 106558)\t0.23040653702925457\n",
      "  (0, 101390)\t0.2000459423870313\n",
      "  (0, 93190)\t0.2336706101908624\n",
      "  (0, 90202)\t0.15895150925177895\n",
      "  (0, 90194)\t0.2422028850097065\n",
      "  (0, 86618)\t0.22621273447555504\n",
      "  (0, 83911)\t0.05065592095620528\n",
      "  (0, 74931)\t0.2600386536790394\n",
      "  (0, 73389)\t0.24059670956089538\n",
      "  (0, 73147)\t0.1527213738407542\n",
      "  (0, 67672)\t0.302190544526347\n",
      "  (0, 60072)\t0.20522269954718966\n",
      "  (0, 59359)\t0.09665684802622757\n",
      "  (0, 55378)\t0.17708536754875864\n",
      "  (0, 54057)\t0.1535006041057762\n",
      "  (0, 48623)\t0.0645852338334694\n",
      "  (0, 43847)\t0.1796418862108733\n",
      "  (0, 38153)\t0.06776956001774075\n",
      "  (0, 34392)\t0.06386634950171083\n",
      "  (0, 33896)\t0.09070955366813374\n",
      "  (0, 31631)\t0.27526647454974834\n",
      "  (0, 24689)\t0.2812553189769417\n",
      "  (0, 24388)\t0.2398635742945127\n",
      "  (0, 17263)\t0.2733432712671953\n",
      "  (0, 112051)\t0.04997423833139309\n",
      "  (0, 110686)\t0.16355663759359837\n",
      "  (0, 106558)\t0.23707266210969294\n",
      "  (0, 101390)\t0.2058336743280604\n",
      "  (0, 93190)\t0.24043117148065285\n",
      "  (0, 90202)\t0.16355029649131927\n",
      "  (0, 90194)\t0.24921030219124565\n",
      "  (0, 86618)\t0.23275752440315411\n",
      "  (0, 83911)\t0.05212149875409558\n",
      "  (0, 74931)\t0.26756209556364696\n",
      "  (0, 73389)\t0.24755765685238298\n",
      "  (0, 73147)\t0.15713991071737762\n",
      "  (0, 67672)\t0.3109335254934306\n",
      "  (0, 60072)\t0.21116020549717532\n",
      "  (0, 59359)\t0.09945332527523004\n",
      "  (0, 55378)\t0.1822088038245512\n",
      "  (0, 54057)\t0.1579416856830842\n",
      "  (0, 48623)\t0.0664538147020261\n",
      "  (0, 43847)\t0.18483928771956187\n",
      "  (0, 38153)\t0.06973026985501057\n",
      "  (0, 34392)\t0.06571413159894943\n",
      "  (0, 33896)\t0.09333396371543089\n",
      "  (0, 25632)\t0.2620781297949096\n",
      "  (0, 17263)\t0.28125164252982127\n",
      "  (0, 17061)\t0.20859067635402606\n",
      "  (0, 14547)\t0.2323431861791592\n",
      "  (0, 112051)\t0.049031327605212595\n",
      "  (0, 110686)\t0.16047066143719657\n",
      "  (0, 106558)\t0.23259959031408\n",
      "  (0, 101390)\t0.20195001775192503\n",
      "  (0, 93190)\t0.23589473154546256\n",
      "  (0, 90202)\t0.1604644399784289\n",
      "  (0, 90194)\t0.24450821818042853\n",
      "  (0, 86618)\t0.2283658703492476\n",
      "  (0, 83911)\t0.05113807365586918\n",
      "  (0, 74931)\t0.26251375109157504\n",
      "  (0, 73389)\t0.24288675484790787\n",
      "  (0, 73147)\t0.15417500495245307\n",
      "  (0, 67672)\t0.3050668516609512\n",
      "  (0, 60072)\t0.20717604827229794\n",
      "  (0, 59359)\t0.09757684630751712\n",
      "  (0, 55378)\t0.1787708997910492\n",
      "  (0, 54057)\t0.15496165207948936\n",
      "  (0, 48623)\t0.065199968384997\n",
      "  (0, 43847)\t0.1813517518845064\n",
      "  (0, 38153)\t0.06841460359213035\n",
      "  (0, 34392)\t0.06447424157530574\n",
      "  (0, 33896)\t0.09157294446946197\n",
      "  (0, 31960)\t0.2602798818752235\n",
      "  (0, 17263)\t0.2759450045629019\n",
      "  (0, 6962)\t0.3050668516609512\n",
      "  (0, 3745)\t0.19114161776508082\n",
      "  (0, 112051)\t0.04902712607130786\n",
      "  (0, 110686)\t0.16045691057713068\n",
      "  (0, 106558)\t0.232579658668076\n",
      "  (0, 101390)\t0.20193271249244932\n",
      "  (0, 93190)\t0.23587451753615574\n",
      "  (0, 90202)\t0.16045068965148482\n",
      "  (0, 90194)\t0.244487266074523\n",
      "  (0, 86618)\t0.2283463014941131\n",
      "  (0, 83911)\t0.05113369159320063\n",
      "  (0, 74931)\t0.2624912560770702\n",
      "  (0, 73389)\t0.24286594168649966\n",
      "  (0, 73147)\t0.15416179357225576\n",
      "  (0, 67672)\t0.3050407102370276\n",
      "  (0, 60072)\t0.20715829519006293\n",
      "  (0, 59359)\t0.09756848486906332\n",
      "  (0, 55378)\t0.17875558076883752\n",
      "  (0, 54057)\t0.15494837329086694\n",
      "  (0, 48623)\t0.06519438134725732\n",
      "  (0, 43847)\t0.18133621170700268\n",
      "  (0, 38153)\t0.0684087410897138\n",
      "  (0, 34392)\t0.06446871672568016\n",
      "  (0, 33896)\t0.09156509751018639\n",
      "  (0, 31362)\t0.297250816922609\n",
      "  (0, 29883)\t0.26973731411280316\n",
      "  (0, 17263)\t0.27592135861348255\n",
      "  (0, 5351)\t0.19070345119671023\n",
      "  (0, 112051)\t0.051029382375847865\n",
      "  (0, 110686)\t0.16700993308843984\n",
      "  (0, 106558)\t0.24207815725839926\n",
      "  (0, 101390)\t0.2101795970047661\n",
      "  (0, 93190)\t0.2455075773881688\n",
      "  (0, 90202)\t0.16700345810165287\n",
      "  (0, 90194)\t0.2544720685523486\n",
      "  (0, 86618)\t0.2376719107725357\n",
      "  (0, 83911)\t0.053221979538489915\n",
      "  (0, 74931)\t0.2732113372746201\n",
      "  (0, 73389)\t0.2527845296574235\n",
      "  (0, 73147)\t0.16045772498480265\n",
      "  (0, 67672)\t0.31749850114088585\n",
      "  (0, 60072)\t0.21561859127143587\n",
      "  (0, 59359)\t0.10155315885687488\n",
      "  (0, 55378)\t0.1860559166695294\n",
      "  (0, 54057)\t0.16127642843423018\n",
      "  (0, 48623)\t0.06785690455702638\n",
      "  (0, 43847)\t0.18874193996861158\n",
      "  (0, 38153)\t0.07120253799580421\n",
      "  (0, 34392)\t0.0671016039628772\n",
      "  (0, 33896)\t0.0953045945694049\n",
      "  (0, 26531)\t0.20067574539462424\n",
      "  (0, 17901)\t0.20671364935985112\n",
      "  (0, 17263)\t0.2871899220417682\n",
      "  (0, 17062)\t0.21816314177038243\n",
      "  (0, 112051)\t0.04978941802223665\n",
      "  (0, 110686)\t0.16295175417098007\n",
      "  (0, 106558)\t0.23619589351518036\n",
      "  (0, 101390)\t0.2050724372468297\n",
      "  (0, 93190)\t0.23954198207171726\n",
      "  (0, 90202)\t0.16294543652007357\n",
      "  (0, 90194)\t0.24828864482069157\n",
      "  (0, 86618)\t0.23189671453280827\n",
      "  (0, 83911)\t0.05192873720664489\n",
      "  (0, 74931)\t0.26657256754137487\n",
      "  (0, 73389)\t0.2466421114793831\n",
      "  (0, 73147)\t0.156558758350692\n",
      "  (0, 67672)\t0.3097835964054129\n",
      "  (0, 60072)\t0.21037926924352543\n",
      "  (0, 59359)\t0.0990855158810755\n",
      "  (0, 55378)\t0.18153493887776476\n",
      "  (0, 54057)\t0.1573575681026808\n",
      "  (0, 48623)\t0.06620804778315068\n",
      "  (0, 43847)\t0.18415569442347107\n",
      "  (0, 38153)\t0.06947238558378459\n",
      "  (0, 34392)\t0.06547110025873118\n",
      "  (0, 33896)\t0.09298878562758707\n",
      "  (0, 32070)\t0.24451699788132245\n",
      "  (0, 29883)\t0.2739312899765786\n",
      "  (0, 17263)\t0.2802114862961551\n",
      "  (0, 5351)\t0.19366857922910105\n",
      "  (0, 112051)\t0.048507977797854526\n",
      "  (0, 110686)\t0.15875783223489592\n",
      "  (0, 106558)\t0.2301168724941061\n",
      "  (0, 101390)\t0.1997944468537144\n",
      "  (0, 93190)\t0.233376842099247\n",
      "  (0, 90202)\t0.15875167718263622\n",
      "  (0, 90194)\t0.2418983902371079\n",
      "  (0, 86618)\t0.22592834234232229\n",
      "  (0, 83911)\t0.05059223689591131\n",
      "  (0, 74931)\t0.2597117359764874\n",
      "  (0, 73389)\t0.24029423405420278\n",
      "  (0, 73147)\t0.15252937422854182\n",
      "  (0, 67672)\t0.30181063393554913\n",
      "  (0, 60072)\t0.20496469585236088\n",
      "  (0, 59359)\t0.09653533211216789\n",
      "  (0, 55378)\t0.17686273779469877\n",
      "  (0, 54057)\t0.15330762485394334\n",
      "  (0, 48623)\t0.06450403799598561\n",
      "  (0, 43847)\t0.17941604242999193\n",
      "  (0, 38153)\t0.06768436088080279\n",
      "  (0, 34392)\t0.06378605743761157\n",
      "  (0, 33896)\t0.09059551462637917\n",
      "  (0, 17263)\t0.27299962714742143\n",
      "  (0, 7714)\t0.282751854725295\n",
      "  (0, 5528)\t0.2520308865086867\n",
      "  (0, 2326)\t0.2663110846153168\n",
      "  (0, 112051)\t0.048083095675134774\n",
      "  (0, 110686)\t0.15736726994348388\n",
      "  (0, 106558)\t0.22810127527283314\n",
      "  (0, 101390)\t0.1980444442244442\n",
      "  (0, 93190)\t0.23133269075412236\n",
      "  (0, 90202)\t0.15736116880342146\n",
      "  (0, 90194)\t0.23977959852093417\n",
      "  (0, 86618)\t0.22394943252099372\n",
      "  (0, 83911)\t0.050149098715732914\n",
      "  (0, 74931)\t0.2574369168913306\n",
      "  (0, 73389)\t0.23818949316667845\n",
      "  (0, 73147)\t0.15119336709649014\n",
      "  (0, 67672)\t0.299167069956438\n",
      "  (0, 60072)\t0.20316940693268523\n",
      "  (0, 59359)\t0.09568977765520414\n",
      "  (0, 55378)\t0.17531359435735758\n",
      "  (0, 54057)\t0.15196480101270812\n",
      "  (0, 48623)\t0.06393904613625606\n",
      "  (0, 43847)\t0.17784453455812588\n",
      "  (0, 38153)\t0.06709151252406842\n",
      "  (0, 34392)\t0.06322735438062255\n",
      "  (0, 33896)\t0.089801987122022\n",
      "  (0, 27850)\t0.2850273182941691\n",
      "  (0, 27180)\t0.2526756571719707\n",
      "  (0, 17263)\t0.2706084192193674\n",
      "  (0, 3452)\t0.28810811303540584\n",
      "  (0, 112051)\t0.04915869284348118\n",
      "  (0, 110686)\t0.16088750481116412\n",
      "  (0, 106558)\t0.23320379794394597\n",
      "  (0, 101390)\t0.2024746091384039\n",
      "  (0, 93190)\t0.23650749873242316\n",
      "  (0, 90202)\t0.1608812671913497\n",
      "  (0, 90194)\t0.24514336001705025\n",
      "  (0, 86618)\t0.22895908034192078\n",
      "  (0, 83911)\t0.05127091144048351\n",
      "  (0, 74931)\t0.26319566463725275\n",
      "  (0, 73389)\t0.2435176847230393\n",
      "  (0, 73147)\t0.15457549454145497\n",
      "  (0, 67672)\t0.30585930240922576\n",
      "  (0, 60072)\t0.20771421495145062\n",
      "  (0, 59359)\t0.09783031483236555\n",
      "  (0, 55378)\t0.17923528040971626\n",
      "  (0, 54057)\t0.15536418508651934\n",
      "  (0, 48623)\t0.06536933376656126\n",
      "  (0, 43847)\t0.1818228366015096\n",
      "  (0, 38153)\t0.0685923194059407\n",
      "  (0, 34392)\t0.06464172178727438\n",
      "  (0, 33896)\t0.09181081707991252\n",
      "  (0, 26112)\t0.26767237329495974\n",
      "  (0, 26111)\t0.2206478746670693\n",
      "  (0, 17263)\t0.2766618075329981\n",
      "  (0, 2326)\t0.26988354088835487\n",
      "  (0, 112051)\t0.048825884160438225\n",
      "  (0, 110686)\t0.15979828222412845\n",
      "  (0, 106558)\t0.23162498767896492\n",
      "  (0, 101390)\t0.20110383818988542\n",
      "  (0, 93190)\t0.23490632212193976\n",
      "  (0, 90202)\t0.1597920868335499\n",
      "  (0, 90194)\t0.2434837178645674\n",
      "  (0, 86618)\t0.22740900718920423\n",
      "  (0, 83911)\t0.05092380285138314\n",
      "  (0, 74931)\t0.26141380679149123\n",
      "  (0, 73389)\t0.24186904853557223\n",
      "  (0, 73147)\t0.15352900482024026\n",
      "  (0, 67672)\t0.3037886079756827\n",
      "  (0, 60072)\t0.20630797140979673\n",
      "  (0, 59359)\t0.09716799497889218\n",
      "  (0, 55378)\t0.17802184176483776\n",
      "  (0, 54057)\t0.15431235586080505\n",
      "  (0, 48623)\t0.06492677761578011\n",
      "  (0, 43847)\t0.18059187997316417\n",
      "  (0, 38153)\t0.06812794335833024\n",
      "  (0, 34392)\t0.06420409163371947\n",
      "  (0, 33896)\t0.09118924975673838\n",
      "  (0, 30553)\t0.30955893076158075\n",
      "  (0, 29883)\t0.26863012189341934\n",
      "  (0, 17263)\t0.2747887827130237\n",
      "  (0, 5351)\t0.18992066970402308\n",
      "  (0, 112051)\t0.05031493799222294\n",
      "  (0, 110686)\t0.16467168592280132\n",
      "  (0, 106558)\t0.2386889063641264\n",
      "  (0, 101390)\t0.20723694660138445\n",
      "  (0, 93190)\t0.2420703123922798\n",
      "  (0, 90202)\t0.16466530159002052\n",
      "  (0, 90194)\t0.25090929487761393\n",
      "  (0, 86618)\t0.2343443501811457\n",
      "  (0, 83911)\t0.05247683737536094\n",
      "  (0, 74931)\t0.2693862017081961\n",
      "  (0, 73389)\t0.24924538261953003\n",
      "  (0, 73147)\t0.1582112129737366\n",
      "  (0, 67672)\t0.31305331661408276\n",
      "  (0, 60072)\t0.21259979142776178\n",
      "  (0, 59359)\t0.10013134889942175\n",
      "  (0, 55378)\t0.18345101340564732\n",
      "  (0, 54057)\t0.15901845404494072\n",
      "  (0, 48623)\t0.06690686397072516\n",
      "  (0, 43847)\t0.18609943063992984\n",
      "  (0, 38153)\t0.07020565637579426\n",
      "  (0, 34392)\t0.066162138073786\n",
      "  (0, 33896)\t0.09397026855655494\n",
      "  (0, 23379)\t0.26281268147057196\n",
      "  (0, 17263)\t0.2831690772405281\n",
      "  (0, 14546)\t0.20704910237350957\n",
      "  (0, 12677)\t0.2069555844200972\n"
     ]
    }
   ],
   "source": [
    "# Suponha que cls seja o seu modelo MiniBatchKMeans já treinado\n",
    "cluster_to_print = 5  # O número do cluster que você deseja imprimir\n",
    "\n",
    "# Encontre os índices dos pontos de dados que pertencem ao cluster escolhido\n",
    "cluster_indices = [i for i, label in enumerate(cls.labels_) if label == cluster_to_print]\n",
    "\n",
    "# Imprima os dados pertencentes ao cluster escolhido\n",
    "for index in cluster_indices:\n",
    "    print(features[index])\n"
   ]
  },
  {
   "cell_type": "code",
   "execution_count": 12,
   "id": "c4cdbf6a",
   "metadata": {},
   "outputs": [
    {
     "ename": "MemoryError",
     "evalue": "Unable to allocate 260. GiB for an array with shape (292908, 119168) and data type float64",
     "output_type": "error",
     "traceback": [
      "\u001b[1;31m---------------------------------------------------------------------------\u001b[0m",
      "\u001b[1;31mMemoryError\u001b[0m                               Traceback (most recent call last)",
      "Cell \u001b[1;32mIn[12], line 6\u001b[0m\n\u001b[0;32m      3\u001b[0m \u001b[38;5;66;03m#Visualização gráfica 2D\u001b[39;00m\n\u001b[0;32m      4\u001b[0m \u001b[38;5;66;03m# Converte as features para 2D\u001b[39;00m\n\u001b[0;32m      5\u001b[0m pca \u001b[38;5;241m=\u001b[39m PCA(n_components\u001b[38;5;241m=\u001b[39m\u001b[38;5;241m2\u001b[39m, random_state\u001b[38;5;241m=\u001b[39m \u001b[38;5;241m0\u001b[39m)\n\u001b[1;32m----> 6\u001b[0m reduced_features \u001b[38;5;241m=\u001b[39m pca\u001b[38;5;241m.\u001b[39mfit_transform(\u001b[43mfeatures\u001b[49m\u001b[38;5;241;43m.\u001b[39;49m\u001b[43mtoarray\u001b[49m\u001b[43m(\u001b[49m\u001b[43m)\u001b[49m)\n\u001b[0;32m      8\u001b[0m \u001b[38;5;66;03m# Converte os centros dos clusters para 2D\u001b[39;00m\n\u001b[0;32m      9\u001b[0m reduced_cluster_centers \u001b[38;5;241m=\u001b[39m pca\u001b[38;5;241m.\u001b[39mtransform(\u001b[38;5;28mcls\u001b[39m\u001b[38;5;241m.\u001b[39mcluster_centers_)\n",
      "File \u001b[1;32m~\\anaconda3\\lib\\site-packages\\scipy\\sparse\\_compressed.py:1051\u001b[0m, in \u001b[0;36m_cs_matrix.toarray\u001b[1;34m(self, order, out)\u001b[0m\n\u001b[0;32m   1049\u001b[0m \u001b[38;5;28;01mif\u001b[39;00m out \u001b[38;5;129;01mis\u001b[39;00m \u001b[38;5;28;01mNone\u001b[39;00m \u001b[38;5;129;01mand\u001b[39;00m order \u001b[38;5;129;01mis\u001b[39;00m \u001b[38;5;28;01mNone\u001b[39;00m:\n\u001b[0;32m   1050\u001b[0m     order \u001b[38;5;241m=\u001b[39m \u001b[38;5;28mself\u001b[39m\u001b[38;5;241m.\u001b[39m_swap(\u001b[38;5;124m'\u001b[39m\u001b[38;5;124mcf\u001b[39m\u001b[38;5;124m'\u001b[39m)[\u001b[38;5;241m0\u001b[39m]\n\u001b[1;32m-> 1051\u001b[0m out \u001b[38;5;241m=\u001b[39m \u001b[38;5;28;43mself\u001b[39;49m\u001b[38;5;241;43m.\u001b[39;49m\u001b[43m_process_toarray_args\u001b[49m\u001b[43m(\u001b[49m\u001b[43morder\u001b[49m\u001b[43m,\u001b[49m\u001b[43m \u001b[49m\u001b[43mout\u001b[49m\u001b[43m)\u001b[49m\n\u001b[0;32m   1052\u001b[0m \u001b[38;5;28;01mif\u001b[39;00m \u001b[38;5;129;01mnot\u001b[39;00m (out\u001b[38;5;241m.\u001b[39mflags\u001b[38;5;241m.\u001b[39mc_contiguous \u001b[38;5;129;01mor\u001b[39;00m out\u001b[38;5;241m.\u001b[39mflags\u001b[38;5;241m.\u001b[39mf_contiguous):\n\u001b[0;32m   1053\u001b[0m     \u001b[38;5;28;01mraise\u001b[39;00m \u001b[38;5;167;01mValueError\u001b[39;00m(\u001b[38;5;124m'\u001b[39m\u001b[38;5;124mOutput array must be C or F contiguous\u001b[39m\u001b[38;5;124m'\u001b[39m)\n",
      "File \u001b[1;32m~\\anaconda3\\lib\\site-packages\\scipy\\sparse\\_base.py:1298\u001b[0m, in \u001b[0;36mspmatrix._process_toarray_args\u001b[1;34m(self, order, out)\u001b[0m\n\u001b[0;32m   1296\u001b[0m     \u001b[38;5;28;01mreturn\u001b[39;00m out\n\u001b[0;32m   1297\u001b[0m \u001b[38;5;28;01melse\u001b[39;00m:\n\u001b[1;32m-> 1298\u001b[0m     \u001b[38;5;28;01mreturn\u001b[39;00m \u001b[43mnp\u001b[49m\u001b[38;5;241;43m.\u001b[39;49m\u001b[43mzeros\u001b[49m\u001b[43m(\u001b[49m\u001b[38;5;28;43mself\u001b[39;49m\u001b[38;5;241;43m.\u001b[39;49m\u001b[43mshape\u001b[49m\u001b[43m,\u001b[49m\u001b[43m \u001b[49m\u001b[43mdtype\u001b[49m\u001b[38;5;241;43m=\u001b[39;49m\u001b[38;5;28;43mself\u001b[39;49m\u001b[38;5;241;43m.\u001b[39;49m\u001b[43mdtype\u001b[49m\u001b[43m,\u001b[49m\u001b[43m \u001b[49m\u001b[43morder\u001b[49m\u001b[38;5;241;43m=\u001b[39;49m\u001b[43morder\u001b[49m\u001b[43m)\u001b[49m\n",
      "\u001b[1;31mMemoryError\u001b[0m: Unable to allocate 260. GiB for an array with shape (292908, 119168) and data type float64"
     ]
    },
    {
     "data": {
      "image/png": "[encoded data removed]",
      "text/plain": [
       "<Figure size 1100x550 with 1 Axes>"
      ]
     },
     "metadata": {},
     "output_type": "display_data"
    }
   ],
   "source": [
    "fig = plt.figure(figsize=plt.figaspect(0.5))\n",
    "ax = fig.add_subplot(1, 2, 1)\n",
    "#Visualização gráfica 2D\n",
    "# Converte as features para 2D\n",
    "pca = PCA(n_components=2, random_state= 0)\n",
    "reduced_features = pca.fit_transform(features.toarray())\n",
    "\n",
    "# Converte os centros dos clusters para 2D\n",
    "reduced_cluster_centers = pca.transform(cls.cluster_centers_)\n",
    "#Plota gráfico 2D\n",
    "ax.scatter(reduced_features[:,0], reduced_features[:,1], c=cls.predict(features))\n",
    "ax.scatter(reduced_cluster_centers[:, 0], reduced_cluster_centers[:,1], marker='o', s=150, edgecolor='k')\n",
    "#Plota números nos clusters\n",
    "for i, c in enumerate(reduced_cluster_centers):\n",
    "    ax.scatter(c[0], c[1], marker='$%d$' % i, alpha=1,s=50, edgecolor='k')\n",
    "\n",
    "#Adiciona informações no gráfico\n",
    "plt.title(\"Análise de cluster k = %d\" % cluster)\n",
    "plt.xlabel('Dispersão em X')\n",
    "plt.ylabel('Dispersão em Y')\n",
    "\n",
    "#Visualização gráfica 3D\n",
    "ax = fig.add_subplot(1, 2, 2,projection=\"3d\")\n",
    "\n",
    "# ax = plt.axes(projection=\"3d\")\n",
    "# Adiciona informações no gráfico\n",
    "plt.title(\"Análise de cluster k = %d\" % cluster)\n",
    "plt.xlabel('Dispersão em X')\n",
    "plt.ylabel('Dispersão em Y')\n",
    "\n",
    "#converte dados para 3D\n",
    "pca = PCA(n_components=3, random_state=0)\n",
    "reduced_features = pca.fit_transform(features.toarray())\n",
    "\n",
    "#Plota dados em 3D\n",
    "ax.scatter3D(reduced_features[:,0], reduced_features[:,1], reduced_features[:,2], marker='o', s=150, edgecolor='k', c=cls.predict(features))\n",
    "# Converte os centros dos clusters para 3D\n",
    "reduced_cluster_centers = pca.transform(cls.cluster_centers_)\n",
    "\n",
    "#Salva arquivo de imagem 3D\n",
    "plt.savefig(\"imagens/grafico_cluster_k=%d\" % cluster)\n",
    "plt.show()"
   ]
  },
  {
   "cell_type": "code",
   "execution_count": 13,
   "id": "6b6d42dd",
   "metadata": {},
   "outputs": [
    {
     "name": "stderr",
     "output_type": "stream",
     "text": [
      "C:\\Users\\caios\\anaconda3\\lib\\site-packages\\sklearn\\cluster\\_kmeans.py:870: FutureWarning: The default value of `n_init` will change from 3 to 'auto' in 1.4. Set the value of `n_init` explicitly to suppress the warning\n",
      "  warnings.warn(\n"
     ]
    },
    {
     "ename": "MemoryError",
     "evalue": "Unable to allocate 260. GiB for an array with shape (292908, 119168) and data type float64",
     "output_type": "error",
     "traceback": [
      "\u001b[1;31m---------------------------------------------------------------------------\u001b[0m",
      "\u001b[1;31mMemoryError\u001b[0m                               Traceback (most recent call last)",
      "Cell \u001b[1;32mIn[13], line 11\u001b[0m\n\u001b[0;32m      8\u001b[0m ax \u001b[38;5;241m=\u001b[39m fig\u001b[38;5;241m.\u001b[39madd_subplot(\u001b[38;5;241m1\u001b[39m, \u001b[38;5;241m2\u001b[39m, \u001b[38;5;241m1\u001b[39m)\n\u001b[0;32m     10\u001b[0m pca \u001b[38;5;241m=\u001b[39m PCA(n_components\u001b[38;5;241m=\u001b[39m\u001b[38;5;241m2\u001b[39m, random_state\u001b[38;5;241m=\u001b[39m\u001b[38;5;241m0\u001b[39m)\n\u001b[1;32m---> 11\u001b[0m reduced_features \u001b[38;5;241m=\u001b[39m pca\u001b[38;5;241m.\u001b[39mfit_transform(\u001b[43mfeatures\u001b[49m\u001b[38;5;241;43m.\u001b[39;49m\u001b[43mtoarray\u001b[49m\u001b[43m(\u001b[49m\u001b[43m)\u001b[49m)\n\u001b[0;32m     12\u001b[0m reduced_cluster_centers \u001b[38;5;241m=\u001b[39m pca\u001b[38;5;241m.\u001b[39mtransform(\u001b[38;5;28mcls\u001b[39m\u001b[38;5;241m.\u001b[39mcluster_centers_)\n\u001b[0;32m     14\u001b[0m ax\u001b[38;5;241m.\u001b[39mscatter(reduced_features[:, \u001b[38;5;241m0\u001b[39m], reduced_features[:, \u001b[38;5;241m1\u001b[39m], c\u001b[38;5;241m=\u001b[39m\u001b[38;5;28mcls\u001b[39m\u001b[38;5;241m.\u001b[39mpredict(features))\n",
      "File \u001b[1;32m~\\anaconda3\\lib\\site-packages\\scipy\\sparse\\_compressed.py:1051\u001b[0m, in \u001b[0;36m_cs_matrix.toarray\u001b[1;34m(self, order, out)\u001b[0m\n\u001b[0;32m   1049\u001b[0m \u001b[38;5;28;01mif\u001b[39;00m out \u001b[38;5;129;01mis\u001b[39;00m \u001b[38;5;28;01mNone\u001b[39;00m \u001b[38;5;129;01mand\u001b[39;00m order \u001b[38;5;129;01mis\u001b[39;00m \u001b[38;5;28;01mNone\u001b[39;00m:\n\u001b[0;32m   1050\u001b[0m     order \u001b[38;5;241m=\u001b[39m \u001b[38;5;28mself\u001b[39m\u001b[38;5;241m.\u001b[39m_swap(\u001b[38;5;124m'\u001b[39m\u001b[38;5;124mcf\u001b[39m\u001b[38;5;124m'\u001b[39m)[\u001b[38;5;241m0\u001b[39m]\n\u001b[1;32m-> 1051\u001b[0m out \u001b[38;5;241m=\u001b[39m \u001b[38;5;28;43mself\u001b[39;49m\u001b[38;5;241;43m.\u001b[39;49m\u001b[43m_process_toarray_args\u001b[49m\u001b[43m(\u001b[49m\u001b[43morder\u001b[49m\u001b[43m,\u001b[49m\u001b[43m \u001b[49m\u001b[43mout\u001b[49m\u001b[43m)\u001b[49m\n\u001b[0;32m   1052\u001b[0m \u001b[38;5;28;01mif\u001b[39;00m \u001b[38;5;129;01mnot\u001b[39;00m (out\u001b[38;5;241m.\u001b[39mflags\u001b[38;5;241m.\u001b[39mc_contiguous \u001b[38;5;129;01mor\u001b[39;00m out\u001b[38;5;241m.\u001b[39mflags\u001b[38;5;241m.\u001b[39mf_contiguous):\n\u001b[0;32m   1053\u001b[0m     \u001b[38;5;28;01mraise\u001b[39;00m \u001b[38;5;167;01mValueError\u001b[39;00m(\u001b[38;5;124m'\u001b[39m\u001b[38;5;124mOutput array must be C or F contiguous\u001b[39m\u001b[38;5;124m'\u001b[39m)\n",
      "File \u001b[1;32m~\\anaconda3\\lib\\site-packages\\scipy\\sparse\\_base.py:1298\u001b[0m, in \u001b[0;36mspmatrix._process_toarray_args\u001b[1;34m(self, order, out)\u001b[0m\n\u001b[0;32m   1296\u001b[0m     \u001b[38;5;28;01mreturn\u001b[39;00m out\n\u001b[0;32m   1297\u001b[0m \u001b[38;5;28;01melse\u001b[39;00m:\n\u001b[1;32m-> 1298\u001b[0m     \u001b[38;5;28;01mreturn\u001b[39;00m \u001b[43mnp\u001b[49m\u001b[38;5;241;43m.\u001b[39;49m\u001b[43mzeros\u001b[49m\u001b[43m(\u001b[49m\u001b[38;5;28;43mself\u001b[39;49m\u001b[38;5;241;43m.\u001b[39;49m\u001b[43mshape\u001b[49m\u001b[43m,\u001b[49m\u001b[43m \u001b[49m\u001b[43mdtype\u001b[49m\u001b[38;5;241;43m=\u001b[39;49m\u001b[38;5;28;43mself\u001b[39;49m\u001b[38;5;241;43m.\u001b[39;49m\u001b[43mdtype\u001b[49m\u001b[43m,\u001b[49m\u001b[43m \u001b[49m\u001b[43morder\u001b[49m\u001b[38;5;241;43m=\u001b[39;49m\u001b[43morder\u001b[49m\u001b[43m)\u001b[49m\n",
      "\u001b[1;31mMemoryError\u001b[0m: Unable to allocate 260. GiB for an array with shape (292908, 119168) and data type float64"
     ]
    },
    {
     "data": {
      "image/png": "[encoded data removed]",
      "text/plain": [
       "<Figure size 1100x550 with 1 Axes>"
      ]
     },
     "metadata": {},
     "output_type": "display_data"
    }
   ],
   "source": [
    "for cluster in range(2, 250):\n",
    "    cls = MiniBatchKMeans(n_clusters=cluster, random_state=42)  # Você pode alterar o valor de random_state\n",
    "\n",
    "    cls.fit(features)\n",
    "\n",
    "    # Visualização 2D\n",
    "    fig = plt.figure(figsize=plt.figaspect(0.5))\n",
    "    ax = fig.add_subplot(1, 2, 1)\n",
    "\n",
    "    pca = PCA(n_components=2, random_state=0)\n",
    "    reduced_features = pca.fit_transform(features.toarray())\n",
    "    reduced_cluster_centers = pca.transform(cls.cluster_centers_)\n",
    "\n",
    "    ax.scatter(reduced_features[:, 0], reduced_features[:, 1], c=cls.predict(features))\n",
    "    ax.scatter(reduced_cluster_centers[:, 0], reduced_cluster_centers[:, 1], marker='o', s=150, edgecolor='k')\n",
    "\n",
    "    for i, c in enumerate(reduced_cluster_centers):\n",
    "        ax.scatter(c[0], c[1], marker='$%d$' % i, alpha=1, s=50, edgecolor='k')\n",
    "\n",
    "    plt.title(\"Análise de cluster k = %d\" % cluster)\n",
    "    plt.xlabel('Dispersão em X')\n",
    "    plt.ylabel('Dispersão em Y')\n",
    "\n",
    "    # Visualização 3D\n",
    "    ax = fig.add_subplot(1, 2, 2, projection=\"3d\")\n",
    "\n",
    "    pca = PCA(n_components=3, random_state=0)\n",
    "    reduced_features = pca.fit_transform(features.toarray())\n",
    "    reduced_cluster_centers = pca.transform(cls.cluster_centers_)\n",
    "\n",
    "    ax.scatter3D(reduced_features[:, 0], reduced_features[:, 1], reduced_features[:, 2], marker='o', s=150, edgecolor='k', c=cls.predict(features))\n",
    "\n",
    "    plt.title(\"Análise de cluster k = %d\" % cluster)\n",
    "    plt.xlabel('Dispersão em X')\n",
    "    plt.ylabel('Dispersão em Y')\n",
    "\n",
    "    # Salva o arquivo de imagem 3D\n",
    "    plt.savefig(\"imagens/grafico_cluster_k=%d\" % cluster)\n",
    "    plt.show()"
   ]
  },
  {
   "cell_type": "code",
   "execution_count": 11,
   "id": "ea9e0fc8",
   "metadata": {},
   "outputs": [],
   "source": [
    "# Defina qual cluster você deseja imprimir\n",
    "cluster_to_print = 140  # Substitua pelo número do cluster desejado\n",
    "\n",
    "# Crie uma instância do modelo K-Means para o cluster escolhido\n",
    "cls = MiniBatchKMeans(n_clusters=cluster_to_print, random_state=42)\n",
    "cls.fit(features)\n",
    "\n",
    "# Encontre os índices dos pontos de dados que pertencem ao cluster escolhido\n",
    "cluster_indices = [i for i, label in enumerate(cls.labels_) if label == cluster_to_print]\n",
    "\n",
    "# Imprima os dados pertencentes ao cluster escolhido\n",
    "for index in cluster_indices:\n",
    "    print(features[index])"
   ]
  },
  {
   "cell_type": "code",
   "execution_count": null,
   "id": "7ff731ba",
   "metadata": {},
   "outputs": [],
   "source": []
  },
  {
   "cell_type": "code",
   "execution_count": 14,
   "id": "727b9bc5",
   "metadata": {},
   "outputs": [
    {
     "data": {
      "text/html": [
       "<div>\n",
       "<style scoped>\n",
       "    .dataframe tbody tr th:only-of-type {\n",
       "        vertical-align: middle;\n",
       "    }\n",
       "\n",
       "    .dataframe tbody tr th {\n",
       "        vertical-align: top;\n",
       "    }\n",
       "\n",
       "    .dataframe thead th {\n",
       "        text-align: right;\n",
       "    }\n",
       "</style>\n",
       "<table border=\"1\" class=\"dataframe\">\n",
       "  <thead>\n",
       "    <tr style=\"text-align: right;\">\n",
       "      <th></th>\n",
       "      <th>cod_item</th>\n",
       "      <th>desc</th>\n",
       "      <th>status</th>\n",
       "      <th>cod_grupo</th>\n",
       "      <th>grupo</th>\n",
       "      <th>cod_classe</th>\n",
       "      <th>classe</th>\n",
       "      <th>cod_classif</th>\n",
       "      <th>classif</th>\n",
       "      <th>material_servico</th>\n",
       "      <th>complex</th>\n",
       "    </tr>\n",
       "  </thead>\n",
       "  <tbody>\n",
       "    <tr>\n",
       "      <th>0</th>\n",
       "      <td>449284</td>\n",
       "      <td>pecas  acessorios armamento material aco  tipo...</td>\n",
       "      <td>ATIVO</td>\n",
       "      <td>10.0</td>\n",
       "      <td>ARMAMENTO</td>\n",
       "      <td>1005.0</td>\n",
       "      <td>ARMAS DE FOGO DE CALIBRE ATE 120MM</td>\n",
       "      <td>1712.0</td>\n",
       "      <td>PECAS / ACESSORIOS ARMAMENTO</td>\n",
       "      <td>MATERIAL</td>\n",
       "      <td>1.0</td>\n",
       "    </tr>\n",
       "    <tr>\n",
       "      <th>1</th>\n",
       "      <td>447288</td>\n",
       "      <td>pecas  acessorios armamento material aco  tipo...</td>\n",
       "      <td>ATIVO</td>\n",
       "      <td>10.0</td>\n",
       "      <td>ARMAMENTO</td>\n",
       "      <td>1005.0</td>\n",
       "      <td>ARMAS DE FOGO DE CALIBRE ATE 120MM</td>\n",
       "      <td>1712.0</td>\n",
       "      <td>PECAS / ACESSORIOS ARMAMENTO</td>\n",
       "      <td>MATERIAL</td>\n",
       "      <td>1.0</td>\n",
       "    </tr>\n",
       "    <tr>\n",
       "      <th>2</th>\n",
       "      <td>236330</td>\n",
       "      <td>bucha placa punho material aco com rosca inter...</td>\n",
       "      <td>ATIVO</td>\n",
       "      <td>10.0</td>\n",
       "      <td>ARMAMENTO</td>\n",
       "      <td>1005.0</td>\n",
       "      <td>ARMAS DE FOGO DE CALIBRE ATE 120MM</td>\n",
       "      <td>15001.0</td>\n",
       "      <td>BUCHA PLACA PUNHO</td>\n",
       "      <td>MATERIAL</td>\n",
       "      <td>1.0</td>\n",
       "    </tr>\n",
       "    <tr>\n",
       "      <th>3</th>\n",
       "      <td>451952</td>\n",
       "      <td>pecas  acessorios armamento material metal  ti...</td>\n",
       "      <td>ATIVO</td>\n",
       "      <td>10.0</td>\n",
       "      <td>ARMAMENTO</td>\n",
       "      <td>1005.0</td>\n",
       "      <td>ARMAS DE FOGO DE CALIBRE ATE 120MM</td>\n",
       "      <td>1712.0</td>\n",
       "      <td>PECAS / ACESSORIOS ARMAMENTO</td>\n",
       "      <td>MATERIAL</td>\n",
       "      <td>1.0</td>\n",
       "    </tr>\n",
       "    <tr>\n",
       "      <th>4</th>\n",
       "      <td>448489</td>\n",
       "      <td>pecas  acessorios armamento material aco  tipo...</td>\n",
       "      <td>ATIVO</td>\n",
       "      <td>10.0</td>\n",
       "      <td>ARMAMENTO</td>\n",
       "      <td>1005.0</td>\n",
       "      <td>ARMAS DE FOGO DE CALIBRE ATE 120MM</td>\n",
       "      <td>1712.0</td>\n",
       "      <td>PECAS / ACESSORIOS ARMAMENTO</td>\n",
       "      <td>MATERIAL</td>\n",
       "      <td>1.0</td>\n",
       "    </tr>\n",
       "    <tr>\n",
       "      <th>5</th>\n",
       "      <td>227486</td>\n",
       "      <td>ejetor material aco carbono  funcao liberar ca...</td>\n",
       "      <td>ATIVO</td>\n",
       "      <td>10.0</td>\n",
       "      <td>ARMAMENTO</td>\n",
       "      <td>1005.0</td>\n",
       "      <td>ARMAS DE FOGO DE CALIBRE ATE 120MM</td>\n",
       "      <td>13801.0</td>\n",
       "      <td>EJETOR</td>\n",
       "      <td>MATERIAL</td>\n",
       "      <td>1.0</td>\n",
       "    </tr>\n",
       "    <tr>\n",
       "      <th>6</th>\n",
       "      <td>449229</td>\n",
       "      <td>pecas  acessorios armamento material aco  tipo...</td>\n",
       "      <td>ATIVO</td>\n",
       "      <td>10.0</td>\n",
       "      <td>ARMAMENTO</td>\n",
       "      <td>1005.0</td>\n",
       "      <td>ARMAS DE FOGO DE CALIBRE ATE 120MM</td>\n",
       "      <td>1712.0</td>\n",
       "      <td>PECAS / ACESSORIOS ARMAMENTO</td>\n",
       "      <td>MATERIAL</td>\n",
       "      <td>1.0</td>\n",
       "    </tr>\n",
       "    <tr>\n",
       "      <th>7</th>\n",
       "      <td>446820</td>\n",
       "      <td>pecas  acessorios armamento material aco  tipo...</td>\n",
       "      <td>ATIVO</td>\n",
       "      <td>10.0</td>\n",
       "      <td>ARMAMENTO</td>\n",
       "      <td>1005.0</td>\n",
       "      <td>ARMAS DE FOGO DE CALIBRE ATE 120MM</td>\n",
       "      <td>1712.0</td>\n",
       "      <td>PECAS / ACESSORIOS ARMAMENTO</td>\n",
       "      <td>MATERIAL</td>\n",
       "      <td>1.0</td>\n",
       "    </tr>\n",
       "    <tr>\n",
       "      <th>8</th>\n",
       "      <td>446848</td>\n",
       "      <td>pecas  acessorios armamento material aco  tipo...</td>\n",
       "      <td>ATIVO</td>\n",
       "      <td>10.0</td>\n",
       "      <td>ARMAMENTO</td>\n",
       "      <td>1005.0</td>\n",
       "      <td>ARMAS DE FOGO DE CALIBRE ATE 120MM</td>\n",
       "      <td>1712.0</td>\n",
       "      <td>PECAS / ACESSORIOS ARMAMENTO</td>\n",
       "      <td>MATERIAL</td>\n",
       "      <td>1.0</td>\n",
       "    </tr>\n",
       "    <tr>\n",
       "      <th>9</th>\n",
       "      <td>451985</td>\n",
       "      <td>pecas  acessorios armamento material aco  tipo...</td>\n",
       "      <td>ATIVO</td>\n",
       "      <td>10.0</td>\n",
       "      <td>ARMAMENTO</td>\n",
       "      <td>1005.0</td>\n",
       "      <td>ARMAS DE FOGO DE CALIBRE ATE 120MM</td>\n",
       "      <td>1712.0</td>\n",
       "      <td>PECAS / ACESSORIOS ARMAMENTO</td>\n",
       "      <td>MATERIAL</td>\n",
       "      <td>1.0</td>\n",
       "    </tr>\n",
       "  </tbody>\n",
       "</table>\n",
       "</div>"
      ],
      "text/plain": [
       "   cod_item                                               desc status  \\\n",
       "0    449284  pecas  acessorios armamento material aco  tipo...  ATIVO   \n",
       "1    447288  pecas  acessorios armamento material aco  tipo...  ATIVO   \n",
       "2    236330  bucha placa punho material aco com rosca inter...  ATIVO   \n",
       "3    451952  pecas  acessorios armamento material metal  ti...  ATIVO   \n",
       "4    448489  pecas  acessorios armamento material aco  tipo...  ATIVO   \n",
       "5    227486  ejetor material aco carbono  funcao liberar ca...  ATIVO   \n",
       "6    449229  pecas  acessorios armamento material aco  tipo...  ATIVO   \n",
       "7    446820  pecas  acessorios armamento material aco  tipo...  ATIVO   \n",
       "8    446848  pecas  acessorios armamento material aco  tipo...  ATIVO   \n",
       "9    451985  pecas  acessorios armamento material aco  tipo...  ATIVO   \n",
       "\n",
       "   cod_grupo       grupo  cod_classe                               classe  \\\n",
       "0       10.0   ARMAMENTO      1005.0   ARMAS DE FOGO DE CALIBRE ATE 120MM   \n",
       "1       10.0   ARMAMENTO      1005.0   ARMAS DE FOGO DE CALIBRE ATE 120MM   \n",
       "2       10.0   ARMAMENTO      1005.0   ARMAS DE FOGO DE CALIBRE ATE 120MM   \n",
       "3       10.0   ARMAMENTO      1005.0   ARMAS DE FOGO DE CALIBRE ATE 120MM   \n",
       "4       10.0   ARMAMENTO      1005.0   ARMAS DE FOGO DE CALIBRE ATE 120MM   \n",
       "5       10.0   ARMAMENTO      1005.0   ARMAS DE FOGO DE CALIBRE ATE 120MM   \n",
       "6       10.0   ARMAMENTO      1005.0   ARMAS DE FOGO DE CALIBRE ATE 120MM   \n",
       "7       10.0   ARMAMENTO      1005.0   ARMAS DE FOGO DE CALIBRE ATE 120MM   \n",
       "8       10.0   ARMAMENTO      1005.0   ARMAS DE FOGO DE CALIBRE ATE 120MM   \n",
       "9       10.0   ARMAMENTO      1005.0   ARMAS DE FOGO DE CALIBRE ATE 120MM   \n",
       "\n",
       "   cod_classif                        classif material_servico  complex  \n",
       "0       1712.0   PECAS / ACESSORIOS ARMAMENTO         MATERIAL      1.0  \n",
       "1       1712.0   PECAS / ACESSORIOS ARMAMENTO         MATERIAL      1.0  \n",
       "2      15001.0              BUCHA PLACA PUNHO         MATERIAL      1.0  \n",
       "3       1712.0   PECAS / ACESSORIOS ARMAMENTO         MATERIAL      1.0  \n",
       "4       1712.0   PECAS / ACESSORIOS ARMAMENTO         MATERIAL      1.0  \n",
       "5      13801.0                         EJETOR         MATERIAL      1.0  \n",
       "6       1712.0   PECAS / ACESSORIOS ARMAMENTO         MATERIAL      1.0  \n",
       "7       1712.0   PECAS / ACESSORIOS ARMAMENTO         MATERIAL      1.0  \n",
       "8       1712.0   PECAS / ACESSORIOS ARMAMENTO         MATERIAL      1.0  \n",
       "9       1712.0   PECAS / ACESSORIOS ARMAMENTO         MATERIAL      1.0  "
      ]
     },
     "execution_count": 14,
     "metadata": {},
     "output_type": "execute_result"
    }
   ],
   "source": [
    "df.head(10)"
   ]
  },
  {
   "cell_type": "code",
   "execution_count": null,
   "id": "e82df997",
   "metadata": {},
   "outputs": [],
   "source": []
  },
  {
   "cell_type": "code",
   "execution_count": null,
   "id": "9bbbcbd6",
   "metadata": {},
   "outputs": [],
   "source": []
  },
  {
   "cell_type": "code",
   "execution_count": null,
   "id": "6a65f483",
   "metadata": {},
   "outputs": [],
   "source": []
  },
  {
   "cell_type": "code",
   "execution_count": null,
   "id": "b21780ad",
   "metadata": {},
   "outputs": [],
   "source": []
  },
  {
   "cell_type": "code",
   "execution_count": null,
   "id": "3145de19",
   "metadata": {},
   "outputs": [],
   "source": []
  },
  {
   "cell_type": "code",
   "execution_count": null,
   "id": "48213beb",
   "metadata": {},
   "outputs": [],
   "source": []
  },
  {
   "cell_type": "code",
   "execution_count": null,
   "id": "b9442af0",
   "metadata": {},
   "outputs": [],
   "source": []
  },
  {
   "cell_type": "code",
   "execution_count": null,
   "id": "49400316",
   "metadata": {},
   "outputs": [],
   "source": []
  },
  {
   "cell_type": "code",
   "execution_count": null,
   "id": "4f867162",
   "metadata": {},
   "outputs": [],
   "source": []
  }
 ],
 "metadata": {
  "kernelspec": {
   "display_name": "Python 3 (ipykernel)",
   "language": "python",
   "name": "python3"
  },
  "language_info": {
   "codemirror_mode": {
    "name": "ipython",
    "version": 3
   },
   "file_extension": ".py",
   "mimetype": "text/x-python",
   "name": "python",
   "nbconvert_exporter": "python",
   "pygments_lexer": "ipython3",
   "version": "3.10.9"
  }
 },
 "nbformat": 4,
 "nbformat_minor": 5
}
